{
 "cells": [
  {
   "cell_type": "code",
   "execution_count": 1,
   "metadata": {},
   "outputs": [
    {
     "name": "stdout",
     "output_type": "stream",
     "text": [
      "Writing src/IntBoolTest.sol\n"
     ]
    }
   ],
   "source": [
    "%%writefile src/IntBoolTest.sol\n",
    "pragma solidity  ^0.5.10;\n",
    "\n",
    "contract IntBoolTest {\n",
    "    bool married = true;\n",
    "    uint256 xAge = 22;\n",
    "    uint256 YAge = 25;\n",
    "    //fixed phi = 3.14;\n",
    "    \n",
    "    function update() public {\n",
    "        xAge = YAge;\n",
    "        YAge = 33;\n",
    "    }\n",
    "    \n",
    "    function setXAge(int age) public {\n",
    "        xAge = uint (age); //converstion\n",
    "    }\n",
    "    \n",
    "    function getXAge() public view returns(uint) {\n",
    "        return xAge;\n",
    "    }\n",
    "    \n",
    "    function getYAge() public view returns(uint) {\n",
    "        return YAge;\n",
    "    }\n",
    "    \n",
    "    function testInt() public view returns(bool) {\n",
    "        assert(xAge>=20 && YAge>=20);\n",
    "        return true;\n",
    "    }\n",
    "    \n",
    "    function isMarried() public view returns(bool) {\n",
    "        return married;\n",
    "    }\n",
    "}"
   ]
  },
  {
   "cell_type": "code",
   "execution_count": 2,
   "metadata": {},
   "outputs": [
    {
     "name": "stdout",
     "output_type": "stream",
     "text": [
      "Writing src/ByteStringTest.sol\n"
     ]
    }
   ],
   "source": [
    "%%writefile src/ByteStringTest.sol\n",
    "pragma solidity ^0.5.10;\n",
    "\n",
    "contract ByteStringTest {\n",
    "    byte b = 0xFF;\n",
    "    bytes1 b1 = 0xFF;\n",
    "    bytes2 b2 = 0xFFAA;\n",
    "    bytes place8 = \"7 hongji\";\n",
    "    bytes23 place23 = \"7 hongji-dong jonro-gu\";\n",
    "    bytes place = \"7 hongji-dong jonro-gu Seoul\";\n",
    "    bytes myBytes = new bytes(3); //0x000000\n",
    "    string constant name = \"kys\";\n",
    "    \n",
    "    function getB1() public view returns(byte) {\n",
    "        return b1;  //byte, so no casting required\n",
    "    }\n",
    "    function getB2() public view returns(bytes2) {\n",
    "        return b2;\n",
    "    }\n",
    "    function getB23() public view returns(bytes23) {\n",
    "        return place23;  //fixed size, value type (no memory)\n",
    "    }\n",
    "    /**@return hex bytes. reference type should be set as memory*/\n",
    "    function getBytes() public view returns(bytes memory) {\n",
    "        return myBytes;  //smu in hex 0x736d75\n",
    "    }\n",
    "    function getLengOfBytes23 () view public returns(uint) {\n",
    "        return place23.length;  // returns 23\n",
    "    }\n",
    "    function getLenOfBytes() pure public returns(uint) {\n",
    "        bytes memory bm = \"7 hongji-dong jongro-gu\";\n",
    "        return bm.length;        // returns 23\n",
    "    }\n",
    "     function setB2(bytes2 _b2) public {\n",
    "        b2=_b2;\n",
    "    }\n",
    "    function setBytes() public {\n",
    "        myBytes=\"smu\";\n",
    "    }\n",
    "    function getLenOfString() pure public returns(uint) {\n",
    "        string memory nameLocal=\"jslLocal\";\n",
    "        //return nameLocal.length;  //error, casting required\n",
    "        return bytes(nameLocal).length;\n",
    "    }\n",
    "    function getString() pure public returns(string memory) {\n",
    "        string memory s = \"한글\";\n",
    "        //bytes memory b4 = \"한글\";  //ok. bytes is a ref type, so memory used\n",
    "        return s;\n",
    "    }\n",
    "}"
   ]
  },
  {
   "cell_type": "code",
   "execution_count": 3,
   "metadata": {},
   "outputs": [
    {
     "name": "stdout",
     "output_type": "stream",
     "text": [
      "Writing src/StructTest.sol\n"
     ]
    }
   ],
   "source": [
    "%%writefile src/StructTest.sol\n",
    "pragma solidity ^0.5.10;\n",
    "\n",
    "contract StructTest {\n",
    "    struct Student {\n",
    "        uint num;\n",
    "        string name;\n",
    "        bool isEnrolled;\n",
    "    }\n",
    "    Student s1=Student(201911111,\"jslim\",true);\n",
    "    Student s2;\n",
    "    //memory only for string type\n",
    "    //201711111,\"kim\",false\n",
    "    function setStudent2(uint n, string memory sn, bool e) public {\n",
    "        s2.num = n;\n",
    "        s2.name = sn;\n",
    "        s2.isEnrolled = e;\n",
    "    }\n",
    "   function getStudent1() public view returns(uint, string memory, bool){\n",
    "       return (s1.num, s1.name, s1.isEnrolled);\n",
    "   }\n",
    "   function getStudent2() public view returns(uint, string memory, bool){\n",
    "       return (s2.num, s2.name, s2.isEnrolled);\n",
    "   }\n",
    "   function getStudentName() pure public returns(string memory) {\n",
    "       //the right is locally created, so memory (not storage) is declared\n",
    "       Student memory s3 = Student(201911112, \"jsl3\", true);\n",
    "       return s3.name;\n",
    "   }\n",
    "}"
   ]
  },
  {
   "cell_type": "code",
   "execution_count": 4,
   "metadata": {},
   "outputs": [
    {
     "name": "stdout",
     "output_type": "stream",
     "text": [
      "Writing src/EnumTest.sol\n"
     ]
    }
   ],
   "source": [
    "%%writefile src/EnumTest.sol\n",
    "pragma solidity ^0.5.10;\n",
    "\n",
    "contract EnumTest {\n",
    "    enum Day {MONDAY,TUESDAY,WEDNESDAY,THURSDAY,FRIDAY,SATURDAY,SUNDAY}\n",
    "    Day myDay = Day.FRIDAY; //index int4\n",
    "    \n",
    "    /* @return Day  returning index*/\n",
    "    function getMyDay() public view returns(Day) {\n",
    "        return myDay;   //index\n",
    "    }\n",
    "    /* @param d  ok to pass an integer (uint8)\n",
    "    function setMyDay(Day d) public {\n",
    "        myDay = d;\n",
    "    }\n",
    "    //uint is converted to uint8, which is default\n",
    "    function setMyDayInt(uint d) public {\n",
    "        myDay = Day(d);\n",
    "    }\n",
    "}"
   ]
  },
  {
   "cell_type": "markdown",
   "metadata": {},
   "source": [
    "**배열**"
   ]
  },
  {
   "cell_type": "code",
   "execution_count": 5,
   "metadata": {},
   "outputs": [
    {
     "name": "stdout",
     "output_type": "stream",
     "text": [
      "Writing src/ArrayTest.sol\n"
     ]
    }
   ],
   "source": [
    "%%writefile src/ArrayTest.sol\n",
    "pragma solidity ^0.5.10;\n",
    "\n",
    "contract ArrayTest {\n",
    "    uint[3] ages = [15, 25, 35];\n",
    "    int[] marks; //dynamic ArrayTest\n",
    "    \n",
    "    /* @param index  array index\n",
    "       @param val    value at the index*/\n",
    "    function updateAges(uint index, uint val) public {\n",
    "        if(index>=0 && index <=2)\n",
    "            ages[index] = val;\n",
    "    }\n",
    "    function initMarks() public {\n",
    "        marks = new int[](5);   // default 0\n",
    "    }\n",
    "    function appendMark(int mark) public {\n",
    "        marks.push(mark);\n",
    "    }\n",
    "    function popMark() public {\n",
    "        marks.pop();\n",
    "    }\n",
    "    /* @return dynamic array, so memory is used*/\n",
    "    function getMarks() public view returns(int[] memory) {\n",
    "        return marks;\n",
    "    }\n",
    "    /* @return fixed array, so memory is used*/\n",
    "    function getAges() public view returns(uint[3] memory) {\n",
    "        return ages;\n",
    "    }\n",
    "    function getLenOfArr() pure public returns(uint) {\n",
    "        //memory is used because locally created array is assigned\n",
    "        uint8[3] memory intArr = [0, 1, 2];\n",
    "        return intArr.length;\n",
    "    }\n",
    "}"
   ]
  }
 ],
 "metadata": {
  "kernelspec": {
   "display_name": "Python 3",
   "language": "python",
   "name": "python3"
  },
  "language_info": {
   "codemirror_mode": {
    "name": "ipython",
    "version": 3
   },
   "file_extension": ".py",
   "mimetype": "text/x-python",
   "name": "python",
   "nbconvert_exporter": "python",
   "pygments_lexer": "ipython3",
   "version": "3.7.3"
  }
 },
 "nbformat": 4,
 "nbformat_minor": 2
}
