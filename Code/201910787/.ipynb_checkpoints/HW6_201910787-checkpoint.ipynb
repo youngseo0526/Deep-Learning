{
 "cells": [
  {
   "cell_type": "markdown",
   "metadata": {},
   "source": [
    "## 문제1"
   ]
  },
  {
   "cell_type": "markdown",
   "metadata": {},
   "source": [
    "* **ganache-cli를 백그라운드로 띄우고, node에서 연결하여, coinbase주소를 출력하세요.**"
   ]
  },
  {
   "cell_type": "code",
   "execution_count": 5,
   "metadata": {},
   "outputs": [
    {
     "name": "stdout",
     "output_type": "stream",
     "text": [
      "Overwriting src\\ganacheCommands.js\n"
     ]
    }
   ],
   "source": [
    "%%writefile src\\ganacheCommands.js\n",
    "var Web3=require('web3');\n",
    "var web3=new Web3('http://127.0.0.1:8345');\n",
    "web3.eth.getAccounts(console.log);\n",
    "web3.eth.getCoinbase(console.log);\n",
    "web3.eth.getBalance('0x2288C4706d8D4663F55D1A9fDedB85280eB3b711').then(console.log);"
   ]
  },
  {
   "cell_type": "code",
   "execution_count": 6,
   "metadata": {},
   "outputs": [
    {
     "name": "stdout",
     "output_type": "stream",
     "text": [
      "null [\n",
      "  '0xa3633B857283F0266163e0D58eCdED8f67c257AC',\n",
      "  '0x29Ad2C8e0c39ec17d173de2caDb6aa9489731925',\n",
      "  '0xd2eb8530a82Aa57a776AAaDf3FdBa66F4A378eef',\n",
      "  '0x96e5fbC45C607f25F89a77dB9b015BDF9cF1c5Ec',\n",
      "  '0xeed6b47896E93393e872393DBd7581ff54DCbd7a',\n",
      "  '0x7F5C1857B8203bCfa567f26E58270f6cEDd4Dc11',\n",
      "  '0xB5FD4112a11e5d642315A55B4dA77a7B3C82a723',\n",
      "  '0x58cde1F5b68020245577d9CFB87682CD4fbf8888',\n",
      "  '0xEB2A6f4591eb6755815b1F812f28C8825b3B79DB',\n",
      "  '0x116845e939947DbbB369F6daA9bE55C0001921A5'\n",
      "]\n",
      "null 0xa3633b857283f0266163e0d58ecded8f67c257ac\n",
      "0\n"
     ]
    }
   ],
   "source": [
    "!node src\\ganacheCommands.js"
   ]
  },
  {
   "cell_type": "markdown",
   "metadata": {},
   "source": [
    "* **위 문제를 geth를 띄우고 실행해보세요. geth에서의 coinbase를 출력하세요**"
   ]
  },
  {
   "cell_type": "code",
   "execution_count": 23,
   "metadata": {},
   "outputs": [
    {
     "name": "stdout",
     "output_type": "stream",
     "text": [
      "Overwriting src\\gethCommands.js\n"
     ]
    }
   ],
   "source": [
    "%%writefile src\\gethCommands.js\n",
    "var Web3=require('web3');\n",
    "var web3=new Web3(new Web3.providers.HttpProvider('http://localhost:8445'));\n",
    "web3.eth.getAccounts(console.log);\n",
    "web3.eth.getCoinbase(console.log);\n",
    "web3.eth.getBalance('0xe1e222f7567794c4813f2965719f59c15e8a7a84').then(console.log)"
   ]
  },
  {
   "cell_type": "code",
   "execution_count": 25,
   "metadata": {},
   "outputs": [
    {
     "name": "stdout",
     "output_type": "stream",
     "text": [
      "null [\n",
      "  '0xE1E222F7567794c4813F2965719f59C15e8A7a84',\n",
      "  '0x04337404fa0B3F5280008c1c0FB076Ae50746F00',\n",
      "  '0x8A60d1D2B8d22Fbe84067dbf5D9a1e28c8d990EC'\n",
      "]\n",
      "2334999999999999920000\n",
      "null 0xe1e222f7567794c4813f2965719f59c15e8a7a84\n"
     ]
    }
   ],
   "source": [
    "!node src\\gethCommands.js"
   ]
  },
  {
   "cell_type": "markdown",
   "metadata": {},
   "source": [
    "* **ganache-cli의 coinbase에서 geth의 coinbase로 1 ether를 송금해 보세요. 송금 성공이면 잔고변화를 출력하고, 실패이면 그 이유를 간단히 설명하세요.**"
   ]
  },
  {
   "cell_type": "code",
   "execution_count": 12,
   "metadata": {},
   "outputs": [
    {
     "name": "stdout",
     "output_type": "stream",
     "text": [
      "Overwriting src\\transaction.js\n"
     ]
    }
   ],
   "source": [
    "%%writefile src\\transaction.js\n",
    "var Web3=require('web3');\n",
    "var web3=new Web3('http://127.0.0.1:8345');\n",
    "web3.eth.sendTransaction({from:\"0xa3633B857283F0266163e0D58eCdED8f67c257AC\",\n",
    "                          to:\"0xe1e222f7567794c4813f2965719f59c15e8a7a84\",\n",
    "                         value:(web3.utils.toWei('1','ether'))});"
   ]
  },
  {
   "cell_type": "code",
   "execution_count": 13,
   "metadata": {
    "scrolled": true
   },
   "outputs": [],
   "source": [
    "!node src\\transaction.js"
   ]
  },
  {
   "cell_type": "code",
   "execution_count": 14,
   "metadata": {},
   "outputs": [
    {
     "name": "stdout",
     "output_type": "stream",
     "text": [
      "Overwriting src\\transchk.js\n"
     ]
    }
   ],
   "source": [
    "%%writefile src\\transchk.js\n",
    "var Web3=require('web3');\n",
    "var web3=new Web3('http://127.0.0.1:8345');\n",
    "web3.eth.getBalance('0xa3633B857283F0266163e0D58eCdED8f67c257AC').then(console.log);"
   ]
  },
  {
   "cell_type": "code",
   "execution_count": 15,
   "metadata": {},
   "outputs": [
    {
     "name": "stdout",
     "output_type": "stream",
     "text": [
      "null [\n",
      "  '0xa3633B857283F0266163e0D58eCdED8f67c257AC',\n",
      "  '0x29Ad2C8e0c39ec17d173de2caDb6aa9489731925',\n",
      "  '0xd2eb8530a82Aa57a776AAaDf3FdBa66F4A378eef',\n",
      "  '0x96e5fbC45C607f25F89a77dB9b015BDF9cF1c5Ec',\n",
      "  '0xeed6b47896E93393e872393DBd7581ff54DCbd7a',\n",
      "  '0x7F5C1857B8203bCfa567f26E58270f6cEDd4Dc11',\n",
      "  '0xB5FD4112a11e5d642315A55B4dA77a7B3C82a723',\n",
      "  '0x58cde1F5b68020245577d9CFB87682CD4fbf8888',\n",
      "  '0xEB2A6f4591eb6755815b1F812f28C8825b3B79DB',\n",
      "  '0x116845e939947DbbB369F6daA9bE55C0001921A5'\n",
      "]\n",
      "null 0xa3633b857283f0266163e0d58ecded8f67c257ac\n",
      "0\n"
     ]
    }
   ],
   "source": [
    "!node src\\ganacheCommands.js"
   ]
  },
  {
   "cell_type": "code",
   "execution_count": 34,
   "metadata": {},
   "outputs": [
    {
     "name": "stdout",
     "output_type": "stream",
     "text": [
      "1000420000000000000\n"
     ]
    }
   ],
   "source": [
    "print(98999580000000000000-97999160000000000000)"
   ]
  },
  {
   "cell_type": "markdown",
   "metadata": {},
   "source": [
    "ganache-cli의 계좌에서 1 ether와 gas price값이 빠져나간걸 볼 수 있다."
   ]
  },
  {
   "cell_type": "markdown",
   "metadata": {},
   "source": [
    "## 문제 2"
   ]
  },
  {
   "cell_type": "markdown",
   "metadata": {},
   "source": [
    "* **ganache-cli에 연결하고, 현재 coinbase의 잔고를 ether로 출력하세요.**"
   ]
  },
  {
   "cell_type": "code",
   "execution_count": 16,
   "metadata": {},
   "outputs": [
    {
     "name": "stdout",
     "output_type": "stream",
     "text": [
      "98999580000000000000\n"
     ]
    }
   ],
   "source": [
    "!node src\\transchk.js"
   ]
  },
  {
   "cell_type": "markdown",
   "metadata": {},
   "source": [
    "* **현재 거래소 환전가격을 구해서 한화로 계산하여 얼마인지 출력하세요. 환전가격은 거래소 가격을 읽어서 프로그램에 코딩한다.**"
   ]
  },
  {
   "cell_type": "markdown",
   "metadata": {},
   "source": [
    "- 이더리움 현재 가격 = 2,689,000(ETH/KRW) (2021.04.09)"
   ]
  },
  {
   "cell_type": "code",
   "execution_count": 35,
   "metadata": {},
   "outputs": [
    {
     "name": "stdout",
     "output_type": "stream",
     "text": [
      "Overwriting src\\get_GanacheBal.js\n"
     ]
    }
   ],
   "source": [
    "%%writefile src\\get_GanacheBal.js\n",
    "var Web3=require('web3');\n",
    "var web3=new Web3(new Web3.providers.HttpProvider('http://127.0.0.1:8345'))\n",
    "web3.eth.getBalance(\"0xa3633B857283F0266163e0D58eCdED8f67c257AC\").then(function(wei) {\n",
    "    console.log(\"balance in Wei :\" + wei);\n",
    "});\n",
    "web3.eth.getBalance(\"0xa3633B857283F0266163e0D58eCdED8f67c257AC\").then(function(wei) {\n",
    "    var eth = web3.utils.fromWei(wei, 'ether');\n",
    "    console.log(\"balance in ETH: \" + eth);\n",
    "});\n",
    "web3.eth.getBalance(\"0xa3633B857283F0266163e0D58eCdED8f67c257AC\", function(error,wei) {\n",
    "    if (!error) {\n",
    "        var bal = web3.utils.fromWei(wei, 'ether');\n",
    "        console.log(\"Balance in ETH/KRW: \"+ bal*2689000 + \" won\");\n",
    "    }\n",
    "});\n",
    "//var bal = web3.eth.getBalance('0x2288C4706d8D4663F55D1A9fDedB85280eB3b711').then(web3.utils.fromWei).then(console.log);\n",
    "//console.log(\"Balance in ETH/KRW: \", bal*2689000);"
   ]
  },
  {
   "cell_type": "code",
   "execution_count": 36,
   "metadata": {},
   "outputs": [
    {
     "name": "stdout",
     "output_type": "stream",
     "text": [
      "balance in Wei :98999580000000000000\n",
      "balance in ETH: 98.99958\n",
      "Balance in ETH/KRW: 266209870.61999997 won\n"
     ]
    }
   ],
   "source": [
    "!node src\\get_GanacheBal.js"
   ]
  },
  {
   "cell_type": "code",
   "execution_count": null,
   "metadata": {},
   "outputs": [],
   "source": []
  }
 ],
 "metadata": {
  "kernelspec": {
   "display_name": "Python 3",
   "language": "python",
   "name": "python3"
  },
  "language_info": {
   "codemirror_mode": {
    "name": "ipython",
    "version": 3
   },
   "file_extension": ".py",
   "mimetype": "text/x-python",
   "name": "python",
   "nbconvert_exporter": "python",
   "pygments_lexer": "ipython3",
   "version": "3.7.3"
  }
 },
 "nbformat": 4,
 "nbformat_minor": 2
}
