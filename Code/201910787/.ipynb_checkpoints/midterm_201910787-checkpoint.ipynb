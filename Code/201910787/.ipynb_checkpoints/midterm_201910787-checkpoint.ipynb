{
 "cells": [
  {
   "cell_type": "markdown",
   "metadata": {},
   "source": [
    "## 휴먼지능정보공학과 201910787 김영서"
   ]
  },
  {
   "cell_type": "markdown",
   "metadata": {},
   "source": [
    "## 문제 1번"
   ]
  },
  {
   "cell_type": "markdown",
   "metadata": {},
   "source": [
    "### 문제 1-1의 답"
   ]
  },
  {
   "cell_type": "code",
   "execution_count": 354,
   "metadata": {},
   "outputs": [
    {
     "name": "stdout",
     "output_type": "stream",
     "text": [
      "Overwriting src/1-1.js\n"
     ]
    }
   ],
   "source": [
    "%%writefile src/1-1.js\n",
    "console.log(JSON.stringify(admin.nodeInfo));\n",
    "if (eth.chainId() == 36) {\n",
    "    console.log('\\n Your chainId',eth.chainId(),'@127.0.0.1 is a private network');\n",
    "}"
   ]
  },
  {
   "cell_type": "code",
   "execution_count": 355,
   "metadata": {
    "scrolled": true
   },
   "outputs": [
    {
     "name": "stdout",
     "output_type": "stream",
     "text": [
      "{\"id\":\"287769f09bb4f6a800479ede91426e4ff7d3ec1161a418b97bc953209250aa76\",\"name\":\"Geth/zaqxs/v1.10.1-stable-c2d2f4ed/windows-amd64/go1.16\",\"enode\":\"enode://92c6dd63c3643b792d6344612b950cf69339a90fa45edfa983ad2e67740fed97c31e3825e9f672d96e6db1859edcada302cf9f8134ad80c9f87ef145a2e73abc@127.0.0.1:38445\",\"enr\":\"enr:-J24QCu7Naq8qcjTnvFntZH6AEqWVZmyFJW4FKvwJRoly7e-SuDh8K8iIFv9DWOjDbEVXMZ7Tcn5jiCDoQtZg37g1oICg2V0aMfGhCToWBqAgmlkgnY0gmlwhH8AAAGJc2VjcDI1NmsxoQKSxt1jw2Q7eS1jRGErlQz2kzmpD6Re36mDrS5ndA_tl4RzbmFwwIN0Y3CCli2DdWRwgpYt\",\"ip\":\"127.0.0.1\",\"ports\":{\"discovery\":38445,\"listener\":38445},\"listenAddr\":\"[::]:38445\",\"protocols\":{\"eth\":{\"network\":36,\"difficulty\":97376351,\"genesis\":\"0x5704d029fe80f4fb605c0cb5e31d591511f10a46a0cb8166f97d8d559f9bc5b0\",\"config\":{\"chainId\":36,\"homesteadBlock\":0,\"eip150Block\":0,\"eip150Hash\":\"0x0000000000000000000000000000000000000000000000000000000000000000\",\"eip155Block\":0,\"eip158Block\":0},\"head\":\"0xe5cd4b38c005fcde7cab2a8336dd27ea20d0c9a316b981a486c6ff822e64572f\"},\"snap\":{}}}\n",
      "\n",
      " Your chainId 0x24 @127.0.0.1 is a private network\n",
      "null\n"
     ]
    }
   ],
   "source": [
    "!geth --exec \"loadScript('src/1-1.js')\"  attach http://localhost:8446"
   ]
  },
  {
   "cell_type": "markdown",
   "metadata": {},
   "source": [
    "**포트번호가 8446, ip가 127.0.0.1, networkid가 36번인 geth@8446 서버가 생성된것을 볼 수 있다. (0x24(16) = 36(10))**"
   ]
  },
  {
   "cell_type": "markdown",
   "metadata": {},
   "source": [
    "### 문제 1-2의 답"
   ]
  },
  {
   "cell_type": "code",
   "execution_count": 375,
   "metadata": {},
   "outputs": [
    {
     "name": "stdout",
     "output_type": "stream",
     "text": [
      "Overwriting src/accounts.js\n"
     ]
    }
   ],
   "source": [
    "%%writefile src/accounts.js\n",
    "console.log('accounts: ',eth.accounts);"
   ]
  },
  {
   "cell_type": "code",
   "execution_count": 376,
   "metadata": {},
   "outputs": [
    {
     "name": "stdout",
     "output_type": "stream",
     "text": [
      "accounts:  0xa3639ace2951727552f1b9bf2ef8b290e1bda078,0x6a76fab2863f808a63a75aa5469f5a5c41ff889d\n",
      "null\n"
     ]
    }
   ],
   "source": [
    "!geth --exec \"loadScript('src/accounts.js')\" attach http://localhost:8446"
   ]
  },
  {
   "cell_type": "code",
   "execution_count": 377,
   "metadata": {},
   "outputs": [
    {
     "name": "stdout",
     "output_type": "stream",
     "text": [
      "Overwriting src/1-2.js\n"
     ]
    }
   ],
   "source": [
    "%%writefile src/1-2.js\n",
    "var ac1=eth.getBalance(eth.coinbase)\n",
    "var ac2=eth.getBalance(eth.accounts[1])\n",
    "console.log('-Before');\n",
    "console.log('  -coinbase balance in Wei:',ac1,' ether:',web3.fromWei(ac1,\"ether\"));\n",
    "console.log('  -account1 balance in Wei:',ac2,' ether:',web3.fromWei(ac2,\"ether\"));\n",
    "console.log('  -transaction count: ', web3.eth.getTransactionCount(eth.accounts[0]));"
   ]
  },
  {
   "cell_type": "code",
   "execution_count": 378,
   "metadata": {
    "scrolled": true
   },
   "outputs": [
    {
     "name": "stdout",
     "output_type": "stream",
     "text": [
      "-Before\n",
      "  -coinbase balance in Wei: 3.10629499999999717172e+21  ether: 3106.29499999999717172\n",
      "  -account1 balance in Wei: 319330000000002828280  ether: 319.33000000000282828\n",
      "  -transaction count:  34\n",
      "null\n"
     ]
    }
   ],
   "source": [
    "!geth --exec \"loadScript('src/1-2.js')\" attach http://localhost:8446"
   ]
  },
  {
   "cell_type": "markdown",
   "metadata": {},
   "source": [
    "### 문제 1-3의 답"
   ]
  },
  {
   "cell_type": "code",
   "execution_count": 379,
   "metadata": {},
   "outputs": [
    {
     "name": "stdout",
     "output_type": "stream",
     "text": [
      "Overwriting src/1-3.js\n"
     ]
    }
   ],
   "source": [
    "%%writefile src/1-3.js\n",
    "console.log('...mining start');\n",
    "var sender = eth.coinbase;\n",
    "var receiver = eth.accounts[1];\n",
    "var t = eth.sendTransaction({from:eth.coinbase, to:eth.accounts[1], value:web3.toWei(0.00000000000010101,\"ether\")});\n",
    "console.log(t);\n",
    "console.log('mining done...');"
   ]
  },
  {
   "cell_type": "code",
   "execution_count": 381,
   "metadata": {},
   "outputs": [
    {
     "name": "stdout",
     "output_type": "stream",
     "text": [
      "...mining start\n",
      "0x05a660a87347d66731e9fe7cec0e7dc9dca87255daf51a0206ed1db3b2ea028f\n",
      "mining done...\n",
      "null\n"
     ]
    }
   ],
   "source": [
    "!geth --exec \"loadScript('src/1-3.js')\" attach http://localhost:8446"
   ]
  },
  {
   "cell_type": "markdown",
   "metadata": {},
   "source": [
    "### 문제 1-4의 답"
   ]
  },
  {
   "cell_type": "code",
   "execution_count": 382,
   "metadata": {},
   "outputs": [
    {
     "name": "stdout",
     "output_type": "stream",
     "text": [
      "Overwriting src/1-4.js\n"
     ]
    }
   ],
   "source": [
    "%%writefile src/1-4.js\n",
    "var ac1=eth.getBalance(eth.coinbase);\n",
    "var ac2=eth.getBalance(eth.accounts[1]);\n",
    "var afterBal = 2893.48249999999727273;\n",
    "console.log('-After');\n",
    "console.log('  -coinbase balance in ether:',web3.fromWei(ac1,\"ether\"));\n",
    "console.log('  -account1 balance in ether:',web3.fromWei(ac2,\"ether\"),\n",
    "            'increasde by',web3.fromWei(ac1,\"ether\")-web3.fromWei(ac2,\"ether\"));\n",
    "console.log('  -transaction count: ', web3.eth.getTransactionCount(eth.accounts[0]),'increased by 1');\n",
    "console.log('  -gas used:',web3.fromWei(ac1,\"ether\")-afterBal,\n",
    "            'won (1 ether = 2500000):',0.000000000000021*2500000);"
   ]
  },
  {
   "cell_type": "code",
   "execution_count": 383,
   "metadata": {},
   "outputs": [
    {
     "name": "stdout",
     "output_type": "stream",
     "text": [
      "-After\n",
      "  -coinbase balance in ether: 3120.20124999999707071\n",
      "  -account1 balance in ether: 319.33000000000292929 increasde by 2800.871249999994\n",
      "  -transaction count:  35 increased by 1\n",
      "  -gas used: 226.71874999999955 won (1 ether = 2500000): 5.25e-8\n",
      "null\n"
     ]
    }
   ],
   "source": [
    "!geth --exec \"loadScript('src/1-4.js')\" attach http://localhost:8446"
   ]
  },
  {
   "cell_type": "markdown",
   "metadata": {},
   "source": [
    "## 문제 2번"
   ]
  },
  {
   "cell_type": "markdown",
   "metadata": {},
   "source": [
    "### 문제 2-1의 답"
   ]
  },
  {
   "cell_type": "code",
   "execution_count": 218,
   "metadata": {},
   "outputs": [
    {
     "name": "stdout",
     "output_type": "stream",
     "text": [
      "Overwriting src/Math.sol\n"
     ]
    }
   ],
   "source": [
    "%%writefile src/Math.sol\n",
    "pragma solidity 0.5.10;\n",
    "\n",
    "contract Math {\n",
    "    function powerOf2(uint256 input) public pure returns (uint256){\n",
    "        return 2**input;\n",
    "    }\n",
    "}"
   ]
  },
  {
   "cell_type": "markdown",
   "metadata": {},
   "source": [
    "### 문제 2-5의 답"
   ]
  },
  {
   "cell_type": "code",
   "execution_count": 219,
   "metadata": {},
   "outputs": [
    {
     "name": "stdout",
     "output_type": "stream",
     "text": [
      "\n",
      "======= src/Math.sol:Math =======\n",
      "Gas estimation:\n",
      "construction:\n",
      "   87 + 34800 = 34887\n",
      "external:\n",
      "   powerOf2(uint256):\t1891\n",
      "Binary: \n",
      "6080604052348015600f57600080fd5b5060ae8061001e6000396000f3fe6080604052348015600f57600080fd5b506004361060285760003560e01c8063bdacc0cf14602d575b600080fd5b605660048036036020811015604157600080fd5b8101908080359060200190929190505050606c565b6040518082815260200191505060405180910390f35b60008160020a905091905056fea265627a7a72305820511fc582b18a0b1524e2264fd140bb547d039dbf08d1dba4b6f34813690ff9f364736f6c634300050a0032\n",
      "Contract JSON ABI \n",
      "[{\"constant\":true,\"inputs\":[{\"name\":\"input\",\"type\":\"uint256\"}],\"name\":\"powerOf2\",\"outputs\":[{\"name\":\"\",\"type\":\"uint256\"}],\"payable\":false,\"stateMutability\":\"pure\",\"type\":\"function\"}]\n"
     ]
    }
   ],
   "source": [
    "!solc --abi --bin --gas src/Math.sol"
   ]
  },
  {
   "cell_type": "markdown",
   "metadata": {},
   "source": [
    "### 문제 2-2의 답"
   ]
  },
  {
   "cell_type": "code",
   "execution_count": 350,
   "metadata": {},
   "outputs": [
    {
     "name": "stdout",
     "output_type": "stream",
     "text": [
      "Overwriting src/mathDeploy.js\n"
     ]
    }
   ],
   "source": [
    "%%writefile src/mathDeploy.js\n",
    "var Web3=require('web3');\n",
    "var web3;\n",
    "if (typeof web3 !== 'undefined') {\n",
    "    web3 = new Web3(web3.currentProvider);\n",
    "} else {\n",
    "    web3 = new Web3(new Web3.providers.HttpProvider(\"http://localhost:8345\"));\n",
    "}\n",
    "var _abiArray=[{\"constant\":true,\"inputs\":[{\"name\":\"input\",\"type\":\"uint256\"}],\"name\":\"powerOf2\",\"outputs\":[{\"name\":\"\",\"type\":\"uint256\"}],\"payable\":false,\"stateMutability\":\"pure\",\"type\":\"function\"}];\n",
    "var _bin=\"6080604052348015600f57600080fd5b5060ae8061001e6000396000f3fe6080604052348015600f57600080fd5b506004361060285760003560e01c8063bdacc0cf14602d575b600080fd5b605660048036036020811015604157600080fd5b8101908080359060200190929190505050606c565b6040518082815260200191505060405180910390f35b60008160020a905091905056fea265627a7a72305820511fc582b18a0b1524e2264fd140bb547d039dbf08d1dba4b6f34813690ff9f364736f6c634300050a0032\";\n",
    "var _contract = new web3.eth.Contract(_abiArray);\n",
    "_contract\n",
    "    .deploy({data:\"0x\"+_bin})\n",
    "    .send({from: \"0x98F52EC4880049c156a914f98911Fa56F5b5Dbac\", gas: 364124, gasPrice: '1000000000'})\n",
    "    .then(function(newContractInstance){\n",
    "        console.log(newContractInstance.options.address) // instance with the new contract address\n",
    "    });"
   ]
  },
  {
   "cell_type": "code",
   "execution_count": 221,
   "metadata": {
    "scrolled": true
   },
   "outputs": [
    {
     "name": "stdout",
     "output_type": "stream",
     "text": [
      "0x2FaC54e3931538f70e1892D38A4b6F8f1fAF9A68\n"
     ]
    }
   ],
   "source": [
    "!node src/mathDeploy.js"
   ]
  },
  {
   "cell_type": "markdown",
   "metadata": {},
   "source": [
    "### 문제 2-3의 답"
   ]
  },
  {
   "cell_type": "code",
   "execution_count": 222,
   "metadata": {},
   "outputs": [
    {
     "name": "stdout",
     "output_type": "stream",
     "text": [
      "Overwriting src/MathUse.js\n"
     ]
    }
   ],
   "source": [
    "%%writefile src/MathUse.js\n",
    "var Web3=require('web3');\n",
    "var web3 = new Web3(new Web3.providers.HttpProvider(\"http://localhost:8345\"));\n",
    "var abi = [{\"constant\":true,\"inputs\":[{\"name\":\"input\",\"type\":\"uint256\"}],\"name\":\"powerOf2\",\"outputs\":[{\"name\":\"\",\"type\":\"uint256\"}],\"payable\":false,\"stateMutability\":\"pure\",\"type\":\"function\"}];\n",
    "var addr = \"0x2FaC54e3931538f70e1892D38A4b6F8f1fAF9A68\";\n",
    "var mul = new web3.eth.Contract(abi,addr);\n",
    "mul.methods.powerOf2(8).call().then(function(str) {console.log(str);});\n",
    "mul.methods.powerOf2(32).call().then(function(str) {console.log(str);});"
   ]
  },
  {
   "cell_type": "code",
   "execution_count": 223,
   "metadata": {},
   "outputs": [
    {
     "name": "stdout",
     "output_type": "stream",
     "text": [
      "256\n",
      "4294967296\n"
     ]
    }
   ],
   "source": [
    "!node src/MathUse.js"
   ]
  },
  {
   "cell_type": "markdown",
   "metadata": {},
   "source": [
    "### 문제 2-4의 답"
   ]
  },
  {
   "cell_type": "code",
   "execution_count": 231,
   "metadata": {},
   "outputs": [
    {
     "name": "stdout",
     "output_type": "stream",
     "text": [
      "Overwriting scripts/powerOf2.html\n"
     ]
    }
   ],
   "source": [
    "%%writefile scripts/powerOf2.html\n",
    "<!doctype>\n",
    "<html>\n",
    "<head>\n",
    "<script src=\"https://cdn.jsdelivr.net/npm/web3@1.2.7/dist/web3.min.js\"></script>\n",
    "<script type=\"text/javascript\">\n",
    "    var web3 = new Web3(new Web3.providers.HttpProvider(\"http://localhost:8345\"));\n",
    "    function result(){\n",
    "        var shelloContract = new web3.eth.Contract([{\"constant\":true,\"inputs\":[{\"name\":\"input\",\"type\":\"uint256\"}],\"name\":\"powerOf2\",\"outputs\":[{\"name\":\"\",\"type\":\"uint256\"}],\"payable\":false,\"stateMutability\":\"pure\",\"type\":\"function\"}],\n",
    "                                      \"0x2FaC54e3931538f70e1892D38A4b6F8f1fAF9A68\");\n",
    "        shelloContract.methods.powerOf2(32).call().then(res=>\n",
    "                                                     document.getElementById('powerOf2').innerText=\"2^32 = \"+res);\n",
    "    }\n",
    "</script>\n",
    "</head>\n",
    "<body>\n",
    "    <h1>powerOf2</h1>\n",
    "    <button type=\"button\" onClick=\"result();\">Display 2^32</button>\n",
    "    <div></div>\n",
    "    <div id=\"powerOf2\"></div>\n",
    "</body>\n",
    "</html>"
   ]
  },
  {
   "cell_type": "code",
   "execution_count": 235,
   "metadata": {},
   "outputs": [
    {
     "data": {
      "image/png": "[encoded data removed]",
      "text/plain": [
       "<IPython.core.display.Image object>"
      ]
     },
     "execution_count": 235,
     "metadata": {},
     "output_type": "execute_result"
    }
   ],
   "source": [
    "from IPython.display import Image\n",
    "Image(\"powerOf2.png\")"
   ]
  },
  {
   "cell_type": "markdown",
   "metadata": {},
   "source": [
    "### 문제 2-6의 답"
   ]
  },
  {
   "cell_type": "markdown",
   "metadata": {},
   "source": [
    "**geth@8446 서버에서 배포하고 사용하였다.**"
   ]
  },
  {
   "cell_type": "code",
   "execution_count": 341,
   "metadata": {},
   "outputs": [
    {
     "name": "stdout",
     "output_type": "stream",
     "text": [
      "\n",
      "======= src/Math.sol:Math =======\n",
      "Gas estimation:\n",
      "construction:\n",
      "   87 + 34800 = 34887\n",
      "external:\n",
      "   powerOf2(uint256):\t1891\n",
      "Binary: \n",
      "6080604052348015600f57600080fd5b5060ae8061001e6000396000f3fe6080604052348015600f57600080fd5b506004361060285760003560e01c8063bdacc0cf14602d575b600080fd5b605660048036036020811015604157600080fd5b8101908080359060200190929190505050606c565b6040518082815260200191505060405180910390f35b60008160020a905091905056fea265627a7a72305820511fc582b18a0b1524e2264fd140bb547d039dbf08d1dba4b6f34813690ff9f364736f6c634300050a0032\n",
      "Contract JSON ABI \n",
      "[{\"constant\":true,\"inputs\":[{\"name\":\"input\",\"type\":\"uint256\"}],\"name\":\"powerOf2\",\"outputs\":[{\"name\":\"\",\"type\":\"uint256\"}],\"payable\":false,\"stateMutability\":\"pure\",\"type\":\"function\"}]\n"
     ]
    }
   ],
   "source": [
    "!solc --abi --bin --gas src/Math.sol"
   ]
  },
  {
   "cell_type": "code",
   "execution_count": 349,
   "metadata": {},
   "outputs": [
    {
     "name": "stdout",
     "output_type": "stream",
     "text": [
      "Overwriting src/mathDeploy_geth.js\n"
     ]
    }
   ],
   "source": [
    "%%writefile src/mathDeploy_geth.js\n",
    "var Web3=require('web3');\n",
    "var web3;\n",
    "if (typeof web3 !== 'undefined') {\n",
    "    web3 = new Web3(web3.currentProvider);\n",
    "} else {\n",
    "    web3 = new Web3(new Web3.providers.HttpProvider(\"http://localhost:8446\"));\n",
    "}\n",
    "var _abiArray=[{\"constant\":true,\"inputs\":[{\"name\":\"input\",\"type\":\"uint256\"}],\"name\":\"powerOf2\",\"outputs\":[{\"name\":\"\",\"type\":\"uint256\"}],\"payable\":false,\"stateMutability\":\"pure\",\"type\":\"function\"}];\n",
    "var _bin=\"6080604052348015600f57600080fd5b5060ae8061001e6000396000f3fe6080604052348015600f57600080fd5b506004361060285760003560e01c8063bdacc0cf14602d575b600080fd5b605660048036036020811015604157600080fd5b8101908080359060200190929190505050606c565b6040518082815260200191505060405180910390f35b60008160020a905091905056fea265627a7a72305820511fc582b18a0b1524e2264fd140bb547d039dbf08d1dba4b6f34813690ff9f364736f6c634300050a0032\";\n",
    "var _contract = new web3.eth.Contract(_abiArray);\n",
    "_contract\n",
    "    .deploy({data:\"0x\"+_bin})\n",
    "    .send({from: \"0xa3639ace2951727552f1b9bf2ef8b290e1bda078\", gas: 364124, gasPrice: '1000000000'})\n",
    "    .then(function(newContractInstance){\n",
    "        console.log(newContractInstance.options.address) // instance with the new contract address\n",
    "    });"
   ]
  },
  {
   "cell_type": "code",
   "execution_count": 345,
   "metadata": {},
   "outputs": [
    {
     "name": "stdout",
     "output_type": "stream",
     "text": [
      "0x7b2786Bb89b7B27357Cb594218c19B94F62C3F52\n"
     ]
    }
   ],
   "source": [
    "!node src/mathDeploy_geth.js"
   ]
  },
  {
   "cell_type": "code",
   "execution_count": 351,
   "metadata": {},
   "outputs": [
    {
     "name": "stdout",
     "output_type": "stream",
     "text": [
      "Overwriting src/MathUse_geth.js\n"
     ]
    }
   ],
   "source": [
    "%%writefile src/MathUse_geth.js\n",
    "var Web3=require('web3');\n",
    "var web3 = new Web3(new Web3.providers.HttpProvider(\"http://localhost:8446\"));\n",
    "var abi = [{\"constant\":true,\"inputs\":[{\"name\":\"input\",\"type\":\"uint256\"}],\"name\":\"powerOf2\",\"outputs\":[{\"name\":\"\",\"type\":\"uint256\"}],\"payable\":false,\"stateMutability\":\"pure\",\"type\":\"function\"}];\n",
    "var addr = \"0x7b2786Bb89b7B27357Cb594218c19B94F62C3F52\";\n",
    "var mul = new web3.eth.Contract(abi,addr);\n",
    "mul.methods.powerOf2(8).call().then(function(str) {console.log(str);});\n",
    "mul.methods.powerOf2(32).call().then(function(str) {console.log(str);});"
   ]
  },
  {
   "cell_type": "code",
   "execution_count": 347,
   "metadata": {},
   "outputs": [
    {
     "name": "stdout",
     "output_type": "stream",
     "text": [
      "256\n",
      "4294967296\n"
     ]
    }
   ],
   "source": [
    "!node src/MathUse_geth.js"
   ]
  }
 ],
 "metadata": {
  "kernelspec": {
   "display_name": "Python 3",
   "language": "python",
   "name": "python3"
  },
  "language_info": {
   "codemirror_mode": {
    "name": "ipython",
    "version": 3
   },
   "file_extension": ".py",
   "mimetype": "text/x-python",
   "name": "python",
   "nbconvert_exporter": "python",
   "pygments_lexer": "ipython3",
   "version": "3.7.3"
  }
 },
 "nbformat": 4,
 "nbformat_minor": 2
}
