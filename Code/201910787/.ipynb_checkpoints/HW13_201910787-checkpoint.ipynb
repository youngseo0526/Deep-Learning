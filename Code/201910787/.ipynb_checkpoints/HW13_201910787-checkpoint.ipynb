{
 "cells": [
  {
   "cell_type": "markdown",
   "metadata": {},
   "source": [
    "### 휴먼지능정보공학과 201910787 김영서\n",
    "\n",
    "(1) Solidity로 구현\n",
    "\n",
    "블록체인에서 주문을 하고, 그 내역을 로컬 파일에 작성해 보자.\n",
    "\n",
    "블록체인으로 주문을 전송하면, 이벤트가 발생하고 주문내역을 로컬파일에 쓰게 된다.\n",
    "\n",
    "* ```EventTest.sol```에서는 이벤트가 발생하면서 그 로그를 파일에 작성한다 (```OrderEvent.txt```)\n",
    "\n",
    "* ```OrderEvent.sol```을 수정하여:\n",
    "\n",
    "\t* ```order(상품항목, 주문 개수, 배송지)``` 함수 작성\n",
    "\n",
    "\t* ```getBalance()``` 함수 작성. 해당 프로그램 생성한 ```owner```만 읽을 수 있게 ```modfier isOnwer``` 작성.\n",
    "\n",
    "\n",
    "\n",
    "(2) ```ganache```에서 배포하고, 다음과 같이 API를 사용해서 출력하게 프로그래밍하세요.\n",
    "\n",
    "아래 로그가 발생하면 이벤트를 출력하고,\n",
    "\n",
    "또한 파일에 쓰고, 주피터 노트북에서 그 파일을 출력하세요.\n",
    "\n",
    "(```!cat src/OrderEvent.txt```, 윈도우에서는 ```cat``` 대신 ```type```)\n",
    "\n",
    "```python\n",
    "\n",
    "전송자주소, 1111, 3, 20 2-gil Hongji-dong Jongro-gu Seoul\n",
    "\n",
    "전송자주소, 1111, 5, 20 2-gil Hongji-dong Jongro-gu Seoul\n",
    "\n",
    "전송자주소, 1111, 20, 20 2-gil Hongji-dong Jongro-gu Seoul\n",
    "\n",
    "```\n",
    "\n",
    "\n",
    "\n",
    "(3) ganache 대신 geth로 위 (2)를 해보세요. (geth는 geth@8445 또는 geth@8446에서 자바스크립트로 한다는 의미)\n",
    "\n",
    "복수 거래가 발생하므로, 한 건씩 발생하도록 'OrderEventUse.js' 파일을 나누어 코딩해도 된다."
   ]
  },
  {
   "cell_type": "markdown",
   "metadata": {},
   "source": [
    "### (1) Solidity로 구현"
   ]
  },
  {
   "cell_type": "code",
   "execution_count": 1,
   "metadata": {},
   "outputs": [
    {
     "name": "stdout",
     "output_type": "stream",
     "text": [
      "Overwriting src/OrderEvent.sol\n"
     ]
    }
   ],
   "source": [
    "%%writefile src/OrderEvent.sol\n",
    "pragma solidity 0.6.4;\n",
    "contract OrderEvent {\n",
    "    address payable owner;\n",
    "    event OrderLog(address indexed _from, bytes2 _itemId, uint indexed quantity, string addr);\n",
    "    constructor() public {\n",
    "        owner = msg.sender;\n",
    "    }\n",
    "    function order(bytes2 _itemId, uint quantity,string memory addr) public payable {\n",
    "        if (msg.sender == owner) {\n",
    "            emit OrderLog(msg.sender, _itemId, quantity,addr);\n",
    "        }\n",
    "    }\n",
    "    modifier isOwner() { \n",
    "        if (msg.sender != owner) {\n",
    "            revert();\n",
    "        }\n",
    "        _;\n",
    "    }\n",
    "    function getBalance() view public isOwner returns(uint) {\n",
    "        return address(this).balance;\n",
    "    }\n",
    "}"
   ]
  },
  {
   "cell_type": "markdown",
   "metadata": {},
   "source": [
    "#### 컴파일"
   ]
  },
  {
   "cell_type": "code",
   "execution_count": 2,
   "metadata": {},
   "outputs": [
    {
     "name": "stdout",
     "output_type": "stream",
     "text": [
      "\n",
      "======= src/OrderEvent.sol:OrderEvent =======\n",
      "Gas estimation:\n",
      "construction:\n",
      "   21074 + 165000 = 186074\n",
      "external:\n",
      "   getBalance():\t1063\n",
      "   order(bytes2,uint256,string):\tinfinite\n",
      "Binary:\n",
      "608060405234801561001057600080fd5b50336000806101000a81548173ffffffffffffffffffffffffffffffffffffffff021916908373ffffffffffffffffffffffffffffffffffffffff160217905550610339806100606000396000f3fe6080604052600436106100295760003560e01c806312065fe01461002e5780637a59a92914610059575b600080fd5b34801561003a57600080fd5b50610043610149565b6040518082815260200191505060405180910390f35b6101476004803603606081101561006f57600080fd5b8101908080357dffffffffffffffffffffffffffffffffffffffffffffffffffffffffffff1916906020019092919080359060200190929190803590602001906401000000008111156100c157600080fd5b8201836020820111156100d357600080fd5b803590602001918460018302840111640100000000831117156100f557600080fd5b91908080601f016020809104026020016040519081016040528093929190818152602001838380828437600081840152601f19601f8201169050808301925050505050505091929192905050506101aa565b005b60008060009054906101000a900473ffffffffffffffffffffffffffffffffffffffff1673ffffffffffffffffffffffffffffffffffffffff163373ffffffffffffffffffffffffffffffffffffffff16146101a457600080fd5b47905090565b6000809054906101000a900473ffffffffffffffffffffffffffffffffffffffff1673ffffffffffffffffffffffffffffffffffffffff163373ffffffffffffffffffffffffffffffffffffffff1614156102fe57813373ffffffffffffffffffffffffffffffffffffffff167f0cee52e22e6b387c4183ee502522fa33f030e118cc6065c7a842e8b7c00e4a6a858460405180837dffffffffffffffffffffffffffffffffffffffffffffffffffffffffffff19167dffffffffffffffffffffffffffffffffffffffffffffffffffffffffffff1916815260200180602001828103825283818151815260200191508051906020019080838360005b838110156102c25780820151818401526020810190506102a7565b50505050905090810190601f1680156102ef5780820380516001836020036101000a031916815260200191505b50935050505060405180910390a35b50505056fea2646970667358221220fc8c59e42695b66e76223f55dddaf1efaef4bbdcc47e70b11ba2e874702b75d064736f6c63430006040033\n",
      "Contract JSON ABI\n",
      "[{\"inputs\":[],\"stateMutability\":\"nonpayable\",\"type\":\"constructor\"},{\"anonymous\":false,\"inputs\":[{\"indexed\":true,\"internalType\":\"address\",\"name\":\"_from\",\"type\":\"address\"},{\"indexed\":false,\"internalType\":\"bytes2\",\"name\":\"_itemId\",\"type\":\"bytes2\"},{\"indexed\":true,\"internalType\":\"uint256\",\"name\":\"quantity\",\"type\":\"uint256\"},{\"indexed\":false,\"internalType\":\"string\",\"name\":\"addr\",\"type\":\"string\"}],\"name\":\"OrderLog\",\"type\":\"event\"},{\"inputs\":[],\"name\":\"getBalance\",\"outputs\":[{\"internalType\":\"uint256\",\"name\":\"\",\"type\":\"uint256\"}],\"stateMutability\":\"view\",\"type\":\"function\"},{\"inputs\":[{\"internalType\":\"bytes2\",\"name\":\"_itemId\",\"type\":\"bytes2\"},{\"internalType\":\"uint256\",\"name\":\"quantity\",\"type\":\"uint256\"},{\"internalType\":\"string\",\"name\":\"addr\",\"type\":\"string\"}],\"name\":\"order\",\"outputs\":[],\"stateMutability\":\"payable\",\"type\":\"function\"}]\n"
     ]
    }
   ],
   "source": [
    "!solc --abi --bin --gas src/OrderEvent.sol"
   ]
  },
  {
   "cell_type": "markdown",
   "metadata": {},
   "source": [
    "### (2) ganache에서 배포하고, 다음과 같이 API를 사용해서 출력하게 프로그래밍하세요."
   ]
  },
  {
   "cell_type": "code",
   "execution_count": 44,
   "metadata": {},
   "outputs": [
    {
     "name": "stdout",
     "output_type": "stream",
     "text": [
      "Overwriting src/OrderEventDeploy.js\n"
     ]
    }
   ],
   "source": [
    "%%writefile src/OrderEventDeploy.js\n",
    "var Web3=require('web3');\n",
    "var web3 = new Web3(new Web3.providers.HttpProvider(\"http://localhost:8345\"));\n",
    "var _abiArray =[{\"constant\":true,\"inputs\":[],\"name\":\"getBalance\",\"outputs\":[{\"name\":\"\",\"type\":\"uint256\"}],\"payable\":false,\"stateMutability\":\"view\",\"type\":\"function\"},{\"constant\":false,\"inputs\":[{\"name\":\"_itemId\",\"type\":\"bytes2\"},{\"name\":\"quantity\",\"type\":\"uint256\"},{\"name\":\"addr\",\"type\":\"string\"}],\"name\":\"order\",\"outputs\":[],\"payable\":true,\"stateMutability\":\"payable\",\"type\":\"function\"},{\"inputs\":[],\"payable\":false,\"stateMutability\":\"nonpayable\",\"type\":\"constructor\"},{\"anonymous\":false,\"inputs\":[{\"indexed\":false,\"name\":\"_itemId\",\"type\":\"bytes2\"},{\"indexed\":true,\"name\":\"_value\",\"type\":\"uint256\"}],\"name\":\"OrderLog\",\"type\":\"event\"},{\"anonymous\":false,\"inputs\":[{\"indexed\":true,\"name\":\"_from\",\"type\":\"address\"},{\"indexed\":false,\"name\":\"_itemId\",\"type\":\"bytes2\"},{\"indexed\":true,\"name\":\"quantity\",\"type\":\"uint256\"},{\"indexed\":false,\"name\":\"addr\",\"type\":\"string\"}],\"name\":\"OrderLog\",\"type\":\"event\"}];\n",
    "var _bin=\"0x\" + \"608060405234801561001057600080fd5b50336000806101000a81548173ffffffffffffffffffffffffffffffffffffffff021916908373ffffffffffffffffffffffffffffffffffffffff16021790555061034f806100606000396000f3fe6080604052600436106100295760003560e01c806312065fe01461002e5780637a59a92914610059575b600080fd5b34801561003a57600080fd5b50610043610149565b6040518082815260200191505060405180910390f35b6101476004803603606081101561006f57600080fd5b8101908080357dffffffffffffffffffffffffffffffffffffffffffffffffffffffffffff1916906020019092919080359060200190929190803590602001906401000000008111156100c157600080fd5b8201836020820111156100d357600080fd5b803590602001918460018302840111640100000000831117156100f557600080fd5b91908080601f016020809104026020016040519081016040528093929190818152602001838380828437600081840152601f19601f8201169050808301925050505050505091929192905050506101c1565b005b60008060009054906101000a900473ffffffffffffffffffffffffffffffffffffffff1673ffffffffffffffffffffffffffffffffffffffff163373ffffffffffffffffffffffffffffffffffffffff16146101a457600080fd5b3073ffffffffffffffffffffffffffffffffffffffff1631905090565b6000809054906101000a900473ffffffffffffffffffffffffffffffffffffffff1673ffffffffffffffffffffffffffffffffffffffff163373ffffffffffffffffffffffffffffffffffffffff16141561031557813373ffffffffffffffffffffffffffffffffffffffff167f0cee52e22e6b387c4183ee502522fa33f030e118cc6065c7a842e8b7c00e4a6a858460405180837dffffffffffffffffffffffffffffffffffffffffffffffffffffffffffff19167dffffffffffffffffffffffffffffffffffffffffffffffffffffffffffff1916815260200180602001828103825283818151815260200191508051906020019080838360005b838110156102d95780820151818401526020810190506102be565b50505050905090810190601f1680156103065780820380516001836020036101000a031916815260200191505b50935050505060405180910390a35b50505056fea265627a7a72305820c0c4b655ec75fc446fba1b83aa2b542afc43f56c489878c80cc8454b89c5c81164736f6c634300050a0032\";\n",
    "\n",
    "async function deploy() {\n",
    "    const accounts = await web3.eth.getAccounts();\n",
    "    console.log(\"Deploying the contract from \" + accounts[0]);\n",
    "    var deployed = await new web3.eth.Contract(_abiArray)\n",
    "        .deploy({data: _bin})\n",
    "        .send({from: accounts[0], gas: 2000000}, function(err, transactionHash) {\n",
    "                if(!err) console.log(\"hash: \" + transactionHash); \n",
    "        })\n",
    "    console.log(\"---> The contract deployed to: \" + deployed.options.address)\n",
    "}\n",
    "deploy()"
   ]
  },
  {
   "cell_type": "code",
   "execution_count": 45,
   "metadata": {},
   "outputs": [
    {
     "name": "stdout",
     "output_type": "stream",
     "text": [
      "Deploying the contract from 0x411C6C35AdC9cc684D874122dB09dae0d6835b87\n",
      "hash: 0xb59f49a27b1d64a7c1c1311bbb003a5ed71e4728fe469da5b2644121510b4098\n",
      "---> The contract deployed to: 0x9c774965A5e7a4d8493d5859D2ae2B4E59658E95\n"
     ]
    }
   ],
   "source": [
    "!node src/OrderEventDeploy.js"
   ]
  },
  {
   "cell_type": "code",
   "execution_count": 46,
   "metadata": {},
   "outputs": [
    {
     "name": "stdout",
     "output_type": "stream",
     "text": [
      "{\n",
      "  blockHash: \"0x0117e1dcade3f2864db05260f7a33e728a4f355e8288db0cdfe90c43235591f9\",\n",
      "  blockNumber: 11,\n",
      "  contractAddress: \"0x9c774965a5e7a4d8493d5859d2ae2b4e59658e95\",\n",
      "  cumulativeGasUsed: 258052,\n",
      "  from: \"0x411c6c35adc9cc684d874122db09dae0d6835b87\",\n",
      "  gasUsed: 258052,\n",
      "  logs: [],\n",
      "  logsBloom: \"0x00000000000000000000000000000000000000000000000000000000000000000000000000000000000000000000000000000000000000000000000000000000000000000000000000000000000000000000000000000000000000000000000000000000000000000000000000000000000000000000000000000000000000000000000000000000000000000000000000000000000000000000000000000000000000000000000000000000000000000000000000000000000000000000000000000000000000000000000000000000000000000000000000000000000000000000000000000000000000000000000000000000000000000000000000000000\",\n",
      "  status: \"0x1\",\n",
      "  to: null,\n",
      "  transactionHash: \"0xb59f49a27b1d64a7c1c1311bbb003a5ed71e4728fe469da5b2644121510b4098\",\n",
      "  transactionIndex: 0\n",
      "}\n"
     ]
    }
   ],
   "source": [
    "!geth --exec \"eth.getTransactionReceipt('0xb59f49a27b1d64a7c1c1311bbb003a5ed71e4728fe469da5b2644121510b4098')\" attach http://localhost:8345"
   ]
  },
  {
   "cell_type": "code",
   "execution_count": 47,
   "metadata": {},
   "outputs": [
    {
     "name": "stdout",
     "output_type": "stream",
     "text": [
      "Overwriting src/OrderEventUse.js\n"
     ]
    }
   ],
   "source": [
    "%%writefile src/OrderEventUse.js\n",
    "var Web3=require('web3');\n",
    "var fs=require('fs');\n",
    "var web3;\n",
    "if (typeof web3 !== 'undefined') {\n",
    "    web3 = new Web3(web3.currentProvider);\n",
    "} else {\n",
    "    var web3 = new Web3(new Web3.providers.WebsocketProvider(\"http://localhost:8345\"));\n",
    "}\n",
    "var _abiArray =[{\"constant\":true,\"inputs\":[],\"name\":\"getBalance\",\"outputs\":[{\"name\":\"\",\"type\":\"uint256\"}],\"payable\":false,\"stateMutability\":\"view\",\"type\":\"function\"},{\"constant\":false,\"inputs\":[{\"name\":\"_itemId\",\"type\":\"bytes2\"},{\"name\":\"quantity\",\"type\":\"uint256\"},{\"name\":\"addr\",\"type\":\"string\"}],\"name\":\"order\",\"outputs\":[],\"payable\":true,\"stateMutability\":\"payable\",\"type\":\"function\"},{\"inputs\":[],\"payable\":false,\"stateMutability\":\"nonpayable\",\"type\":\"constructor\"},{\"anonymous\":false,\"inputs\":[{\"indexed\":false,\"name\":\"_itemId\",\"type\":\"bytes2\"},{\"indexed\":true,\"name\":\"_value\",\"type\":\"uint256\"}],\"name\":\"OrderLog\",\"type\":\"event\"},{\"anonymous\":false,\"inputs\":[{\"indexed\":true,\"name\":\"_from\",\"type\":\"address\"},{\"indexed\":false,\"name\":\"_itemId\",\"type\":\"bytes2\"},{\"indexed\":true,\"name\":\"quantity\",\"type\":\"uint256\"},{\"indexed\":false,\"name\":\"addr\",\"type\":\"string\"}],\"name\":\"OrderLog\",\"type\":\"event\"}];\n",
    "async function doIt() {\n",
    "    var _order = new web3.eth.Contract(_abiArray, '0x9c774965A5e7a4d8493d5859D2ae2B4E59658E95');\n",
    "    const accounts = await web3.eth.getAccounts();\n",
    "    console.log(\"Account: \" + accounts[0]);\n",
    "    var event = _order.events.OrderLog({\n",
    "            filter: {_from: accounts[0]},\n",
    "            fromBlock: 'latest', toBlock: 'pending'\n",
    "        }, function (error, result) {\n",
    "        if (!error) {\n",
    "            var log = result.returnValues;\n",
    "            console.log(\"Event fired: \" + JSON.stringify(log));\n",
    "            fs.appendFile(\"src/OrderEvent.txt\",log[\"_from\"]+\", \"+log[\"_itemId\"]+\",\"+log[\"quantity\"]+', '+log[\"addr\"]+\"\\n\" , \"utf-8\", function(e){\n",
    "            if(!e) {\n",
    "                console.log(\">> Writing to file\");\n",
    "                }\n",
    "            });\n",
    "        }\n",
    "    });\n",
    "    var value;\n",
    "    my = await _order.methods.order(\"0x1111\", 3, \"20 2-gil Hongji-dong Jongro-gu Seoul\")\n",
    "        .send({from: accounts[0], gas: 100000,value:30})\n",
    "    console.log(\"---> MyFunction called \" + JSON.stringify(my.events.OrderLog.returnValues));\n",
    "    my = await _order.methods.order(\"0x1111\", 5, \"20 2-gil Hongji-dong Jongro-gu Seoul\")\n",
    "        .send({from: accounts[0], gas: 100000,value:50})\n",
    "    console.log(\"---> MyFunction called \" + JSON.stringify(my.events.OrderLog.returnValues));\n",
    "    my = await _order.methods.order(\"0x1111\", 20, \"20 2-gil Hongji-dong Jongro-gu Seoul\")\n",
    "        .send({from: accounts[0], gas: 100000,value:200})\n",
    "    console.log(\"---> MyFunction called \" + JSON.stringify(my.events.OrderLog.returnValues));\n",
    "    process.exit(1);\n",
    "}\n",
    "doIt();"
   ]
  },
  {
   "cell_type": "code",
   "execution_count": 48,
   "metadata": {
    "scrolled": true
   },
   "outputs": [
    {
     "name": "stdout",
     "output_type": "stream",
     "text": [
      "Account: 0x411C6C35AdC9cc684D874122dB09dae0d6835b87\n",
      "Event fired: {\"0\":\"0x411C6C35AdC9cc684D874122dB09dae0d6835b87\",\"1\":\"0x1111\",\"2\":\"3\",\"3\":\"20 2-gil Hongji-dong Jongro-gu Seoul\",\"_from\":\"0x411C6C35AdC9cc684D874122dB09dae0d6835b87\",\"_itemId\":\"0x1111\",\"quantity\":\"3\",\"addr\":\"20 2-gil Hongji-dong Jongro-gu Seoul\"}\n",
      ">> Writing to file\n",
      "---> MyFunction called {\"0\":\"0x411C6C35AdC9cc684D874122dB09dae0d6835b87\",\"1\":\"0x1111\",\"2\":\"3\",\"3\":\"20 2-gil Hongji-dong Jongro-gu Seoul\",\"_from\":\"0x411C6C35AdC9cc684D874122dB09dae0d6835b87\",\"_itemId\":\"0x1111\",\"quantity\":\"3\",\"addr\":\"20 2-gil Hongji-dong Jongro-gu Seoul\"}\n",
      "Event fired: {\"0\":\"0x411C6C35AdC9cc684D874122dB09dae0d6835b87\",\"1\":\"0x1111\",\"2\":\"5\",\"3\":\"20 2-gil Hongji-dong Jongro-gu Seoul\",\"_from\":\"0x411C6C35AdC9cc684D874122dB09dae0d6835b87\",\"_itemId\":\"0x1111\",\"quantity\":\"5\",\"addr\":\"20 2-gil Hongji-dong Jongro-gu Seoul\"}\n",
      ">> Writing to file\n",
      "---> MyFunction called {\"0\":\"0x411C6C35AdC9cc684D874122dB09dae0d6835b87\",\"1\":\"0x1111\",\"2\":\"5\",\"3\":\"20 2-gil Hongji-dong Jongro-gu Seoul\",\"_from\":\"0x411C6C35AdC9cc684D874122dB09dae0d6835b87\",\"_itemId\":\"0x1111\",\"quantity\":\"5\",\"addr\":\"20 2-gil Hongji-dong Jongro-gu Seoul\"}\n",
      "Event fired: {\"0\":\"0x411C6C35AdC9cc684D874122dB09dae0d6835b87\",\"1\":\"0x1111\",\"2\":\"20\",\"3\":\"20 2-gil Hongji-dong Jongro-gu Seoul\",\"_from\":\"0x411C6C35AdC9cc684D874122dB09dae0d6835b87\",\"_itemId\":\"0x1111\",\"quantity\":\"20\",\"addr\":\"20 2-gil Hongji-dong Jongro-gu Seoul\"}\n",
      ">> Writing to file\n",
      "---> MyFunction called {\"0\":\"0x411C6C35AdC9cc684D874122dB09dae0d6835b87\",\"1\":\"0x1111\",\"2\":\"20\",\"3\":\"20 2-gil Hongji-dong Jongro-gu Seoul\",\"_from\":\"0x411C6C35AdC9cc684D874122dB09dae0d6835b87\",\"_itemId\":\"0x1111\",\"quantity\":\"20\",\"addr\":\"20 2-gil Hongji-dong Jongro-gu Seoul\"}\n"
     ]
    },
    {
     "name": "stderr",
     "output_type": "stream",
     "text": [
      "Invalid option: toBlock. Use getPastEvents for specific range.\n"
     ]
    }
   ],
   "source": [
    "!node src/OrderEventUse.js"
   ]
  },
  {
   "cell_type": "code",
   "execution_count": 49,
   "metadata": {},
   "outputs": [
    {
     "name": "stdout",
     "output_type": "stream",
     "text": [
      "0x411C6C35AdC9cc684D874122dB09dae0d6835b87, 0x1111,3, 20 2-gil Hongji-dong Jongro-gu Seoul\n",
      "0x411C6C35AdC9cc684D874122dB09dae0d6835b87, 0x1111,5, 20 2-gil Hongji-dong Jongro-gu Seoul\n",
      "0x411C6C35AdC9cc684D874122dB09dae0d6835b87, 0x1111,20, 20 2-gil Hongji-dong Jongro-gu Seoul\n"
     ]
    }
   ],
   "source": [
    "!type src\\OrderEvent.txt"
   ]
  },
  {
   "cell_type": "markdown",
   "metadata": {},
   "source": [
    "### (3) ganache 대신 geth로 위 (2)를 해보세요."
   ]
  },
  {
   "cell_type": "code",
   "execution_count": 3,
   "metadata": {},
   "outputs": [
    {
     "name": "stdout",
     "output_type": "stream",
     "text": [
      "Overwriting src/OrderEventDeploy_geth.js\n"
     ]
    }
   ],
   "source": [
    "%%writefile src/OrderEventDeploy_geth.js\n",
    "var Web3=require('web3');\n",
    "var web3 = new Web3(new Web3.providers.HttpProvider(\"http://localhost:8445\"));\n",
    "var _abiArray =[{\"constant\":true,\"inputs\":[],\"name\":\"getBalance\",\"outputs\":[{\"name\":\"\",\"type\":\"uint256\"}],\"payable\":false,\"stateMutability\":\"view\",\"type\":\"function\"},{\"constant\":false,\"inputs\":[{\"name\":\"_itemId\",\"type\":\"bytes2\"},{\"name\":\"quantity\",\"type\":\"uint256\"},{\"name\":\"addr\",\"type\":\"string\"}],\"name\":\"order\",\"outputs\":[],\"payable\":true,\"stateMutability\":\"payable\",\"type\":\"function\"},{\"inputs\":[],\"payable\":false,\"stateMutability\":\"nonpayable\",\"type\":\"constructor\"},{\"anonymous\":false,\"inputs\":[{\"indexed\":false,\"name\":\"_itemId\",\"type\":\"bytes2\"},{\"indexed\":true,\"name\":\"_value\",\"type\":\"uint256\"}],\"name\":\"OrderLog\",\"type\":\"event\"},{\"anonymous\":false,\"inputs\":[{\"indexed\":true,\"name\":\"_from\",\"type\":\"address\"},{\"indexed\":false,\"name\":\"_itemId\",\"type\":\"bytes2\"},{\"indexed\":true,\"name\":\"quantity\",\"type\":\"uint256\"},{\"indexed\":false,\"name\":\"addr\",\"type\":\"string\"}],\"name\":\"OrderLog\",\"type\":\"event\"}];\n",
    "var _bin=\"0x\" + \"608060405234801561001057600080fd5b50336000806101000a81548173ffffffffffffffffffffffffffffffffffffffff021916908373ffffffffffffffffffffffffffffffffffffffff160217905550610339806100606000396000f3fe6080604052600436106100295760003560e01c806312065fe01461002e5780637a59a92914610059575b600080fd5b34801561003a57600080fd5b50610043610149565b6040518082815260200191505060405180910390f35b6101476004803603606081101561006f57600080fd5b8101908080357dffffffffffffffffffffffffffffffffffffffffffffffffffffffffffff1916906020019092919080359060200190929190803590602001906401000000008111156100c157600080fd5b8201836020820111156100d357600080fd5b803590602001918460018302840111640100000000831117156100f557600080fd5b91908080601f016020809104026020016040519081016040528093929190818152602001838380828437600081840152601f19601f8201169050808301925050505050505091929192905050506101aa565b005b60008060009054906101000a900473ffffffffffffffffffffffffffffffffffffffff1673ffffffffffffffffffffffffffffffffffffffff163373ffffffffffffffffffffffffffffffffffffffff16146101a457600080fd5b47905090565b6000809054906101000a900473ffffffffffffffffffffffffffffffffffffffff1673ffffffffffffffffffffffffffffffffffffffff163373ffffffffffffffffffffffffffffffffffffffff1614156102fe57813373ffffffffffffffffffffffffffffffffffffffff167f0cee52e22e6b387c4183ee502522fa33f030e118cc6065c7a842e8b7c00e4a6a858460405180837dffffffffffffffffffffffffffffffffffffffffffffffffffffffffffff19167dffffffffffffffffffffffffffffffffffffffffffffffffffffffffffff1916815260200180602001828103825283818151815260200191508051906020019080838360005b838110156102c25780820151818401526020810190506102a7565b50505050905090810190601f1680156102ef5780820380516001836020036101000a031916815260200191505b50935050505060405180910390a35b50505056fea2646970667358221220fc8c59e42695b66e76223f55dddaf1efaef4bbdcc47e70b11ba2e874702b75d064736f6c63430006040033\";\n",
    "\n",
    "async function deploy() {\n",
    "    const accounts = await web3.eth.getAccounts();\n",
    "    console.log(\"Deploying the contract from \" + accounts[0]);\n",
    "    var deployed = await new web3.eth.Contract(_abiArray)\n",
    "        .deploy({data: _bin})\n",
    "        .send({from: accounts[0], gas: 2000000}, function(err, transactionHash) {\n",
    "                if(!err) console.log(\"hash: \" + transactionHash); \n",
    "        })\n",
    "    console.log(\"---> The contract deployed to: \" + deployed.options.address)\n",
    "}\n",
    "deploy()"
   ]
  },
  {
   "cell_type": "code",
   "execution_count": 6,
   "metadata": {},
   "outputs": [
    {
     "name": "stdout",
     "output_type": "stream",
     "text": [
      "Deploying the contract from 0xE1E222F7567794c4813F2965719f59C15e8A7a84\n",
      "hash: 0xe68b21963a9d23bf8c29a23632d90a0647965e34bcfb0ebf6f5e7ad99a720ecc\n",
      "---> The contract deployed to: 0xd0A0013D631660a8527bDf05Cc809456FE71273D\n"
     ]
    }
   ],
   "source": [
    "!node src/OrderEventDeploy_geth.js"
   ]
  },
  {
   "cell_type": "code",
   "execution_count": 7,
   "metadata": {},
   "outputs": [
    {
     "name": "stdout",
     "output_type": "stream",
     "text": [
      "{\n",
      "  blockHash: \"0xda4a618514a6a29018406ef0339a68eed8de1da201c2db30e217959ff3b2cc84\",\n",
      "  blockNumber: 893,\n",
      "  contractAddress: \"0xd0a0013d631660a8527bdf05cc809456fe71273d\",\n",
      "  cumulativeGasUsed: 298350,\n",
      "  from: \"0xe1e222f7567794c4813f2965719f59c15e8a7a84\",\n",
      "  gasUsed: 298350,\n",
      "  logs: [],\n",
      "  logsBloom: \"0x00000000000000000000000000000000000000000000000000000000000000000000000000000000000000000000000000000000000000000000000000000000000000000000000000000000000000000000000000000000000000000000000000000000000000000000000000000000000000000000000000000000000000000000000000000000000000000000000000000000000000000000000000000000000000000000000000000000000000000000000000000000000000000000000000000000000000000000000000000000000000000000000000000000000000000000000000000000000000000000000000000000000000000000000000000000\",\n",
      "  root: \"0xe82b1b9d984b1e8a888d9774a5921afa82f76d3fc049e934912ef4e045efd9d0\",\n",
      "  to: null,\n",
      "  transactionHash: \"0xe68b21963a9d23bf8c29a23632d90a0647965e34bcfb0ebf6f5e7ad99a720ecc\",\n",
      "  transactionIndex: 0,\n",
      "  type: \"0x0\"\n",
      "}\n"
     ]
    }
   ],
   "source": [
    "!geth --exec \"eth.getTransactionReceipt('0xe68b21963a9d23bf8c29a23632d90a0647965e34bcfb0ebf6f5e7ad99a720ecc')\" attach http://localhost:8445"
   ]
  },
  {
   "cell_type": "code",
   "execution_count": null,
   "metadata": {},
   "outputs": [],
   "source": [
    "%%writefile src/OrderEventUse_geth.js\n",
    "var Web3=require('web3');\n",
    "var fs=require('fs');\n",
    "var web3;\n",
    "if (typeof web3 !== 'undefined') {\n",
    "    web3 = new Web3(web3.currentProvider);\n",
    "} else {\n",
    "    var web3 = new Web3(new Web3.providers.WebsocketProvider(\"http://localhost:8445\"));\n",
    "}\n",
    "var _abiArray =[{\"constant\":true,\"inputs\":[],\"name\":\"getBalance\",\"outputs\":[{\"name\":\"\",\"type\":\"uint256\"}],\"payable\":false,\"stateMutability\":\"view\",\"type\":\"function\"},{\"constant\":false,\"inputs\":[{\"name\":\"_itemId\",\"type\":\"bytes2\"},{\"name\":\"quantity\",\"type\":\"uint256\"},{\"name\":\"addr\",\"type\":\"string\"}],\"name\":\"order\",\"outputs\":[],\"payable\":true,\"stateMutability\":\"payable\",\"type\":\"function\"},{\"inputs\":[],\"payable\":false,\"stateMutability\":\"nonpayable\",\"type\":\"constructor\"},{\"anonymous\":false,\"inputs\":[{\"indexed\":false,\"name\":\"_itemId\",\"type\":\"bytes2\"},{\"indexed\":true,\"name\":\"_value\",\"type\":\"uint256\"}],\"name\":\"OrderLog\",\"type\":\"event\"},{\"anonymous\":false,\"inputs\":[{\"indexed\":true,\"name\":\"_from\",\"type\":\"address\"},{\"indexed\":false,\"name\":\"_itemId\",\"type\":\"bytes2\"},{\"indexed\":true,\"name\":\"quantity\",\"type\":\"uint256\"},{\"indexed\":false,\"name\":\"addr\",\"type\":\"string\"}],\"name\":\"OrderLog\",\"type\":\"event\"}];\n",
    "async function doIt() {\n",
    "    var _order = new web3.eth.Contract(_abiArray, '0xd0A0013D631660a8527bDf05Cc809456FE71273D');\n",
    "    const accounts = await web3.eth.getAccounts();\n",
    "    console.log(\"Account: \" + accounts[0]);\n",
    "    var event = _order.events.OrderLog({\n",
    "            filter: {_from: accounts[0]},\n",
    "            fromBlock: 'latest', toBlock: 'pending'\n",
    "        }, function (error, result) {\n",
    "        if (!error) {\n",
    "            var log = result.returnValues;\n",
    "            console.log(\"Event fired: \" + JSON.stringify(log));\n",
    "            fs.appendFile(\"src/OrderEvent_geth.txt\",log[\"_from\"]+\", \"+log[\"_itemId\"]+\",\"+log[\"quantity\"]+', '+log[\"addr\"]+\"\\n\" , \"utf-8\", function(e){\n",
    "            if(!e) {\n",
    "                console.log(\">> Writing to file\");\n",
    "                }\n",
    "            });\n",
    "        }\n",
    "    });\n",
    "    var value;\n",
    "    my = await _order.methods.order(\"0x1111\", 3, \"20 2-gil Hongji-dong Jongro-gu Seoul\")\n",
    "        .send({from: accounts[0], gas: 100000,value:30})\n",
    "    console.log(\"---> MyFunction called \" + JSON.stringify(my.events.OrderLog.returnValues));\n",
    "    my = await _order.methods.order(\"0x1111\", 5, \"20 2-gil Hongji-dong Jongro-gu Seoul\")\n",
    "        .send({from: accounts[0], gas: 100000,value:50})\n",
    "    console.log(\"---> MyFunction called \" + JSON.stringify(my.events.OrderLog.returnValues));\n",
    "    my = await _order.methods.order(\"0x1111\", 20, \"20 2-gil Hongji-dong Jongro-gu Seoul\")\n",
    "        .send({from: accounts[0], gas: 100000,value:200})\n",
    "    console.log(\"---> MyFunction called \" + JSON.stringify(my.events.OrderLog.returnValues));\n",
    "    process.exit(1);\n",
    "}\n",
    "doIt();"
   ]
  },
  {
   "cell_type": "code",
   "execution_count": null,
   "metadata": {},
   "outputs": [],
   "source": [
    "!node src/OrderEventUse_geth.js"
   ]
  },
  {
   "cell_type": "code",
   "execution_count": 55,
   "metadata": {},
   "outputs": [
    {
     "name": "stdout",
     "output_type": "stream",
     "text": [
      "0xA7F1bf68c356F1F934F050eb69B753B370bf32C2, 0x1111,3, 20 2-gil Hongji-dong Jongro-gu Seoul\n",
      "0xA7F1bf68c356F1F934F050eb69B753B370bf32C2, 0x1111,5, 20 2-gil Hongji-dong Jongro-gu Seoul\n",
      "0xA7F1bf68c356F1F934F050eb69B753B370bf32C2, 0x1111,20, 20 2-gil Hongji-dong Jongro-gu Seoul\n"
     ]
    }
   ],
   "source": [
    "!type src\\OrderEvent_geth.txt"
   ]
  }
 ],
 "metadata": {
  "kernelspec": {
   "display_name": "Python 3",
   "language": "python",
   "name": "python3"
  },
  "language_info": {
   "codemirror_mode": {
    "name": "ipython",
    "version": 3
   },
   "file_extension": ".py",
   "mimetype": "text/x-python",
   "name": "python",
   "nbconvert_exporter": "python",
   "pygments_lexer": "ipython3",
   "version": "3.7.3"
  }
 },
 "nbformat": 4,
 "nbformat_minor": 2
}
