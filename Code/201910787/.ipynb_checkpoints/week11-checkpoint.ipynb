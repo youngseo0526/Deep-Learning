{
 "cells": [
  {
   "cell_type": "markdown",
   "metadata": {},
   "source": [
    "# 문제\n",
    "\n",
    "간단한 은행 컨트랙을 프로그램하여 아래 기능을 실행하도록 하세요.\n",
    "\n",
    "은행 컨트랙의 함수는 다음과 같이 만드세요.\n",
    "\n",
    "* 입금액을 정해서 입금. 입금액을 매개변수로 넣어준다.\n",
    "\n",
    "\tfunction deposit(uint amount) public payable\n",
    "    \n",
    "\n",
    "* 전액 인출 함수. 인출 금액을 정하기 않아도 되므로 함수 인자가 없다.\n",
    "\n",
    "\tfunction widthdrawAll() public\n",
    "    \n",
    "\n",
    "* 컨트랙 잔고확인 함수 (this를 이용한 잔고, 상태변수 잔고 (this 잔고가 맞는지 확인하는 용도)\n",
    "\n",
    "\tfunction getBalance() public view returns(uint, uint)\n",
    "    \n",
    "\n",
    "* 다른 계정으로 계좌이체 함수\n",
    "\n",
    "\tfunction forwardTo(address payable _receiver) public payable"
   ]
  },
  {
   "cell_type": "code",
   "execution_count": 1,
   "metadata": {},
   "outputs": [
    {
     "name": "stdout",
     "output_type": "stream",
     "text": [
      "C:\\Users\\jeh\\Code\\201910835\n"
     ]
    }
   ],
   "source": [
    "%cd C:\\Users\\jeh\\Code\\201910835"
   ]
  },
  {
   "cell_type": "code",
   "execution_count": 2,
   "metadata": {},
   "outputs": [
    {
     "name": "stdout",
     "output_type": "stream",
     "text": [
      "Writing src/week11/SimpleBank.sol\n"
     ]
    }
   ],
   "source": [
    "%%writefile src/week11/SimpleBank.sol\n",
    "\n",
    "pragma solidity ^0.6.0;\n",
    "\n",
    "contract SimpleBank{\n",
    "    address payable owner;\n",
    "    uint balance;\n",
    "    uint inc;\n",
    "    constructor() public {\n",
    "        owner = msg.sender;\n",
    "        balance = address(this).balance;\n",
    "    }\n",
    "    function deposit(uint amount) public payable {\n",
    "        require(msg.value == amount);\n",
    "        balance += amount;\n",
    "    }\n",
    "    function widthdrawAll() public {\n",
    "        inc = owner.balance;\n",
    "        owner.transfer(balance);\n",
    "        balance -= balance;\n",
    "        inc = owner.balance-inc;\n",
    "    }\n",
    "    function getBalance() public view returns(uint, uint) {\n",
    "        return (address(this).balance, balance);\n",
    "    }\n",
    "    function forwardTo(address payable _receiver) public payable {\n",
    "        inc = address(_receiver).balance;\n",
    "        _receiver.transfer(msg.value);\n",
    "        inc = address(_receiver).balance-inc;\n",
    "    }\n",
    "    function getBalanceInc() public view returns(uint) {\n",
    "        return inc;\n",
    "    }\n",
    "}"
   ]
  },
  {
   "cell_type": "code",
   "execution_count": 3,
   "metadata": {},
   "outputs": [
    {
     "name": "stdout",
     "output_type": "stream",
     "text": [
      "\n",
      "======= src/week11/SimpleBank.sol:SimpleBank =======\n",
      "Gas estimation:\n",
      "construction:\n",
      "   41090 + 162600 = 203690\n",
      "external:\n",
      "   deposit(uint256):\t21125\n",
      "   forwardTo(address):\tinfinite\n",
      "   getBalance():\t1027\n",
      "   getBalanceInc():\t1057\n",
      "   widthdrawAll():\tinfinite\n",
      "Binary:\n",
      "608060405234801561001057600080fd5b50336000806101000a81548173ffffffffffffffffffffffffffffffffffffffff021916908373ffffffffffffffffffffffffffffffffffffffff1602179055504760018190555061032d806100676000396000f3fe60806040526004361061004a5760003560e01c806312065fe01461004f57806327d8ad88146100815780633c459375146100c557806361c06694146100dc578063b6b55f2514610107575b600080fd5b34801561005b57600080fd5b50610064610135565b604051808381526020018281526020019250505060405180910390f35b6100c36004803603602081101561009757600080fd5b81019080803573ffffffffffffffffffffffffffffffffffffffff169060200190929190505050610144565b005b3480156100d157600080fd5b506100da6101ce565b005b3480156100e857600080fd5b506100f16102ce565b6040518082815260200191505060405180910390f35b6101336004803603602081101561011d57600080fd5b81019080803590602001909291905050506102d8565b005b60008047600154915091509091565b8073ffffffffffffffffffffffffffffffffffffffff16316002819055508073ffffffffffffffffffffffffffffffffffffffff166108fc349081150290604051600060405180830381858888f193505050501580156101a8573d6000803e3d6000fd5b506002548173ffffffffffffffffffffffffffffffffffffffff16310360028190555050565b6000809054906101000a900473ffffffffffffffffffffffffffffffffffffffff1673ffffffffffffffffffffffffffffffffffffffff16316002819055506000809054906101000a900473ffffffffffffffffffffffffffffffffffffffff1673ffffffffffffffffffffffffffffffffffffffff166108fc6001549081150290604051600060405180830381858888f19350505050158015610276573d6000803e3d6000fd5b506001546001600082825403925050819055506002546000809054906101000a900473ffffffffffffffffffffffffffffffffffffffff1673ffffffffffffffffffffffffffffffffffffffff163103600281905550565b6000600254905090565b8034146102e457600080fd5b806001600082825401925050819055505056fea264697066735822122071ec422e478023e14b73906bf3169e9e900e8fda7cc2d402c9aef26b70ae7d8a64736f6c63430006040033\n",
      "Contract JSON ABI\n",
      "[{\"inputs\":[],\"stateMutability\":\"nonpayable\",\"type\":\"constructor\"},{\"inputs\":[{\"internalType\":\"uint256\",\"name\":\"amount\",\"type\":\"uint256\"}],\"name\":\"deposit\",\"outputs\":[],\"stateMutability\":\"payable\",\"type\":\"function\"},{\"inputs\":[{\"internalType\":\"address payable\",\"name\":\"_receiver\",\"type\":\"address\"}],\"name\":\"forwardTo\",\"outputs\":[],\"stateMutability\":\"payable\",\"type\":\"function\"},{\"inputs\":[],\"name\":\"getBalance\",\"outputs\":[{\"internalType\":\"uint256\",\"name\":\"\",\"type\":\"uint256\"},{\"internalType\":\"uint256\",\"name\":\"\",\"type\":\"uint256\"}],\"stateMutability\":\"view\",\"type\":\"function\"},{\"inputs\":[],\"name\":\"getBalanceInc\",\"outputs\":[{\"internalType\":\"uint256\",\"name\":\"\",\"type\":\"uint256\"}],\"stateMutability\":\"view\",\"type\":\"function\"},{\"inputs\":[],\"name\":\"widthdrawAll\",\"outputs\":[],\"stateMutability\":\"nonpayable\",\"type\":\"function\"}]\n"
     ]
    }
   ],
   "source": [
    "!solc --gas --abi --bin src/week11/SimpleBank.sol"
   ]
  },
  {
   "cell_type": "code",
   "execution_count": 4,
   "metadata": {},
   "outputs": [
    {
     "name": "stdout",
     "output_type": "stream",
     "text": [
      "[\n",
      "  '0x801e2e6b3de149B674467aDfE924399082E7c6f8',\n",
      "  '0xfda5E0295edB1b8a54fc83B75b34d7558a7b4D2A',\n",
      "  '0x870B70C1af7f7C05994C26a6e994BB9Cf3EeA781',\n",
      "  '0x640C84442Cb621caBa1e7481421fE29594781c41',\n",
      "  '0xBB771Ad1AdC710ed98d928BEae0854479f2e954E',\n",
      "  '0x173960c4E2008a66A3B9341fFaD163981e3dc961',\n",
      "  '0x4ED70c3239deCD3480551A05e67F9050800B3221',\n",
      "  '0xFc108897CD8e056E5532263Ba304C3c29f9B935B',\n",
      "  '0x77FE44A13b61F08F72006689Ae58718B1af3f36b',\n",
      "  '0xf6e688EeeC3f083984995c94Fbfa0ADe13FA44e4'\n",
      "]\n"
     ]
    },
    {
     "name": "stderr",
     "output_type": "stream",
     "text": [
      "web3-shh package will be deprecated in version 1.3.5 and will no longer be supported.\n",
      "web3-bzz package will be deprecated in version 1.3.5 and will no longer be supported.\n"
     ]
    }
   ],
   "source": [
    "!node src/myAddr.js"
   ]
  },
  {
   "cell_type": "markdown",
   "metadata": {},
   "source": [
    "## ganache에 배포"
   ]
  },
  {
   "cell_type": "code",
   "execution_count": 5,
   "metadata": {},
   "outputs": [
    {
     "name": "stdout",
     "output_type": "stream",
     "text": [
      "Writing src/week11/SimpleBankDeploy.js\n"
     ]
    }
   ],
   "source": [
    "%%writefile src/week11/SimpleBankDeploy.js\n",
    "var Web3=require('web3');\n",
    "var web3;\n",
    "if (typeof web3 !== 'undefined') {\n",
    "    web3 = new Web3(web3.currentProvider);\n",
    "} else {\n",
    "    web3 = new Web3(new Web3.providers.HttpProvider(\"http://127.0.0.1:8345\"));\n",
    "}\n",
    "var _abiArray=[{\"inputs\":[],\"stateMutability\":\"nonpayable\",\"type\":\"constructor\"},{\"inputs\":[{\"internalType\":\"uint256\",\"name\":\"amount\",\"type\":\"uint256\"}],\"name\":\"deposit\",\"outputs\":[],\"stateMutability\":\"payable\",\"type\":\"function\"},{\"inputs\":[{\"internalType\":\"address payable\",\"name\":\"_receiver\",\"type\":\"address\"}],\"name\":\"forwardTo\",\"outputs\":[],\"stateMutability\":\"payable\",\"type\":\"function\"},{\"inputs\":[],\"name\":\"getBalance\",\"outputs\":[{\"internalType\":\"uint256\",\"name\":\"\",\"type\":\"uint256\"},{\"internalType\":\"uint256\",\"name\":\"\",\"type\":\"uint256\"}],\"stateMutability\":\"view\",\"type\":\"function\"},{\"inputs\":[],\"name\":\"getBalanceInc\",\"outputs\":[{\"internalType\":\"uint256\",\"name\":\"\",\"type\":\"uint256\"}],\"stateMutability\":\"view\",\"type\":\"function\"},{\"inputs\":[],\"name\":\"widthdrawAll\",\"outputs\":[],\"stateMutability\":\"nonpayable\",\"type\":\"function\"}];\n",
    "var _bin=\"608060405234801561001057600080fd5b50336000806101000a81548173ffffffffffffffffffffffffffffffffffffffff021916908373ffffffffffffffffffffffffffffffffffffffff1602179055504760018190555061032d806100676000396000f3fe60806040526004361061004a5760003560e01c806312065fe01461004f57806327d8ad88146100815780633c459375146100c557806361c06694146100dc578063b6b55f2514610107575b600080fd5b34801561005b57600080fd5b50610064610135565b604051808381526020018281526020019250505060405180910390f35b6100c36004803603602081101561009757600080fd5b81019080803573ffffffffffffffffffffffffffffffffffffffff169060200190929190505050610144565b005b3480156100d157600080fd5b506100da6101ce565b005b3480156100e857600080fd5b506100f16102ce565b6040518082815260200191505060405180910390f35b6101336004803603602081101561011d57600080fd5b81019080803590602001909291905050506102d8565b005b60008047600154915091509091565b8073ffffffffffffffffffffffffffffffffffffffff16316002819055508073ffffffffffffffffffffffffffffffffffffffff166108fc349081150290604051600060405180830381858888f193505050501580156101a8573d6000803e3d6000fd5b506002548173ffffffffffffffffffffffffffffffffffffffff16310360028190555050565b6000809054906101000a900473ffffffffffffffffffffffffffffffffffffffff1673ffffffffffffffffffffffffffffffffffffffff16316002819055506000809054906101000a900473ffffffffffffffffffffffffffffffffffffffff1673ffffffffffffffffffffffffffffffffffffffff166108fc6001549081150290604051600060405180830381858888f19350505050158015610276573d6000803e3d6000fd5b506001546001600082825403925050819055506002546000809054906101000a900473ffffffffffffffffffffffffffffffffffffffff1673ffffffffffffffffffffffffffffffffffffffff163103600281905550565b6000600254905090565b8034146102e457600080fd5b806001600082825401925050819055505056fea264697066735822122071ec422e478023e14b73906bf3169e9e900e8fda7cc2d402c9aef26b70ae7d8a64736f6c63430006040033\";\n",
    "var _contract = new web3.eth.Contract(_abiArray);\n",
    "_contract\n",
    ".deploy({data:\"0x\"+_bin})\n",
    "    .send({from:\"0x801e2e6b3de149B674467aDfE924399082E7c6f8\",gas:1000000})\n",
    "    .then(function(newContractInstance){\n",
    "        console.log(newContractInstance.options.address) // instance with the new contract address\n",
    "    });"
   ]
  },
  {
   "cell_type": "code",
   "execution_count": 6,
   "metadata": {},
   "outputs": [
    {
     "name": "stdout",
     "output_type": "stream",
     "text": [
      "0x1EFCc13F0EF9D6C7C318A6F99B3911432FfE1AF2\n"
     ]
    },
    {
     "name": "stderr",
     "output_type": "stream",
     "text": [
      "web3-shh package will be deprecated in version 1.3.5 and will no longer be supported.\n",
      "web3-bzz package will be deprecated in version 1.3.5 and will no longer be supported.\n"
     ]
    }
   ],
   "source": [
    "!node src/week11/SimpleBankDeploy.js"
   ]
  },
  {
   "cell_type": "markdown",
   "metadata": {},
   "source": [
    "### 입금 11111 wei, 222 wei"
   ]
  },
  {
   "cell_type": "code",
   "execution_count": 7,
   "metadata": {},
   "outputs": [
    {
     "name": "stdout",
     "output_type": "stream",
     "text": [
      "Writing src/week11/SimpleBankUse1_1.js\n"
     ]
    }
   ],
   "source": [
    "%%writefile src/week11/SimpleBankUse1_1.js\n",
    "var Web3=require('web3');\n",
    "var web3 = new Web3(new Web3.providers.HttpProvider(\"http://127.0.0.1:8345\"));\n",
    "var _abiArray=[{\"inputs\":[],\"stateMutability\":\"nonpayable\",\"type\":\"constructor\"},{\"inputs\":[{\"internalType\":\"uint256\",\"name\":\"amount\",\"type\":\"uint256\"}],\"name\":\"deposit\",\"outputs\":[],\"stateMutability\":\"payable\",\"type\":\"function\"},{\"inputs\":[{\"internalType\":\"address payable\",\"name\":\"_receiver\",\"type\":\"address\"}],\"name\":\"forwardTo\",\"outputs\":[],\"stateMutability\":\"payable\",\"type\":\"function\"},{\"inputs\":[],\"name\":\"getBalance\",\"outputs\":[{\"internalType\":\"uint256\",\"name\":\"\",\"type\":\"uint256\"},{\"internalType\":\"uint256\",\"name\":\"\",\"type\":\"uint256\"}],\"stateMutability\":\"view\",\"type\":\"function\"},{\"inputs\":[],\"name\":\"getBalanceInc\",\"outputs\":[{\"internalType\":\"uint256\",\"name\":\"\",\"type\":\"uint256\"}],\"stateMutability\":\"view\",\"type\":\"function\"},{\"inputs\":[],\"name\":\"widthdrawAll\",\"outputs\":[],\"stateMutability\":\"nonpayable\",\"type\":\"function\"}];\n",
    "var bank = new web3.eth.Contract(_abiArray, '0x1EFCc13F0EF9D6C7C318A6F99B3911432FfE1AF2');\n",
    "\n",
    "bank.methods.deposit(11111).send({from:\"0x801e2e6b3de149B674467aDfE924399082E7c6f8\",gas:80000,value:11111});\n",
    "bank.methods.deposit(222).send({from:\"0x801e2e6b3de149B674467aDfE924399082E7c6f8\",gas:80000,value:222});"
   ]
  },
  {
   "cell_type": "code",
   "execution_count": 8,
   "metadata": {},
   "outputs": [
    {
     "name": "stderr",
     "output_type": "stream",
     "text": [
      "web3-shh package will be deprecated in version 1.3.5 and will no longer be supported.\n",
      "web3-bzz package will be deprecated in version 1.3.5 and will no longer be supported.\n"
     ]
    }
   ],
   "source": [
    "!node src/week11/SimpleBankUse1_1.js"
   ]
  },
  {
   "cell_type": "markdown",
   "metadata": {},
   "source": [
    "### 잔고 11333 wei 출력"
   ]
  },
  {
   "cell_type": "code",
   "execution_count": 9,
   "metadata": {},
   "outputs": [
    {
     "name": "stdout",
     "output_type": "stream",
     "text": [
      "Writing src/week11/SimpleBankUse1_2.js\n"
     ]
    }
   ],
   "source": [
    "%%writefile src/week11/SimpleBankUse1_2.js\n",
    "var Web3=require('web3');\n",
    "var web3 = new Web3(new Web3.providers.HttpProvider(\"http://127.0.0.1:8345\"));\n",
    "var _abiArray=[{\"inputs\":[],\"stateMutability\":\"nonpayable\",\"type\":\"constructor\"},{\"inputs\":[{\"internalType\":\"uint256\",\"name\":\"amount\",\"type\":\"uint256\"}],\"name\":\"deposit\",\"outputs\":[],\"stateMutability\":\"payable\",\"type\":\"function\"},{\"inputs\":[{\"internalType\":\"address payable\",\"name\":\"_receiver\",\"type\":\"address\"}],\"name\":\"forwardTo\",\"outputs\":[],\"stateMutability\":\"payable\",\"type\":\"function\"},{\"inputs\":[],\"name\":\"getBalance\",\"outputs\":[{\"internalType\":\"uint256\",\"name\":\"\",\"type\":\"uint256\"},{\"internalType\":\"uint256\",\"name\":\"\",\"type\":\"uint256\"}],\"stateMutability\":\"view\",\"type\":\"function\"},{\"inputs\":[],\"name\":\"getBalanceInc\",\"outputs\":[{\"internalType\":\"uint256\",\"name\":\"\",\"type\":\"uint256\"}],\"stateMutability\":\"view\",\"type\":\"function\"},{\"inputs\":[],\"name\":\"widthdrawAll\",\"outputs\":[],\"stateMutability\":\"nonpayable\",\"type\":\"function\"}];\n",
    "var bank = new web3.eth.Contract(_abiArray, '0x1EFCc13F0EF9D6C7C318A6F99B3911432FfE1AF2');\n",
    "\n",
    "bank.methods.getBalance().call().then(console.log);"
   ]
  },
  {
   "cell_type": "code",
   "execution_count": 10,
   "metadata": {},
   "outputs": [
    {
     "name": "stdout",
     "output_type": "stream",
     "text": [
      "Result { '0': '11333', '1': '11333' }\n"
     ]
    },
    {
     "name": "stderr",
     "output_type": "stream",
     "text": [
      "web3-shh package will be deprecated in version 1.3.5 and will no longer be supported.\n",
      "web3-bzz package will be deprecated in version 1.3.5 and will no longer be supported.\n"
     ]
    }
   ],
   "source": [
    "!node src/week11/SimpleBankUse1_2.js"
   ]
  },
  {
   "cell_type": "markdown",
   "metadata": {},
   "source": [
    "### 자신의 2번째 계정으로 계좌이체 333 wei"
   ]
  },
  {
   "cell_type": "code",
   "execution_count": 11,
   "metadata": {},
   "outputs": [
    {
     "name": "stdout",
     "output_type": "stream",
     "text": [
      "Writing src/week11/SimpleBankUse2_1.js\n"
     ]
    }
   ],
   "source": [
    "%%writefile src/week11/SimpleBankUse2_1.js\n",
    "var Web3=require('web3');\n",
    "var web3 = new Web3(new Web3.providers.HttpProvider(\"http://127.0.0.1:8345\"));\n",
    "var _abiArray=[{\"inputs\":[],\"stateMutability\":\"nonpayable\",\"type\":\"constructor\"},{\"inputs\":[{\"internalType\":\"uint256\",\"name\":\"amount\",\"type\":\"uint256\"}],\"name\":\"deposit\",\"outputs\":[],\"stateMutability\":\"payable\",\"type\":\"function\"},{\"inputs\":[{\"internalType\":\"address payable\",\"name\":\"_receiver\",\"type\":\"address\"}],\"name\":\"forwardTo\",\"outputs\":[],\"stateMutability\":\"payable\",\"type\":\"function\"},{\"inputs\":[],\"name\":\"getBalance\",\"outputs\":[{\"internalType\":\"uint256\",\"name\":\"\",\"type\":\"uint256\"},{\"internalType\":\"uint256\",\"name\":\"\",\"type\":\"uint256\"}],\"stateMutability\":\"view\",\"type\":\"function\"},{\"inputs\":[],\"name\":\"getBalanceInc\",\"outputs\":[{\"internalType\":\"uint256\",\"name\":\"\",\"type\":\"uint256\"}],\"stateMutability\":\"view\",\"type\":\"function\"},{\"inputs\":[],\"name\":\"widthdrawAll\",\"outputs\":[],\"stateMutability\":\"nonpayable\",\"type\":\"function\"}];\n",
    "var bank = new web3.eth.Contract(_abiArray, '0x1EFCc13F0EF9D6C7C318A6F99B3911432FfE1AF2');\n",
    "\n",
    "bank.methods.forwardTo(\"0xfda5E0295edB1b8a54fc83B75b34d7558a7b4D2A\").send({from:\"0x801e2e6b3de149B674467aDfE924399082E7c6f8\",gas:100000,value:333});"
   ]
  },
  {
   "cell_type": "code",
   "execution_count": 12,
   "metadata": {},
   "outputs": [
    {
     "name": "stderr",
     "output_type": "stream",
     "text": [
      "web3-shh package will be deprecated in version 1.3.5 and will no longer be supported.\n",
      "web3-bzz package will be deprecated in version 1.3.5 and will no longer be supported.\n"
     ]
    }
   ],
   "source": [
    "!node src/week11/SimpleBankUse2_1.js"
   ]
  },
  {
   "cell_type": "markdown",
   "metadata": {},
   "source": [
    "### 컨트랙 잔고 출력, 자신의 2번째 계정 잔고 증가분 출력"
   ]
  },
  {
   "cell_type": "code",
   "execution_count": 13,
   "metadata": {},
   "outputs": [
    {
     "name": "stdout",
     "output_type": "stream",
     "text": [
      "Writing src/week11/SimpleBankUse2_2.js\n"
     ]
    }
   ],
   "source": [
    "%%writefile src/week11/SimpleBankUse2_2.js\n",
    "var Web3=require('web3');\n",
    "var web3 = new Web3(new Web3.providers.HttpProvider(\"http://127.0.0.1:8345\"));\n",
    "var _abiArray=[{\"inputs\":[],\"stateMutability\":\"nonpayable\",\"type\":\"constructor\"},{\"inputs\":[{\"internalType\":\"uint256\",\"name\":\"amount\",\"type\":\"uint256\"}],\"name\":\"deposit\",\"outputs\":[],\"stateMutability\":\"payable\",\"type\":\"function\"},{\"inputs\":[{\"internalType\":\"address payable\",\"name\":\"_receiver\",\"type\":\"address\"}],\"name\":\"forwardTo\",\"outputs\":[],\"stateMutability\":\"payable\",\"type\":\"function\"},{\"inputs\":[],\"name\":\"getBalance\",\"outputs\":[{\"internalType\":\"uint256\",\"name\":\"\",\"type\":\"uint256\"},{\"internalType\":\"uint256\",\"name\":\"\",\"type\":\"uint256\"}],\"stateMutability\":\"view\",\"type\":\"function\"},{\"inputs\":[],\"name\":\"getBalanceInc\",\"outputs\":[{\"internalType\":\"uint256\",\"name\":\"\",\"type\":\"uint256\"}],\"stateMutability\":\"view\",\"type\":\"function\"},{\"inputs\":[],\"name\":\"widthdrawAll\",\"outputs\":[],\"stateMutability\":\"nonpayable\",\"type\":\"function\"}];\n",
    "var bank = new web3.eth.Contract(_abiArray, '0x1EFCc13F0EF9D6C7C318A6F99B3911432FfE1AF2');\n",
    "\n",
    "bank.methods.getBalance().call().then(console.log);\n",
    "bank.methods.getBalanceInc().call().then(console.log);"
   ]
  },
  {
   "cell_type": "code",
   "execution_count": 14,
   "metadata": {},
   "outputs": [
    {
     "name": "stdout",
     "output_type": "stream",
     "text": [
      "Result { '0': '11333', '1': '11333' }\n",
      "333\n"
     ]
    },
    {
     "name": "stderr",
     "output_type": "stream",
     "text": [
      "web3-shh package will be deprecated in version 1.3.5 and will no longer be supported.\n",
      "web3-bzz package will be deprecated in version 1.3.5 and will no longer be supported.\n"
     ]
    }
   ],
   "source": [
    "!node src/week11/SimpleBankUse2_2.js"
   ]
  },
  {
   "cell_type": "markdown",
   "metadata": {},
   "source": [
    "### 전액 인출"
   ]
  },
  {
   "cell_type": "code",
   "execution_count": 15,
   "metadata": {},
   "outputs": [
    {
     "name": "stdout",
     "output_type": "stream",
     "text": [
      "Writing src/week11/SimpleBankUse3_1.js\n"
     ]
    }
   ],
   "source": [
    "%%writefile src/week11/SimpleBankUse3_1.js\n",
    "var Web3=require('web3');\n",
    "var web3 = new Web3(new Web3.providers.HttpProvider(\"http://127.0.0.1:8345\"));\n",
    "var _abiArray=[{\"inputs\":[],\"stateMutability\":\"nonpayable\",\"type\":\"constructor\"},{\"inputs\":[{\"internalType\":\"uint256\",\"name\":\"amount\",\"type\":\"uint256\"}],\"name\":\"deposit\",\"outputs\":[],\"stateMutability\":\"payable\",\"type\":\"function\"},{\"inputs\":[{\"internalType\":\"address payable\",\"name\":\"_receiver\",\"type\":\"address\"}],\"name\":\"forwardTo\",\"outputs\":[],\"stateMutability\":\"payable\",\"type\":\"function\"},{\"inputs\":[],\"name\":\"getBalance\",\"outputs\":[{\"internalType\":\"uint256\",\"name\":\"\",\"type\":\"uint256\"},{\"internalType\":\"uint256\",\"name\":\"\",\"type\":\"uint256\"}],\"stateMutability\":\"view\",\"type\":\"function\"},{\"inputs\":[],\"name\":\"getBalanceInc\",\"outputs\":[{\"internalType\":\"uint256\",\"name\":\"\",\"type\":\"uint256\"}],\"stateMutability\":\"view\",\"type\":\"function\"},{\"inputs\":[],\"name\":\"widthdrawAll\",\"outputs\":[],\"stateMutability\":\"nonpayable\",\"type\":\"function\"}];\n",
    "var bank = new web3.eth.Contract(_abiArray, '0x1EFCc13F0EF9D6C7C318A6F99B3911432FfE1AF2');\n",
    "\n",
    "bank.methods.widthdrawAll().send({from:\"0x801e2e6b3de149B674467aDfE924399082E7c6f8\"});"
   ]
  },
  {
   "cell_type": "code",
   "execution_count": 16,
   "metadata": {},
   "outputs": [
    {
     "name": "stderr",
     "output_type": "stream",
     "text": [
      "web3-shh package will be deprecated in version 1.3.5 and will no longer be supported.\n",
      "web3-bzz package will be deprecated in version 1.3.5 and will no longer be supported.\n"
     ]
    }
   ],
   "source": [
    "!node src/week11/SimpleBankUse3_1.js"
   ]
  },
  {
   "cell_type": "markdown",
   "metadata": {},
   "source": [
    "### 자신의 잔고 증가분 출력"
   ]
  },
  {
   "cell_type": "code",
   "execution_count": 17,
   "metadata": {},
   "outputs": [
    {
     "name": "stdout",
     "output_type": "stream",
     "text": [
      "Writing src/week11/SimpleBankUse3_2.js\n"
     ]
    }
   ],
   "source": [
    "%%writefile src/week11/SimpleBankUse3_2.js\n",
    "var Web3=require('web3');\n",
    "var web3 = new Web3(new Web3.providers.HttpProvider(\"http://127.0.0.1:8345\"));\n",
    "var _abiArray=[{\"inputs\":[],\"stateMutability\":\"nonpayable\",\"type\":\"constructor\"},{\"inputs\":[{\"internalType\":\"uint256\",\"name\":\"amount\",\"type\":\"uint256\"}],\"name\":\"deposit\",\"outputs\":[],\"stateMutability\":\"payable\",\"type\":\"function\"},{\"inputs\":[{\"internalType\":\"address payable\",\"name\":\"_receiver\",\"type\":\"address\"}],\"name\":\"forwardTo\",\"outputs\":[],\"stateMutability\":\"payable\",\"type\":\"function\"},{\"inputs\":[],\"name\":\"getBalance\",\"outputs\":[{\"internalType\":\"uint256\",\"name\":\"\",\"type\":\"uint256\"},{\"internalType\":\"uint256\",\"name\":\"\",\"type\":\"uint256\"}],\"stateMutability\":\"view\",\"type\":\"function\"},{\"inputs\":[],\"name\":\"getBalanceInc\",\"outputs\":[{\"internalType\":\"uint256\",\"name\":\"\",\"type\":\"uint256\"}],\"stateMutability\":\"view\",\"type\":\"function\"},{\"inputs\":[],\"name\":\"widthdrawAll\",\"outputs\":[],\"stateMutability\":\"nonpayable\",\"type\":\"function\"}];\n",
    "var bank = new web3.eth.Contract(_abiArray, '0x1EFCc13F0EF9D6C7C318A6F99B3911432FfE1AF2');\n",
    "\n",
    "bank.methods.getBalanceInc().call().then(console.log);"
   ]
  },
  {
   "cell_type": "code",
   "execution_count": 18,
   "metadata": {},
   "outputs": [
    {
     "name": "stdout",
     "output_type": "stream",
     "text": [
      "11333\n"
     ]
    },
    {
     "name": "stderr",
     "output_type": "stream",
     "text": [
      "web3-shh package will be deprecated in version 1.3.5 and will no longer be supported.\n",
      "web3-bzz package will be deprecated in version 1.3.5 and will no longer be supported.\n"
     ]
    }
   ],
   "source": [
    "!node src/week11/SimpleBankUse3_2.js"
   ]
  },
  {
   "cell_type": "markdown",
   "metadata": {},
   "source": [
    "## geth에 배포"
   ]
  },
  {
   "cell_type": "code",
   "execution_count": 2,
   "metadata": {},
   "outputs": [
    {
     "name": "stdout",
     "output_type": "stream",
     "text": [
      "Overwriting src/week11/SimpleBankGeth.sol\n"
     ]
    }
   ],
   "source": [
    "%%writefile src/week11/SimpleBankGeth.sol\n",
    "\n",
    "pragma solidity 0.5.0;\n",
    "\n",
    "contract SimpleBank{\n",
    "    address payable owner;\n",
    "    uint balance;\n",
    "    uint inc;\n",
    "    constructor() public {\n",
    "        owner = msg.sender;\n",
    "        balance = address(this).balance;\n",
    "    }\n",
    "    function deposit() public payable {\n",
    "        balance += msg.value;\n",
    "    }\n",
    "    function widthdrawAll() public {\n",
    "        inc = owner.balance;\n",
    "        owner.transfer(balance);\n",
    "        balance -= balance;\n",
    "        inc = owner.balance-inc;\n",
    "    }\n",
    "    function getBalance() public view returns(uint, uint) {\n",
    "        return (address(this).balance, balance);\n",
    "    }\n",
    "    function forwardTo(address payable _receiver) public payable {\n",
    "        inc = address(_receiver).balance;\n",
    "        _receiver.transfer(msg.value);\n",
    "        inc = address(_receiver).balance-inc;\n",
    "    }\n",
    "    function getBalanceInc() public view returns(uint) {\n",
    "        return inc;\n",
    "    }\n",
    "}"
   ]
  },
  {
   "cell_type": "code",
   "execution_count": 3,
   "metadata": {},
   "outputs": [
    {
     "name": "stdout",
     "output_type": "stream",
     "text": [
      "Overwriting src/week11/SimpleBankDeploy_geth.js\n"
     ]
    }
   ],
   "source": [
    "%%writefile src/week11/SimpleBankDeploy_geth.js\n",
    "var Web3=require('web3');\n",
    "var web3;\n",
    "if (typeof web3 !== 'undefined') {\n",
    "    web3 = new Web3(web3.currentProvider);\n",
    "} else {\n",
    "    web3 = new Web3(new Web3.providers.HttpProvider(\"http://127.0.0.1:8445\"));\n",
    "}\n",
    "var _abi=\n",
    "[\n",
    "\t{\n",
    "\t\t\"constant\": true,\n",
    "\t\t\"inputs\": [],\n",
    "\t\t\"name\": \"getBalance\",\n",
    "\t\t\"outputs\": [\n",
    "\t\t\t{\n",
    "\t\t\t\t\"name\": \"\",\n",
    "\t\t\t\t\"type\": \"uint256\"\n",
    "\t\t\t},\n",
    "\t\t\t{\n",
    "\t\t\t\t\"name\": \"\",\n",
    "\t\t\t\t\"type\": \"uint256\"\n",
    "\t\t\t}\n",
    "\t\t],\n",
    "\t\t\"payable\": false,\n",
    "\t\t\"stateMutability\": \"view\",\n",
    "\t\t\"type\": \"function\"\n",
    "\t},\n",
    "\t{\n",
    "\t\t\"constant\": false,\n",
    "\t\t\"inputs\": [\n",
    "\t\t\t{\n",
    "\t\t\t\t\"name\": \"_receiver\",\n",
    "\t\t\t\t\"type\": \"address\"\n",
    "\t\t\t}\n",
    "\t\t],\n",
    "\t\t\"name\": \"forwardTo\",\n",
    "\t\t\"outputs\": [],\n",
    "\t\t\"payable\": true,\n",
    "\t\t\"stateMutability\": \"payable\",\n",
    "\t\t\"type\": \"function\"\n",
    "\t},\n",
    "\t{\n",
    "\t\t\"constant\": false,\n",
    "\t\t\"inputs\": [],\n",
    "\t\t\"name\": \"widthdrawAll\",\n",
    "\t\t\"outputs\": [],\n",
    "\t\t\"payable\": false,\n",
    "\t\t\"stateMutability\": \"nonpayable\",\n",
    "\t\t\"type\": \"function\"\n",
    "\t},\n",
    "\t{\n",
    "\t\t\"constant\": true,\n",
    "\t\t\"inputs\": [],\n",
    "\t\t\"name\": \"getBalanceInc\",\n",
    "\t\t\"outputs\": [\n",
    "\t\t\t{\n",
    "\t\t\t\t\"name\": \"\",\n",
    "\t\t\t\t\"type\": \"uint256\"\n",
    "\t\t\t}\n",
    "\t\t],\n",
    "\t\t\"payable\": false,\n",
    "\t\t\"stateMutability\": \"view\",\n",
    "\t\t\"type\": \"function\"\n",
    "\t},\n",
    "\t{\n",
    "\t\t\"constant\": false,\n",
    "\t\t\"inputs\": [\n",
    "\t\t\t{\n",
    "\t\t\t\t\"name\": \"amount\",\n",
    "\t\t\t\t\"type\": \"uint256\"\n",
    "\t\t\t}\n",
    "\t\t],\n",
    "\t\t\"name\": \"deposit\",\n",
    "\t\t\"outputs\": [],\n",
    "\t\t\"payable\": true,\n",
    "\t\t\"stateMutability\": \"payable\",\n",
    "\t\t\"type\": \"function\"\n",
    "\t},\n",
    "\t{\n",
    "\t\t\"inputs\": [],\n",
    "\t\t\"payable\": false,\n",
    "\t\t\"stateMutability\": \"nonpayable\",\n",
    "\t\t\"type\": \"constructor\"\n",
    "\t}\n",
    "];\n",
    "var _bin=\"608060405234801561001057600080fd5b50336000806101000a81548173ffffffffffffffffffffffffffffffffffffffff021916908373ffffffffffffffffffffffffffffffffffffffff1602179055503073ffffffffffffffffffffffffffffffffffffffff163160018190555061035f8061007e6000396000f3fe60806040526004361061006d576000357c0100000000000000000000000000000000000000000000000000000000900463ffffffff16806312065fe01461007257806327d8ad88146100a45780633c459375146100e857806361c06694146100ff578063b6b55f251461012a575b600080fd5b34801561007e57600080fd5b50610087610158565b604051808381526020018281526020019250505060405180910390f35b6100e6600480360360208110156100ba57600080fd5b81019080803573ffffffffffffffffffffffffffffffffffffffff16906020019092919050505061017e565b005b3480156100f457600080fd5b506100fd610208565b005b34801561010b57600080fd5b50610114610308565b6040518082815260200191505060405180910390f35b6101566004803603602081101561014057600080fd5b8101908080359060200190929190505050610312565b005b6000803073ffffffffffffffffffffffffffffffffffffffff1631600154915091509091565b8073ffffffffffffffffffffffffffffffffffffffff16316002819055508073ffffffffffffffffffffffffffffffffffffffff166108fc349081150290604051600060405180830381858888f193505050501580156101e2573d6000803e3d6000fd5b506002548173ffffffffffffffffffffffffffffffffffffffff16310360028190555050565b6000809054906101000a900473ffffffffffffffffffffffffffffffffffffffff1673ffffffffffffffffffffffffffffffffffffffff16316002819055506000809054906101000a900473ffffffffffffffffffffffffffffffffffffffff1673ffffffffffffffffffffffffffffffffffffffff166108fc6001549081150290604051600060405180830381858888f193505050501580156102b0573d6000803e3d6000fd5b506001546001600082825403925050819055506002546000809054906101000a900473ffffffffffffffffffffffffffffffffffffffff1673ffffffffffffffffffffffffffffffffffffffff163103600281905550565b6000600254905090565b803414151561032057600080fd5b806001600082825401925050819055505056fea165627a7a72305820fd4bba40bedffbaae7c7a5fe8e6d29bfcd9e8e0b8fa1c65fb34bfb87c65c6a8a0029\";\n",
    "var _contract = new web3.eth.Contract(_abi);\n",
    "_contract\n",
    ".deploy({data:\"0x\"+_bin})\n",
    "    .send({from:\"0xe3f6601a5f2f59e5ad17367bcb5e4d6bd1cf5fcd\",gas:1000000})\n",
    "    .then(function(newContractInstance){\n",
    "        console.log(newContractInstance.options.address) // instance with the new contract address\n",
    "    });"
   ]
  },
  {
   "cell_type": "code",
   "execution_count": 4,
   "metadata": {},
   "outputs": [
    {
     "name": "stdout",
     "output_type": "stream",
     "text": [
      "0xf20Fc2EB699aa490a0Ea312fe383DbaEda7B1eBf\n"
     ]
    },
    {
     "name": "stderr",
     "output_type": "stream",
     "text": [
      "web3-shh package will be deprecated in version 1.3.5 and will no longer be supported.\n",
      "web3-bzz package will be deprecated in version 1.3.5 and will no longer be supported.\n"
     ]
    }
   ],
   "source": [
    "!node src/week11/SimpleBankDeploy_geth.js"
   ]
  },
  {
   "cell_type": "markdown",
   "metadata": {},
   "source": [
    "### 입금 11111 wei, 222 wei"
   ]
  },
  {
   "cell_type": "code",
   "execution_count": 5,
   "metadata": {},
   "outputs": [
    {
     "name": "stdout",
     "output_type": "stream",
     "text": [
      "Overwriting src/week11/SimpleBankUse_geth_1_1.js\n"
     ]
    }
   ],
   "source": [
    "%%writefile src/week11/SimpleBankUse_geth_1_1.js\n",
    "var Web3=require('web3');\n",
    "var web3 = new Web3(new Web3.providers.HttpProvider(\"http://127.0.0.1:8445\"));\n",
    "var _abiArray=[\n",
    "\t{\n",
    "\t\t\"constant\": true,\n",
    "\t\t\"inputs\": [],\n",
    "\t\t\"name\": \"getBalance\",\n",
    "\t\t\"outputs\": [\n",
    "\t\t\t{\n",
    "\t\t\t\t\"name\": \"\",\n",
    "\t\t\t\t\"type\": \"uint256\"\n",
    "\t\t\t},\n",
    "\t\t\t{\n",
    "\t\t\t\t\"name\": \"\",\n",
    "\t\t\t\t\"type\": \"uint256\"\n",
    "\t\t\t}\n",
    "\t\t],\n",
    "\t\t\"payable\": false,\n",
    "\t\t\"stateMutability\": \"view\",\n",
    "\t\t\"type\": \"function\"\n",
    "\t},\n",
    "\t{\n",
    "\t\t\"constant\": false,\n",
    "\t\t\"inputs\": [\n",
    "\t\t\t{\n",
    "\t\t\t\t\"name\": \"_receiver\",\n",
    "\t\t\t\t\"type\": \"address\"\n",
    "\t\t\t}\n",
    "\t\t],\n",
    "\t\t\"name\": \"forwardTo\",\n",
    "\t\t\"outputs\": [],\n",
    "\t\t\"payable\": true,\n",
    "\t\t\"stateMutability\": \"payable\",\n",
    "\t\t\"type\": \"function\"\n",
    "\t},\n",
    "\t{\n",
    "\t\t\"constant\": false,\n",
    "\t\t\"inputs\": [],\n",
    "\t\t\"name\": \"widthdrawAll\",\n",
    "\t\t\"outputs\": [],\n",
    "\t\t\"payable\": false,\n",
    "\t\t\"stateMutability\": \"nonpayable\",\n",
    "\t\t\"type\": \"function\"\n",
    "\t},\n",
    "\t{\n",
    "\t\t\"constant\": true,\n",
    "\t\t\"inputs\": [],\n",
    "\t\t\"name\": \"getBalanceInc\",\n",
    "\t\t\"outputs\": [\n",
    "\t\t\t{\n",
    "\t\t\t\t\"name\": \"\",\n",
    "\t\t\t\t\"type\": \"uint256\"\n",
    "\t\t\t}\n",
    "\t\t],\n",
    "\t\t\"payable\": false,\n",
    "\t\t\"stateMutability\": \"view\",\n",
    "\t\t\"type\": \"function\"\n",
    "\t},\n",
    "\t{\n",
    "\t\t\"constant\": false,\n",
    "\t\t\"inputs\": [\n",
    "\t\t\t{\n",
    "\t\t\t\t\"name\": \"amount\",\n",
    "\t\t\t\t\"type\": \"uint256\"\n",
    "\t\t\t}\n",
    "\t\t],\n",
    "\t\t\"name\": \"deposit\",\n",
    "\t\t\"outputs\": [],\n",
    "\t\t\"payable\": true,\n",
    "\t\t\"stateMutability\": \"payable\",\n",
    "\t\t\"type\": \"function\"\n",
    "\t},\n",
    "\t{\n",
    "\t\t\"inputs\": [],\n",
    "\t\t\"payable\": false,\n",
    "\t\t\"stateMutability\": \"nonpayable\",\n",
    "\t\t\"type\": \"constructor\"\n",
    "\t}\n",
    "];\n",
    "var bank = new web3.eth.Contract(_abiArray, '0xf20Fc2EB699aa490a0Ea312fe383DbaEda7B1eBf');\n",
    "\n",
    "bank.methods.deposit(11111).send({from:\"0xe3f6601a5f2f59e5ad17367bcb5e4d6bd1cf5fcd\",gas:80000,value:11111});\n",
    "bank.methods.deposit(222).send({from:\"0xe3f6601a5f2f59e5ad17367bcb5e4d6bd1cf5fcd\",gas:80000,value:222});"
   ]
  },
  {
   "cell_type": "code",
   "execution_count": 6,
   "metadata": {},
   "outputs": [
    {
     "name": "stderr",
     "output_type": "stream",
     "text": [
      "web3-shh package will be deprecated in version 1.3.5 and will no longer be supported.\n",
      "web3-bzz package will be deprecated in version 1.3.5 and will no longer be supported.\n"
     ]
    }
   ],
   "source": [
    "!node src/week11/SimpleBankUse_geth_1_1.js"
   ]
  },
  {
   "cell_type": "markdown",
   "metadata": {},
   "source": [
    "### 잔고 11333 wei 출력"
   ]
  },
  {
   "cell_type": "code",
   "execution_count": 7,
   "metadata": {},
   "outputs": [
    {
     "name": "stdout",
     "output_type": "stream",
     "text": [
      "Overwriting src/week11/SimpleBankUse_geth_1_2.js\n"
     ]
    }
   ],
   "source": [
    "%%writefile src/week11/SimpleBankUse_geth_1_2.js\n",
    "var Web3=require('web3');\n",
    "var web3 = new Web3(new Web3.providers.HttpProvider(\"http://127.0.0.1:8445\"));\n",
    "var _abiArray=[\n",
    "\t{\n",
    "\t\t\"constant\": true,\n",
    "\t\t\"inputs\": [],\n",
    "\t\t\"name\": \"getBalance\",\n",
    "\t\t\"outputs\": [\n",
    "\t\t\t{\n",
    "\t\t\t\t\"name\": \"\",\n",
    "\t\t\t\t\"type\": \"uint256\"\n",
    "\t\t\t},\n",
    "\t\t\t{\n",
    "\t\t\t\t\"name\": \"\",\n",
    "\t\t\t\t\"type\": \"uint256\"\n",
    "\t\t\t}\n",
    "\t\t],\n",
    "\t\t\"payable\": false,\n",
    "\t\t\"stateMutability\": \"view\",\n",
    "\t\t\"type\": \"function\"\n",
    "\t},\n",
    "\t{\n",
    "\t\t\"constant\": false,\n",
    "\t\t\"inputs\": [\n",
    "\t\t\t{\n",
    "\t\t\t\t\"name\": \"_receiver\",\n",
    "\t\t\t\t\"type\": \"address\"\n",
    "\t\t\t}\n",
    "\t\t],\n",
    "\t\t\"name\": \"forwardTo\",\n",
    "\t\t\"outputs\": [],\n",
    "\t\t\"payable\": true,\n",
    "\t\t\"stateMutability\": \"payable\",\n",
    "\t\t\"type\": \"function\"\n",
    "\t},\n",
    "\t{\n",
    "\t\t\"constant\": false,\n",
    "\t\t\"inputs\": [],\n",
    "\t\t\"name\": \"widthdrawAll\",\n",
    "\t\t\"outputs\": [],\n",
    "\t\t\"payable\": false,\n",
    "\t\t\"stateMutability\": \"nonpayable\",\n",
    "\t\t\"type\": \"function\"\n",
    "\t},\n",
    "\t{\n",
    "\t\t\"constant\": true,\n",
    "\t\t\"inputs\": [],\n",
    "\t\t\"name\": \"getBalanceInc\",\n",
    "\t\t\"outputs\": [\n",
    "\t\t\t{\n",
    "\t\t\t\t\"name\": \"\",\n",
    "\t\t\t\t\"type\": \"uint256\"\n",
    "\t\t\t}\n",
    "\t\t],\n",
    "\t\t\"payable\": false,\n",
    "\t\t\"stateMutability\": \"view\",\n",
    "\t\t\"type\": \"function\"\n",
    "\t},\n",
    "\t{\n",
    "\t\t\"constant\": false,\n",
    "\t\t\"inputs\": [\n",
    "\t\t\t{\n",
    "\t\t\t\t\"name\": \"amount\",\n",
    "\t\t\t\t\"type\": \"uint256\"\n",
    "\t\t\t}\n",
    "\t\t],\n",
    "\t\t\"name\": \"deposit\",\n",
    "\t\t\"outputs\": [],\n",
    "\t\t\"payable\": true,\n",
    "\t\t\"stateMutability\": \"payable\",\n",
    "\t\t\"type\": \"function\"\n",
    "\t},\n",
    "\t{\n",
    "\t\t\"inputs\": [],\n",
    "\t\t\"payable\": false,\n",
    "\t\t\"stateMutability\": \"nonpayable\",\n",
    "\t\t\"type\": \"constructor\"\n",
    "\t}\n",
    "];\n",
    "var bank = new web3.eth.Contract(_abiArray, '0xf20Fc2EB699aa490a0Ea312fe383DbaEda7B1eBf');\n",
    "\n",
    "bank.methods.getBalance().call().then(console.log);"
   ]
  },
  {
   "cell_type": "code",
   "execution_count": 8,
   "metadata": {},
   "outputs": [
    {
     "name": "stdout",
     "output_type": "stream",
     "text": [
      "Result { '0': '11333', '1': '11333' }\n"
     ]
    },
    {
     "name": "stderr",
     "output_type": "stream",
     "text": [
      "web3-shh package will be deprecated in version 1.3.5 and will no longer be supported.\n",
      "web3-bzz package will be deprecated in version 1.3.5 and will no longer be supported.\n"
     ]
    }
   ],
   "source": [
    "!node src/week11/SimpleBankUse_geth_1_2.js"
   ]
  },
  {
   "cell_type": "markdown",
   "metadata": {},
   "source": [
    "### 자신의 2번째 계정으로 계좌이체 333 wei"
   ]
  },
  {
   "cell_type": "code",
   "execution_count": 11,
   "metadata": {},
   "outputs": [
    {
     "name": "stdout",
     "output_type": "stream",
     "text": [
      "Overwriting src/week11/SimpleBankUse_geth_2_1.js\n"
     ]
    }
   ],
   "source": [
    "%%writefile src/week11/SimpleBankUse_geth_2_1.js\n",
    "var Web3=require('web3');\n",
    "var web3 = new Web3(new Web3.providers.HttpProvider(\"http://127.0.0.1:8445\"));\n",
    "var _abiArray=[\n",
    "\t{\n",
    "\t\t\"constant\": true,\n",
    "\t\t\"inputs\": [],\n",
    "\t\t\"name\": \"getBalance\",\n",
    "\t\t\"outputs\": [\n",
    "\t\t\t{\n",
    "\t\t\t\t\"name\": \"\",\n",
    "\t\t\t\t\"type\": \"uint256\"\n",
    "\t\t\t},\n",
    "\t\t\t{\n",
    "\t\t\t\t\"name\": \"\",\n",
    "\t\t\t\t\"type\": \"uint256\"\n",
    "\t\t\t}\n",
    "\t\t],\n",
    "\t\t\"payable\": false,\n",
    "\t\t\"stateMutability\": \"view\",\n",
    "\t\t\"type\": \"function\"\n",
    "\t},\n",
    "\t{\n",
    "\t\t\"constant\": false,\n",
    "\t\t\"inputs\": [\n",
    "\t\t\t{\n",
    "\t\t\t\t\"name\": \"_receiver\",\n",
    "\t\t\t\t\"type\": \"address\"\n",
    "\t\t\t}\n",
    "\t\t],\n",
    "\t\t\"name\": \"forwardTo\",\n",
    "\t\t\"outputs\": [],\n",
    "\t\t\"payable\": true,\n",
    "\t\t\"stateMutability\": \"payable\",\n",
    "\t\t\"type\": \"function\"\n",
    "\t},\n",
    "\t{\n",
    "\t\t\"constant\": false,\n",
    "\t\t\"inputs\": [],\n",
    "\t\t\"name\": \"widthdrawAll\",\n",
    "\t\t\"outputs\": [],\n",
    "\t\t\"payable\": false,\n",
    "\t\t\"stateMutability\": \"nonpayable\",\n",
    "\t\t\"type\": \"function\"\n",
    "\t},\n",
    "\t{\n",
    "\t\t\"constant\": true,\n",
    "\t\t\"inputs\": [],\n",
    "\t\t\"name\": \"getBalanceInc\",\n",
    "\t\t\"outputs\": [\n",
    "\t\t\t{\n",
    "\t\t\t\t\"name\": \"\",\n",
    "\t\t\t\t\"type\": \"uint256\"\n",
    "\t\t\t}\n",
    "\t\t],\n",
    "\t\t\"payable\": false,\n",
    "\t\t\"stateMutability\": \"view\",\n",
    "\t\t\"type\": \"function\"\n",
    "\t},\n",
    "\t{\n",
    "\t\t\"constant\": false,\n",
    "\t\t\"inputs\": [\n",
    "\t\t\t{\n",
    "\t\t\t\t\"name\": \"amount\",\n",
    "\t\t\t\t\"type\": \"uint256\"\n",
    "\t\t\t}\n",
    "\t\t],\n",
    "\t\t\"name\": \"deposit\",\n",
    "\t\t\"outputs\": [],\n",
    "\t\t\"payable\": true,\n",
    "\t\t\"stateMutability\": \"payable\",\n",
    "\t\t\"type\": \"function\"\n",
    "\t},\n",
    "\t{\n",
    "\t\t\"inputs\": [],\n",
    "\t\t\"payable\": false,\n",
    "\t\t\"stateMutability\": \"nonpayable\",\n",
    "\t\t\"type\": \"constructor\"\n",
    "\t}\n",
    "];\n",
    "var bank = new web3.eth.Contract(_abiArray, '0xf20Fc2EB699aa490a0Ea312fe383DbaEda7B1eBf');\n",
    "\n",
    "bank.methods.forwardTo(\"0xfbf867b98c22d97ef1b8f222842376ea7acba7f3\").send({from:\"0xe3f6601a5f2f59e5ad17367bcb5e4d6bd1cf5fcd\",gas:100000,value:333});"
   ]
  },
  {
   "cell_type": "code",
   "execution_count": 13,
   "metadata": {},
   "outputs": [
    {
     "name": "stderr",
     "output_type": "stream",
     "text": [
      "web3-shh package will be deprecated in version 1.3.5 and will no longer be supported.\n",
      "web3-bzz package will be deprecated in version 1.3.5 and will no longer be supported.\n"
     ]
    }
   ],
   "source": [
    "!node src/week11/SimpleBankUse_geth_2_1.js"
   ]
  },
  {
   "cell_type": "markdown",
   "metadata": {},
   "source": [
    "### 컨트랙 잔고 출력, 자신의 2번째 계정 잔고 증가분 출력"
   ]
  },
  {
   "cell_type": "code",
   "execution_count": 14,
   "metadata": {},
   "outputs": [
    {
     "name": "stdout",
     "output_type": "stream",
     "text": [
      "Writing src/week11/SimpleBankUse_geth_2_2.js\n"
     ]
    }
   ],
   "source": [
    "%%writefile src/week11/SimpleBankUse_geth_2_2.js\n",
    "var Web3=require('web3');\n",
    "var web3 = new Web3(new Web3.providers.HttpProvider(\"http://127.0.0.1:8445\"));\n",
    "var _abiArray=[\n",
    "\t{\n",
    "\t\t\"constant\": true,\n",
    "\t\t\"inputs\": [],\n",
    "\t\t\"name\": \"getBalance\",\n",
    "\t\t\"outputs\": [\n",
    "\t\t\t{\n",
    "\t\t\t\t\"name\": \"\",\n",
    "\t\t\t\t\"type\": \"uint256\"\n",
    "\t\t\t},\n",
    "\t\t\t{\n",
    "\t\t\t\t\"name\": \"\",\n",
    "\t\t\t\t\"type\": \"uint256\"\n",
    "\t\t\t}\n",
    "\t\t],\n",
    "\t\t\"payable\": false,\n",
    "\t\t\"stateMutability\": \"view\",\n",
    "\t\t\"type\": \"function\"\n",
    "\t},\n",
    "\t{\n",
    "\t\t\"constant\": false,\n",
    "\t\t\"inputs\": [\n",
    "\t\t\t{\n",
    "\t\t\t\t\"name\": \"_receiver\",\n",
    "\t\t\t\t\"type\": \"address\"\n",
    "\t\t\t}\n",
    "\t\t],\n",
    "\t\t\"name\": \"forwardTo\",\n",
    "\t\t\"outputs\": [],\n",
    "\t\t\"payable\": true,\n",
    "\t\t\"stateMutability\": \"payable\",\n",
    "\t\t\"type\": \"function\"\n",
    "\t},\n",
    "\t{\n",
    "\t\t\"constant\": false,\n",
    "\t\t\"inputs\": [],\n",
    "\t\t\"name\": \"widthdrawAll\",\n",
    "\t\t\"outputs\": [],\n",
    "\t\t\"payable\": false,\n",
    "\t\t\"stateMutability\": \"nonpayable\",\n",
    "\t\t\"type\": \"function\"\n",
    "\t},\n",
    "\t{\n",
    "\t\t\"constant\": true,\n",
    "\t\t\"inputs\": [],\n",
    "\t\t\"name\": \"getBalanceInc\",\n",
    "\t\t\"outputs\": [\n",
    "\t\t\t{\n",
    "\t\t\t\t\"name\": \"\",\n",
    "\t\t\t\t\"type\": \"uint256\"\n",
    "\t\t\t}\n",
    "\t\t],\n",
    "\t\t\"payable\": false,\n",
    "\t\t\"stateMutability\": \"view\",\n",
    "\t\t\"type\": \"function\"\n",
    "\t},\n",
    "\t{\n",
    "\t\t\"constant\": false,\n",
    "\t\t\"inputs\": [\n",
    "\t\t\t{\n",
    "\t\t\t\t\"name\": \"amount\",\n",
    "\t\t\t\t\"type\": \"uint256\"\n",
    "\t\t\t}\n",
    "\t\t],\n",
    "\t\t\"name\": \"deposit\",\n",
    "\t\t\"outputs\": [],\n",
    "\t\t\"payable\": true,\n",
    "\t\t\"stateMutability\": \"payable\",\n",
    "\t\t\"type\": \"function\"\n",
    "\t},\n",
    "\t{\n",
    "\t\t\"inputs\": [],\n",
    "\t\t\"payable\": false,\n",
    "\t\t\"stateMutability\": \"nonpayable\",\n",
    "\t\t\"type\": \"constructor\"\n",
    "\t}\n",
    "];\n",
    "var bank = new web3.eth.Contract(_abiArray, '0xf20Fc2EB699aa490a0Ea312fe383DbaEda7B1eBf');\n",
    "\n",
    "bank.methods.getBalance().call().then(console.log);\n",
    "bank.methods.getBalanceInc().call().then(console.log);"
   ]
  },
  {
   "cell_type": "code",
   "execution_count": 15,
   "metadata": {},
   "outputs": [
    {
     "name": "stdout",
     "output_type": "stream",
     "text": [
      "Result { '0': '11333', '1': '11333' }\n",
      "333\n"
     ]
    },
    {
     "name": "stderr",
     "output_type": "stream",
     "text": [
      "web3-shh package will be deprecated in version 1.3.5 and will no longer be supported.\n",
      "web3-bzz package will be deprecated in version 1.3.5 and will no longer be supported.\n"
     ]
    }
   ],
   "source": [
    "!node src/week11/SimpleBankUse_geth_2_2.js"
   ]
  },
  {
   "cell_type": "markdown",
   "metadata": {},
   "source": [
    "### 전액 인출"
   ]
  },
  {
   "cell_type": "code",
   "execution_count": 16,
   "metadata": {},
   "outputs": [
    {
     "name": "stdout",
     "output_type": "stream",
     "text": [
      "Writing src/week11/SimpleBankUse_geth_3_1.js\n"
     ]
    }
   ],
   "source": [
    "%%writefile src/week11/SimpleBankUse_geth_3_1.js\n",
    "var Web3=require('web3');\n",
    "var web3 = new Web3(new Web3.providers.HttpProvider(\"http://127.0.0.1:8445\"));\n",
    "var _abiArray=[\n",
    "\t{\n",
    "\t\t\"constant\": true,\n",
    "\t\t\"inputs\": [],\n",
    "\t\t\"name\": \"getBalance\",\n",
    "\t\t\"outputs\": [\n",
    "\t\t\t{\n",
    "\t\t\t\t\"name\": \"\",\n",
    "\t\t\t\t\"type\": \"uint256\"\n",
    "\t\t\t},\n",
    "\t\t\t{\n",
    "\t\t\t\t\"name\": \"\",\n",
    "\t\t\t\t\"type\": \"uint256\"\n",
    "\t\t\t}\n",
    "\t\t],\n",
    "\t\t\"payable\": false,\n",
    "\t\t\"stateMutability\": \"view\",\n",
    "\t\t\"type\": \"function\"\n",
    "\t},\n",
    "\t{\n",
    "\t\t\"constant\": false,\n",
    "\t\t\"inputs\": [\n",
    "\t\t\t{\n",
    "\t\t\t\t\"name\": \"_receiver\",\n",
    "\t\t\t\t\"type\": \"address\"\n",
    "\t\t\t}\n",
    "\t\t],\n",
    "\t\t\"name\": \"forwardTo\",\n",
    "\t\t\"outputs\": [],\n",
    "\t\t\"payable\": true,\n",
    "\t\t\"stateMutability\": \"payable\",\n",
    "\t\t\"type\": \"function\"\n",
    "\t},\n",
    "\t{\n",
    "\t\t\"constant\": false,\n",
    "\t\t\"inputs\": [],\n",
    "\t\t\"name\": \"widthdrawAll\",\n",
    "\t\t\"outputs\": [],\n",
    "\t\t\"payable\": false,\n",
    "\t\t\"stateMutability\": \"nonpayable\",\n",
    "\t\t\"type\": \"function\"\n",
    "\t},\n",
    "\t{\n",
    "\t\t\"constant\": true,\n",
    "\t\t\"inputs\": [],\n",
    "\t\t\"name\": \"getBalanceInc\",\n",
    "\t\t\"outputs\": [\n",
    "\t\t\t{\n",
    "\t\t\t\t\"name\": \"\",\n",
    "\t\t\t\t\"type\": \"uint256\"\n",
    "\t\t\t}\n",
    "\t\t],\n",
    "\t\t\"payable\": false,\n",
    "\t\t\"stateMutability\": \"view\",\n",
    "\t\t\"type\": \"function\"\n",
    "\t},\n",
    "\t{\n",
    "\t\t\"constant\": false,\n",
    "\t\t\"inputs\": [\n",
    "\t\t\t{\n",
    "\t\t\t\t\"name\": \"amount\",\n",
    "\t\t\t\t\"type\": \"uint256\"\n",
    "\t\t\t}\n",
    "\t\t],\n",
    "\t\t\"name\": \"deposit\",\n",
    "\t\t\"outputs\": [],\n",
    "\t\t\"payable\": true,\n",
    "\t\t\"stateMutability\": \"payable\",\n",
    "\t\t\"type\": \"function\"\n",
    "\t},\n",
    "\t{\n",
    "\t\t\"inputs\": [],\n",
    "\t\t\"payable\": false,\n",
    "\t\t\"stateMutability\": \"nonpayable\",\n",
    "\t\t\"type\": \"constructor\"\n",
    "\t}\n",
    "];\n",
    "var bank = new web3.eth.Contract(_abiArray, '0xf20Fc2EB699aa490a0Ea312fe383DbaEda7B1eBf');\n",
    "\n",
    "bank.methods.widthdrawAll().send({from:\"0xe3f6601a5f2f59e5ad17367bcb5e4d6bd1cf5fcd\"});"
   ]
  },
  {
   "cell_type": "code",
   "execution_count": 17,
   "metadata": {},
   "outputs": [
    {
     "name": "stderr",
     "output_type": "stream",
     "text": [
      "web3-shh package will be deprecated in version 1.3.5 and will no longer be supported.\n",
      "web3-bzz package will be deprecated in version 1.3.5 and will no longer be supported.\n"
     ]
    }
   ],
   "source": [
    "!node src/week11/SimpleBankUse_geth_3_1.js"
   ]
  },
  {
   "cell_type": "markdown",
   "metadata": {},
   "source": [
    "### 자신의 잔고 증가분 출력"
   ]
  },
  {
   "cell_type": "code",
   "execution_count": 18,
   "metadata": {},
   "outputs": [
    {
     "name": "stdout",
     "output_type": "stream",
     "text": [
      "Writing src/week11/SimpleBankUse_geth_3_2.js\n"
     ]
    }
   ],
   "source": [
    "%%writefile src/week11/SimpleBankUse_geth_3_2.js\n",
    "var Web3=require('web3');\n",
    "var web3 = new Web3(new Web3.providers.HttpProvider(\"http://127.0.0.1:8445\"));\n",
    "var _abiArray=[\n",
    "\t{\n",
    "\t\t\"constant\": true,\n",
    "\t\t\"inputs\": [],\n",
    "\t\t\"name\": \"getBalance\",\n",
    "\t\t\"outputs\": [\n",
    "\t\t\t{\n",
    "\t\t\t\t\"name\": \"\",\n",
    "\t\t\t\t\"type\": \"uint256\"\n",
    "\t\t\t},\n",
    "\t\t\t{\n",
    "\t\t\t\t\"name\": \"\",\n",
    "\t\t\t\t\"type\": \"uint256\"\n",
    "\t\t\t}\n",
    "\t\t],\n",
    "\t\t\"payable\": false,\n",
    "\t\t\"stateMutability\": \"view\",\n",
    "\t\t\"type\": \"function\"\n",
    "\t},\n",
    "\t{\n",
    "\t\t\"constant\": false,\n",
    "\t\t\"inputs\": [\n",
    "\t\t\t{\n",
    "\t\t\t\t\"name\": \"_receiver\",\n",
    "\t\t\t\t\"type\": \"address\"\n",
    "\t\t\t}\n",
    "\t\t],\n",
    "\t\t\"name\": \"forwardTo\",\n",
    "\t\t\"outputs\": [],\n",
    "\t\t\"payable\": true,\n",
    "\t\t\"stateMutability\": \"payable\",\n",
    "\t\t\"type\": \"function\"\n",
    "\t},\n",
    "\t{\n",
    "\t\t\"constant\": false,\n",
    "\t\t\"inputs\": [],\n",
    "\t\t\"name\": \"widthdrawAll\",\n",
    "\t\t\"outputs\": [],\n",
    "\t\t\"payable\": false,\n",
    "\t\t\"stateMutability\": \"nonpayable\",\n",
    "\t\t\"type\": \"function\"\n",
    "\t},\n",
    "\t{\n",
    "\t\t\"constant\": true,\n",
    "\t\t\"inputs\": [],\n",
    "\t\t\"name\": \"getBalanceInc\",\n",
    "\t\t\"outputs\": [\n",
    "\t\t\t{\n",
    "\t\t\t\t\"name\": \"\",\n",
    "\t\t\t\t\"type\": \"uint256\"\n",
    "\t\t\t}\n",
    "\t\t],\n",
    "\t\t\"payable\": false,\n",
    "\t\t\"stateMutability\": \"view\",\n",
    "\t\t\"type\": \"function\"\n",
    "\t},\n",
    "\t{\n",
    "\t\t\"constant\": false,\n",
    "\t\t\"inputs\": [\n",
    "\t\t\t{\n",
    "\t\t\t\t\"name\": \"amount\",\n",
    "\t\t\t\t\"type\": \"uint256\"\n",
    "\t\t\t}\n",
    "\t\t],\n",
    "\t\t\"name\": \"deposit\",\n",
    "\t\t\"outputs\": [],\n",
    "\t\t\"payable\": true,\n",
    "\t\t\"stateMutability\": \"payable\",\n",
    "\t\t\"type\": \"function\"\n",
    "\t},\n",
    "\t{\n",
    "\t\t\"inputs\": [],\n",
    "\t\t\"payable\": false,\n",
    "\t\t\"stateMutability\": \"nonpayable\",\n",
    "\t\t\"type\": \"constructor\"\n",
    "\t}\n",
    "];\n",
    "var bank = new web3.eth.Contract(_abiArray, '0xf20Fc2EB699aa490a0Ea312fe383DbaEda7B1eBf');\n",
    "\n",
    "bank.methods.getBalanceInc().call().then(console.log);"
   ]
  },
  {
   "cell_type": "code",
   "execution_count": 19,
   "metadata": {},
   "outputs": [
    {
     "name": "stdout",
     "output_type": "stream",
     "text": [
      "11333\n"
     ]
    },
    {
     "name": "stderr",
     "output_type": "stream",
     "text": [
      "web3-shh package will be deprecated in version 1.3.5 and will no longer be supported.\n",
      "web3-bzz package will be deprecated in version 1.3.5 and will no longer be supported.\n"
     ]
    }
   ],
   "source": [
    "!node src/week11/SimpleBankUse_geth_3_2.js"
   ]
  }
 ],
 "metadata": {
  "kernelspec": {
   "display_name": "Python 3",
   "language": "python",
   "name": "python3"
  },
  "language_info": {
   "codemirror_mode": {
    "name": "ipython",
    "version": 3
   },
   "file_extension": ".py",
   "mimetype": "text/x-python",
   "name": "python",
   "nbconvert_exporter": "python",
   "pygments_lexer": "ipython3",
   "version": "3.7.3"
  }
 },
 "nbformat": 4,
 "nbformat_minor": 4
}
