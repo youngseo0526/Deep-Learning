{
 "cells": [
  {
   "cell_type": "markdown",
   "metadata": {},
   "source": [
    "### 단계 1: 컨트랙 개발"
   ]
  },
  {
   "cell_type": "code",
   "execution_count": 1,
   "metadata": {},
   "outputs": [
    {
     "name": "stdout",
     "output_type": "stream",
     "text": [
      "Overwriting src/Hello.sol\n"
     ]
    }
   ],
   "source": [
    "%%writefile src/Hello.sol\n",
    "pragma solidity 0.5.10;\n",
    "\n",
    "contract Hello {\n",
    "    function sayHello() pure public returns(string memory) { // pure : read-only\n",
    "        return \"Hello world\";\n",
    "    }\n",
    "}"
   ]
  },
  {
   "cell_type": "markdown",
   "metadata": {},
   "source": [
    "### 단계 2: 컴파일\n",
    "solc로 컴파일하여 abi정보, bytecode 정보, gas 산정하기"
   ]
  },
  {
   "cell_type": "code",
   "execution_count": 2,
   "metadata": {},
   "outputs": [
    {
     "name": "stdout",
     "output_type": "stream",
     "text": [
      "\n",
      "======= src/Hello.sol:Hello =======\n",
      "EVM assembly:\n",
      "    /* \"src/Hello.sol\":27:166  contract Hello {\n",
      "... */\n",
      "  mstore(0x40, 0x80)\n",
      "  callvalue\n",
      "    /* \"--CODEGEN--\":8:17   */\n",
      "  dup1\n",
      "    /* \"--CODEGEN--\":5:7   */\n",
      "  iszero\n",
      "  tag_1\n",
      "  jumpi\n",
      "    /* \"--CODEGEN--\":30:31   */\n",
      "  0x00\n",
      "    /* \"--CODEGEN--\":27:28   */\n",
      "  dup1\n",
      "    /* \"--CODEGEN--\":20:32   */\n",
      "  revert\n",
      "    /* \"--CODEGEN--\":5:7   */\n",
      "tag_1:\n",
      "    /* \"src/Hello.sol\":27:166  contract Hello {\n",
      "... */\n",
      "  pop\n",
      "  dataSize(sub_0)\n",
      "  dup1\n",
      "  dataOffset(sub_0)\n",
      "  0x00\n",
      "  codecopy\n",
      "  0x00\n",
      "  return\n",
      "stop\n",
      "\n",
      "sub_0: assembly {\n",
      "        /* \"src/Hello.sol\":27:166  contract Hello {\n",
      "... */\n",
      "      mstore(0x40, 0x80)\n",
      "      callvalue\n",
      "        /* \"--CODEGEN--\":8:17   */\n",
      "      dup1\n",
      "        /* \"--CODEGEN--\":5:7   */\n",
      "      iszero\n",
      "      tag_1\n",
      "      jumpi\n",
      "        /* \"--CODEGEN--\":30:31   */\n",
      "      0x00\n",
      "        /* \"--CODEGEN--\":27:28   */\n",
      "      dup1\n",
      "        /* \"--CODEGEN--\":20:32   */\n",
      "      revert\n",
      "        /* \"--CODEGEN--\":5:7   */\n",
      "    tag_1:\n",
      "        /* \"src/Hello.sol\":27:166  contract Hello {\n",
      "... */\n",
      "      pop\n",
      "      jumpi(tag_2, lt(calldatasize, 0x04))\n",
      "      shr(0xe0, calldataload(0x00))\n",
      "      dup1\n",
      "      0xef5fb05b\n",
      "      eq\n",
      "      tag_3\n",
      "      jumpi\n",
      "    tag_2:\n",
      "      0x00\n",
      "      dup1\n",
      "      revert\n",
      "        /* \"src/Hello.sol\":49:163  function sayHello() pure public returns(string memory) { // pure : read-only\n",
      "... */\n",
      "    tag_3:\n",
      "      tag_4\n",
      "      tag_5\n",
      "      jump\t// in\n",
      "    tag_4:\n",
      "      mload(0x40)\n",
      "      dup1\n",
      "      dup1\n",
      "      0x20\n",
      "      add\n",
      "      dup3\n",
      "      dup2\n",
      "      sub\n",
      "      dup3\n",
      "      mstore\n",
      "      dup4\n",
      "      dup2\n",
      "      dup2\n",
      "      mload\n",
      "      dup2\n",
      "      mstore\n",
      "      0x20\n",
      "      add\n",
      "      swap2\n",
      "      pop\n",
      "      dup1\n",
      "      mload\n",
      "      swap1\n",
      "      0x20\n",
      "      add\n",
      "      swap1\n",
      "      dup1\n",
      "      dup4\n",
      "      dup4\n",
      "        /* \"--CODEGEN--\":23:24   */\n",
      "      0x00\n",
      "        /* \"--CODEGEN--\":8:108   */\n",
      "    tag_6:\n",
      "        /* \"--CODEGEN--\":33:36   */\n",
      "      dup4\n",
      "        /* \"--CODEGEN--\":30:31   */\n",
      "      dup2\n",
      "        /* \"--CODEGEN--\":27:37   */\n",
      "      lt\n",
      "        /* \"--CODEGEN--\":8:108   */\n",
      "      iszero\n",
      "      tag_8\n",
      "      jumpi\n",
      "        /* \"--CODEGEN--\":99:100   */\n",
      "      dup1\n",
      "        /* \"--CODEGEN--\":94:97   */\n",
      "      dup3\n",
      "        /* \"--CODEGEN--\":90:101   */\n",
      "      add\n",
      "        /* \"--CODEGEN--\":84:102   */\n",
      "      mload\n",
      "        /* \"--CODEGEN--\":80:81   */\n",
      "      dup2\n",
      "        /* \"--CODEGEN--\":75:78   */\n",
      "      dup5\n",
      "        /* \"--CODEGEN--\":71:82   */\n",
      "      add\n",
      "        /* \"--CODEGEN--\":64:103   */\n",
      "      mstore\n",
      "        /* \"--CODEGEN--\":52:54   */\n",
      "      0x20\n",
      "        /* \"--CODEGEN--\":49:50   */\n",
      "      dup2\n",
      "        /* \"--CODEGEN--\":45:55   */\n",
      "      add\n",
      "        /* \"--CODEGEN--\":40:55   */\n",
      "      swap1\n",
      "      pop\n",
      "        /* \"--CODEGEN--\":8:108   */\n",
      "      jump(tag_6)\n",
      "    tag_8:\n",
      "        /* \"--CODEGEN--\":12:26   */\n",
      "      pop\n",
      "        /* \"src/Hello.sol\":49:163  function sayHello() pure public returns(string memory) { // pure : read-only\n",
      "... */\n",
      "      pop\n",
      "      pop\n",
      "      pop\n",
      "      swap1\n",
      "      pop\n",
      "      swap1\n",
      "      dup2\n",
      "      add\n",
      "      swap1\n",
      "      0x1f\n",
      "      and\n",
      "      dup1\n",
      "      iszero\n",
      "      tag_9\n",
      "      jumpi\n",
      "      dup1\n",
      "      dup3\n",
      "      sub\n",
      "      dup1\n",
      "      mload\n",
      "      0x01\n",
      "      dup4\n",
      "      0x20\n",
      "      sub\n",
      "      0x0100\n",
      "      exp\n",
      "      sub\n",
      "      not\n",
      "      and\n",
      "      dup2\n",
      "      mstore\n",
      "      0x20\n",
      "      add\n",
      "      swap2\n",
      "      pop\n",
      "    tag_9:\n",
      "      pop\n",
      "      swap3\n",
      "      pop\n",
      "      pop\n",
      "      pop\n",
      "      mload(0x40)\n",
      "      dup1\n",
      "      swap2\n",
      "      sub\n",
      "      swap1\n",
      "      return\n",
      "    tag_5:\n",
      "        /* \"src/Hello.sol\":89:102  string memory */\n",
      "      0x60\n",
      "        /* \"src/Hello.sol\":135:155  return \"Hello world\" */\n",
      "      mload(0x40)\n",
      "      dup1\n",
      "      0x40\n",
      "      add\n",
      "      0x40\n",
      "      mstore\n",
      "      dup1\n",
      "      0x0b\n",
      "      dup2\n",
      "      mstore\n",
      "      0x20\n",
      "      add\n",
      "      0x48656c6c6f20776f726c64000000000000000000000000000000000000000000\n",
      "      dup2\n",
      "      mstore\n",
      "      pop\n",
      "      swap1\n",
      "      pop\n",
      "        /* \"src/Hello.sol\":49:163  function sayHello() pure public returns(string memory) { // pure : read-only\n",
      "... */\n",
      "      swap1\n",
      "      jump\t// out\n",
      "\n",
      "    auxdata: 0xa265627a7a72305820fc175f73e4f397d85cebad715b9d60bbafb225ae09b8bcc10458f5b398ec620464736f6c634300050a0032\n",
      "}\n",
      "\n"
     ]
    }
   ],
   "source": [
    "!solc --asm src/Hello.sol"
   ]
  },
  {
   "cell_type": "code",
   "execution_count": 3,
   "metadata": {
    "scrolled": true
   },
   "outputs": [
    {
     "name": "stdout",
     "output_type": "stream",
     "text": [
      "\n",
      "======= src/Hello.sol:Hello =======\n",
      "Gas estimation:\n",
      "construction:\n",
      "   105 + 57000 = 57105\n",
      "external:\n",
      "   sayHello():\tinfinite\n",
      "Binary: \n",
      "608060405234801561001057600080fd5b5061011d806100206000396000f3fe6080604052348015600f57600080fd5b506004361060285760003560e01c8063ef5fb05b14602d575b600080fd5b603360ab565b6040518080602001828103825283818151815260200191508051906020019080838360005b8381101560715780820151818401526020810190506058565b50505050905090810190601f168015609d5780820380516001836020036101000a031916815260200191505b509250505060405180910390f35b60606040518060400160405280600b81526020017f48656c6c6f20776f726c6400000000000000000000000000000000000000000081525090509056fea265627a7a72305820fc175f73e4f397d85cebad715b9d60bbafb225ae09b8bcc10458f5b398ec620464736f6c634300050a0032\n",
      "Contract JSON ABI \n",
      "[{\"constant\":true,\"inputs\":[],\"name\":\"sayHello\",\"outputs\":[{\"name\":\"\",\"type\":\"string\"}],\"payable\":false,\"stateMutability\":\"pure\",\"type\":\"function\"}]\n"
     ]
    }
   ],
   "source": [
    "!solc --abi --bin --gas src/Hello.sol"
   ]
  },
  {
   "cell_type": "markdown",
   "metadata": {},
   "source": [
    "### 단계 3: 배포\n",
    "- 컴파일해서 얻은 ABI, Byte Code를 사용해서 contract 객체를 생성하고\n",
    "- 배포를 요청하고 (transactionHash를 얻음)\n",
    "- 마이닝을 하고 나면 blockchain에서의 주소 contractAddress를 받게 된다."
   ]
  },
  {
   "cell_type": "code",
   "execution_count": 4,
   "metadata": {},
   "outputs": [
    {
     "name": "stdout",
     "output_type": "stream",
     "text": [
      "Overwriting src/HelloDeployGas.js\n"
     ]
    }
   ],
   "source": [
    "%%writefile src/HelloDeployGas.js\n",
    "var Web3=require('web3');\n",
    "var web3 = new Web3(new Web3.providers.HttpProvider(\"http://127.0.0.1:8345\"));\n",
    "var shelloContract = new web3.eth.Contract([{\"inputs\":[],\"name\":\"sayHello\",\"outputs\":[{\"internalType\":\"string\",\"name\":\"\",\"type\":\"string\"}],\"stateMutability\":\"pure\",\"type\":\"function\"}]);\n",
    "shelloContract\n",
    "    .deploy({\n",
    "            data: '0x608060405234801561001057600080fd5b5061011e806100206000396000f3fe6080604052348015600f57600080fd5b506004361060285760003560e01c8063ef5fb05b14602d575b600080fd5b603360ab565b6040518080602001828103825283818151815260200191508051906020019080838360005b8381101560715780820151818401526020810190506058565b50505050905090810190601f168015609d5780820380516001836020036101000a031916815260200191505b509250505060405180910390f35b60606040518060400160405280600b81526020017f48656c6c6f20776f726c6400000000000000000000000000000000000000000081525090509056fea26469706673582212200aa372078e5ed55da678c25a410bbb3edb722d25e0ce0bc0b28504bde2c15bb964736f6c63430006050033', \n",
    "    })\n",
    "    .estimateGas()\n",
    "    .then(function(myGas) {\n",
    "        console.log(\"Estimated gas: \" + myGas);\n",
    "        gas = myGas;\n",
    "    })\n",
    "    .catch(console.error);"
   ]
  },
  {
   "cell_type": "code",
   "execution_count": 5,
   "metadata": {},
   "outputs": [
    {
     "name": "stderr",
     "output_type": "stream",
     "text": [
      "Error: Invalid JSON RPC response: \"\"\n",
      "    at Object.InvalidResponse (C:\\Users\\zaqxs\\code\\201910787\\node_modules\\web3-core-helpers\\lib\\errors.js:43:16)\n",
      "    at XMLHttpRequest.request.onreadystatechange (C:\\Users\\zaqxs\\code\\201910787\\node_modules\\web3-providers-http\\lib\\index.js:95:32)\n",
      "    at XMLHttpRequestEventTarget.dispatchEvent (C:\\Users\\zaqxs\\code\\201910787\\node_modules\\xhr2-cookies\\dist\\xml-http-request-event-target.js:34:22)\n",
      "    at XMLHttpRequest._setReadyState (C:\\Users\\zaqxs\\code\\201910787\\node_modules\\xhr2-cookies\\dist\\xml-http-request.js:208:14)\n",
      "    at XMLHttpRequest._onHttpRequestError (C:\\Users\\zaqxs\\code\\201910787\\node_modules\\xhr2-cookies\\dist\\xml-http-request.js:349:14)\n",
      "    at ClientRequest.<anonymous> (C:\\Users\\zaqxs\\code\\201910787\\node_modules\\xhr2-cookies\\dist\\xml-http-request.js:252:61)\n",
      "    at ClientRequest.emit (events.js:315:20)\n",
      "    at Socket.socketErrorListener (_http_client.js:469:9)\n",
      "    at Socket.emit (events.js:315:20)\n",
      "    at emitErrorNT (internal/streams/destroy.js:106:8)\n",
      "    at emitErrorCloseNT (internal/streams/destroy.js:74:3)\n",
      "    at processTicksAndRejections (internal/process/task_queues.js:80:21)\n"
     ]
    }
   ],
   "source": [
    "!node src/HelloDeployGas.js"
   ]
  },
  {
   "cell_type": "code",
   "execution_count": 6,
   "metadata": {},
   "outputs": [
    {
     "name": "stdout",
     "output_type": "stream",
     "text": [
      "Overwriting src/getMyAddr.js\n"
     ]
    }
   ],
   "source": [
    "%%writefile src/getMyAddr.js\n",
    "var Web3=require('web3');\n",
    "var web3 = new Web3(new Web3.providers.HttpProvider(\"http://127.0.0.1:8345\"))\n",
    "var myAddr0;\n",
    "web3.eth.getAccounts(function(err,addr) {\n",
    "    myAddr0 = addr[0];\n",
    "    console.log(addr);\n",
    "});\n",
    "console.log(\"my address : \" + myAddr0)"
   ]
  },
  {
   "cell_type": "code",
   "execution_count": 7,
   "metadata": {},
   "outputs": [
    {
     "name": "stdout",
     "output_type": "stream",
     "text": [
      "my address : undefined\n"
     ]
    },
    {
     "name": "stderr",
     "output_type": "stream",
     "text": [
      "C:\\Users\\zaqxs\\code\\201910787\\src\\getMyAddr.js:5\n",
      "    myAddr0 = addr[0];\n",
      "                  ^\n",
      "\n",
      "TypeError: Cannot read property '0' of undefined\n",
      "    at C:\\Users\\zaqxs\\code\\201910787\\src\\getMyAddr.js:5:19\n",
      "    at Object._fireError (C:\\Users\\zaqxs\\code\\201910787\\node_modules\\web3-utils\\lib\\index.js:53:9)\n",
      "    at sendTxCallback (C:\\Users\\zaqxs\\code\\201910787\\node_modules\\web3-core-method\\lib\\index.js:540:30)\n",
      "    at C:\\Users\\zaqxs\\code\\201910787\\node_modules\\web3-core-requestmanager\\lib\\index.js:300:20\n",
      "    at XMLHttpRequest.request.onreadystatechange (C:\\Users\\zaqxs\\code\\201910787\\node_modules\\web3-providers-http\\lib\\index.js:98:13)\n",
      "    at XMLHttpRequestEventTarget.dispatchEvent (C:\\Users\\zaqxs\\code\\201910787\\node_modules\\xhr2-cookies\\dist\\xml-http-request-event-target.js:34:22)\n",
      "    at XMLHttpRequest._setReadyState (C:\\Users\\zaqxs\\code\\201910787\\node_modules\\xhr2-cookies\\dist\\xml-http-request.js:208:14)\n",
      "    at XMLHttpRequest._onHttpRequestError (C:\\Users\\zaqxs\\code\\201910787\\node_modules\\xhr2-cookies\\dist\\xml-http-request.js:349:14)\n",
      "    at ClientRequest.<anonymous> (C:\\Users\\zaqxs\\code\\201910787\\node_modules\\xhr2-cookies\\dist\\xml-http-request.js:252:61)\n",
      "    at ClientRequest.emit (events.js:315:20)\n",
      "    at Socket.socketErrorListener (_http_client.js:469:9)\n",
      "    at Socket.emit (events.js:315:20)\n",
      "    at emitErrorNT (internal/streams/destroy.js:106:8)\n",
      "    at emitErrorCloseNT (internal/streams/destroy.js:74:3)\n",
      "    at processTicksAndRejections (internal/process/task_queues.js:80:21)\n"
     ]
    }
   ],
   "source": [
    "!node src/getMyAddr.js"
   ]
  },
  {
   "cell_type": "code",
   "execution_count": 27,
   "metadata": {},
   "outputs": [
    {
     "name": "stdout",
     "output_type": "stream",
     "text": [
      "Overwriting src/HelloDeploy.js\n"
     ]
    }
   ],
   "source": [
    "%%writefile src/HelloDeploy.js\n",
    "var Web3=require('web3');\n",
    "var web3 = new Web3(new Web3.providers.HttpProvider(\"http://127.0.0.1:8445\"));\n",
    "var shelloContract = new web3.eth.Contract([{\"inputs\":[],\"name\":\"sayHello\",\"outputs\":[{\"internalType\":\"string\",\"name\":\"\",\"type\":\"string\"}],\"stateMutability\":\"pure\",\"type\":\"function\"}]);\n",
    "shelloContract\n",
    "    .deploy({\n",
    "            data: '0x608060405234801561001057600080fd5b50610139806100206000396000f3fe608060405234801561001057600080fd5b5060043610610048576000357c010000000000000000000000000000000000000000000000000000000090048063ef5fb05b1461004d575b600080fd5b6100556100d0565b6040518080602001828103825283818151815260200191508051906020019080838360005b8381101561009557808201518184015260208101905061007a565b50505050905090810190601f1680156100c25780820380516001836020036101000a031916815260200191505b509250505060405180910390f35b60606040805190810160405280600b81526020017f48656c6c6f20576f726c6400000000000000000000000000000000000000000081525090509056fea165627a7a72305820992c2f4c73a27b9eb53c6aa7b52ba8a5eddba258089eb7d1a3710711703459950029', \n",
    "    })\n",
    "    .send({\n",
    "     from:\"0xe1e222f7567794c4813f2965719f59c15e8a7a84\",\n",
    "     gas: '4700000'\n",
    "    }, function (error, transactionHash){ \n",
    "            console.log(error, transactionHash); // hashcode 출력\n",
    "    })\n",
    "    .then(function(newContractInstance){\n",
    "        console.log(newContractInstance.options.address) // 주소 출력\n",
    "    });"
   ]
  },
  {
   "cell_type": "code",
   "execution_count": 28,
   "metadata": {},
   "outputs": [
    {
     "name": "stdout",
     "output_type": "stream",
     "text": [
      "Error: Returned error: authentication needed: password or unlock\n",
      "    at Object.ErrorResponse (C:\\Users\\zaqxs\\Code\\201910787\\node_modules\\web3-core-helpers\\lib\\errors.js:28:19)\n",
      "    at C:\\Users\\zaqxs\\Code\\201910787\\node_modules\\web3-core-requestmanager\\lib\\index.js:303:36\n",
      "    at XMLHttpRequest.request.onreadystatechange (C:\\Users\\zaqxs\\Code\\201910787\\node_modules\\web3-providers-http\\lib\\index.js:98:13)\n",
      "    at XMLHttpRequestEventTarget.dispatchEvent (C:\\Users\\zaqxs\\Code\\201910787\\node_modules\\xhr2-cookies\\dist\\xml-http-request-event-target.js:34:22)\n",
      "    at XMLHttpRequest._setReadyState (C:\\Users\\zaqxs\\Code\\201910787\\node_modules\\xhr2-cookies\\dist\\xml-http-request.js:208:14)\n",
      "    at XMLHttpRequest._onHttpResponseEnd (C:\\Users\\zaqxs\\Code\\201910787\\node_modules\\xhr2-cookies\\dist\\xml-http-request.js:318:14)\n",
      "    at IncomingMessage.<anonymous> (C:\\Users\\zaqxs\\Code\\201910787\\node_modules\\xhr2-cookies\\dist\\xml-http-request.js:289:61)\n",
      "    at IncomingMessage.emit (events.js:327:22)\n",
      "    at endReadableNT (internal/streams/readable.js:1327:12)\n",
      "    at processTicksAndRejections (internal/process/task_queues.js:80:21) {\n",
      "  data: null\n",
      "} undefined\n"
     ]
    },
    {
     "name": "stderr",
     "output_type": "stream",
     "text": [
      "(node:9672) UnhandledPromiseRejectionWarning: Error: Returned error: authentication needed: password or unlock\n",
      "    at Object.ErrorResponse (C:\\Users\\zaqxs\\Code\\201910787\\node_modules\\web3-core-helpers\\lib\\errors.js:28:19)\n",
      "    at C:\\Users\\zaqxs\\Code\\201910787\\node_modules\\web3-core-requestmanager\\lib\\index.js:303:36\n",
      "    at XMLHttpRequest.request.onreadystatechange (C:\\Users\\zaqxs\\Code\\201910787\\node_modules\\web3-providers-http\\lib\\index.js:98:13)\n",
      "    at XMLHttpRequestEventTarget.dispatchEvent (C:\\Users\\zaqxs\\Code\\201910787\\node_modules\\xhr2-cookies\\dist\\xml-http-request-event-target.js:34:22)\n",
      "    at XMLHttpRequest._setReadyState (C:\\Users\\zaqxs\\Code\\201910787\\node_modules\\xhr2-cookies\\dist\\xml-http-request.js:208:14)\n",
      "    at XMLHttpRequest._onHttpResponseEnd (C:\\Users\\zaqxs\\Code\\201910787\\node_modules\\xhr2-cookies\\dist\\xml-http-request.js:318:14)\n",
      "    at IncomingMessage.<anonymous> (C:\\Users\\zaqxs\\Code\\201910787\\node_modules\\xhr2-cookies\\dist\\xml-http-request.js:289:61)\n",
      "    at IncomingMessage.emit (events.js:327:22)\n",
      "    at endReadableNT (internal/streams/readable.js:1327:12)\n",
      "    at processTicksAndRejections (internal/process/task_queues.js:80:21)\n",
      "(Use `node --trace-warnings ...` to show where the warning was created)\n",
      "(node:9672) UnhandledPromiseRejectionWarning: Unhandled promise rejection. This error originated either by throwing inside of an async function without a catch block, or by rejecting a promise which was not handled with .catch(). To terminate the node process on unhandled promise rejection, use the CLI flag `--unhandled-rejections=strict` (see https://nodejs.org/api/cli.html#cli_unhandled_rejections_mode). (rejection id: 1)\n",
      "(node:9672) [DEP0018] DeprecationWarning: Unhandled promise rejections are deprecated. In the future, promise rejections that are not handled will terminate the Node.js process with a non-zero exit code.\n"
     ]
    }
   ],
   "source": [
    "!node src/HelloDeploy.js"
   ]
  },
  {
   "cell_type": "code",
   "execution_count": 10,
   "metadata": {},
   "outputs": [
    {
     "name": "stdout",
     "output_type": "stream",
     "text": [
      "Overwriting src/HelloDeploy_geth.js\n"
     ]
    }
   ],
   "source": [
    "%%writefile src/HelloDeploy_geth.js\n",
    "var Web3=require('web3');\n",
    "var web3 = new Web3(new Web3.providers.HttpProvider(\"http://127.0.0.1:8445\"));\n",
    "var shelloContract = new web3.eth.Contract([{\"constant\":true,\"inputs\":[],\"name\":\"sayHello\",\"outputs\":[{\"name\":\"\",\"type\":\"string\"}],\"payable\":false,\"stateMutability\":\"pure\",\"type\":\"function\"}]);\n",
    "shelloContract\n",
    "    .deploy({\n",
    "            data: '0x608060405234801561001057600080fd5b50610139806100206000396000f3fe608060405234801561001057600080fd5b5060043610610048576000357c010000000000000000000000000000000000000000000000000000000090048063ef5fb05b1461004d575b600080fd5b6100556100d0565b6040518080602001828103825283818151815260200191508051906020019080838360005b8381101561009557808201518184015260208101905061007a565b50505050905090810190601f1680156100c25780820380516001836020036101000a031916815260200191505b509250505060405180910390f35b60606040805190810160405280600b81526020017f48656c6c6f20576f726c6400000000000000000000000000000000000000000081525090509056fea165627a7a72305820992c2f4c73a27b9eb53c6aa7b52ba8a5eddba258089eb7d1a3710711703459950029', \n",
    "    })\n",
    "    .send({\n",
    "     from: \"0xe1e222f7567794c4813f2965719f59c15e8a7a84\",\n",
    "     gas: '4700000'\n",
    "    }, function (error, transactionHash){ \n",
    "            console.log(error, transactionHash); \n",
    "    })\n",
    "    .on('transactionHash', function(error,transactionHash) {\n",
    "        console.log(\"hash-- \"+transactionHash);\n",
    "    })\n",
    "    .on('receipt', function(receipt) {\n",
    "        console.log('receipt:: '+receipt.contractAddress);\n",
    "    })\n",
    "    .then(function(newContractInstance){\n",
    "        console.log(newContractInstance.options.address)\n",
    "    });"
   ]
  },
  {
   "cell_type": "code",
   "execution_count": 11,
   "metadata": {},
   "outputs": [
    {
     "name": "stdout",
     "output_type": "stream",
     "text": [
      "Error: Returned error: authentication needed: password or unlock\n",
      "    at Object.ErrorResponse (C:\\Users\\zaqxs\\code\\201910787\\node_modules\\web3-core-helpers\\lib\\errors.js:28:19)\n",
      "    at C:\\Users\\zaqxs\\code\\201910787\\node_modules\\web3-core-requestmanager\\lib\\index.js:303:36\n",
      "    at XMLHttpRequest.request.onreadystatechange (C:\\Users\\zaqxs\\code\\201910787\\node_modules\\web3-providers-http\\lib\\index.js:98:13)\n",
      "    at XMLHttpRequestEventTarget.dispatchEvent (C:\\Users\\zaqxs\\code\\201910787\\node_modules\\xhr2-cookies\\dist\\xml-http-request-event-target.js:34:22)\n",
      "    at XMLHttpRequest._setReadyState (C:\\Users\\zaqxs\\code\\201910787\\node_modules\\xhr2-cookies\\dist\\xml-http-request.js:208:14)\n",
      "    at XMLHttpRequest._onHttpResponseEnd (C:\\Users\\zaqxs\\code\\201910787\\node_modules\\xhr2-cookies\\dist\\xml-http-request.js:318:14)\n",
      "    at IncomingMessage.<anonymous> (C:\\Users\\zaqxs\\code\\201910787\\node_modules\\xhr2-cookies\\dist\\xml-http-request.js:289:61)\n",
      "    at IncomingMessage.emit (events.js:327:22)\n",
      "    at endReadableNT (internal/streams/readable.js:1327:12)\n",
      "    at processTicksAndRejections (internal/process/task_queues.js:80:21) {\n",
      "  data: null\n",
      "} undefined\n"
     ]
    },
    {
     "name": "stderr",
     "output_type": "stream",
     "text": [
      "(node:14304) UnhandledPromiseRejectionWarning: Error: Returned error: authentication needed: password or unlock\n",
      "    at Object.ErrorResponse (C:\\Users\\zaqxs\\code\\201910787\\node_modules\\web3-core-helpers\\lib\\errors.js:28:19)\n",
      "    at C:\\Users\\zaqxs\\code\\201910787\\node_modules\\web3-core-requestmanager\\lib\\index.js:303:36\n",
      "    at XMLHttpRequest.request.onreadystatechange (C:\\Users\\zaqxs\\code\\201910787\\node_modules\\web3-providers-http\\lib\\index.js:98:13)\n",
      "    at XMLHttpRequestEventTarget.dispatchEvent (C:\\Users\\zaqxs\\code\\201910787\\node_modules\\xhr2-cookies\\dist\\xml-http-request-event-target.js:34:22)\n",
      "    at XMLHttpRequest._setReadyState (C:\\Users\\zaqxs\\code\\201910787\\node_modules\\xhr2-cookies\\dist\\xml-http-request.js:208:14)\n",
      "    at XMLHttpRequest._onHttpResponseEnd (C:\\Users\\zaqxs\\code\\201910787\\node_modules\\xhr2-cookies\\dist\\xml-http-request.js:318:14)\n",
      "    at IncomingMessage.<anonymous> (C:\\Users\\zaqxs\\code\\201910787\\node_modules\\xhr2-cookies\\dist\\xml-http-request.js:289:61)\n",
      "    at IncomingMessage.emit (events.js:327:22)\n",
      "    at endReadableNT (internal/streams/readable.js:1327:12)\n",
      "    at processTicksAndRejections (internal/process/task_queues.js:80:21)\n",
      "(Use `node --trace-warnings ...` to show where the warning was created)\n",
      "(node:14304) UnhandledPromiseRejectionWarning: Unhandled promise rejection. This error originated either by throwing inside of an async function without a catch block, or by rejecting a promise which was not handled with .catch(). To terminate the node process on unhandled promise rejection, use the CLI flag `--unhandled-rejections=strict` (see https://nodejs.org/api/cli.html#cli_unhandled_rejections_mode). (rejection id: 1)\n",
      "(node:14304) [DEP0018] DeprecationWarning: Unhandled promise rejections are deprecated. In the future, promise rejections that are not handled will terminate the Node.js process with a non-zero exit code.\n"
     ]
    }
   ],
   "source": [
    "!node src/HelloDeploy_geth.js"
   ]
  },
  {
   "cell_type": "markdown",
   "metadata": {},
   "source": [
    "### 단계 4: 사용"
   ]
  },
  {
   "cell_type": "code",
   "execution_count": 12,
   "metadata": {},
   "outputs": [
    {
     "name": "stdout",
     "output_type": "stream",
     "text": [
      "Overwriting src/HelloUse.js\n"
     ]
    }
   ],
   "source": [
    "%%writefile src/HelloUse.js\n",
    "var Web3=require('web3');\n",
    "var web3 = new Web3(new Web3.providers.HttpProvider(\"http://127.0.0.1:8345\"));\n",
    "var shelloContract = new web3.eth.Contract([{\"constant\":true,\"inputs\":[],\"name\":\"sayHello\",\"outputs\":[{\"name\":\"\",\"type\":\"string\"}],\"payable\":false,\"stateMutability\":\"pure\",\"type\":\"function\"}],\n",
    "                                      \"0xfcc4c51129fEDaBb0e9589646345Dfe012A6861b\");\n",
    "shelloContract.methods.sayHello().call().then(function(str) {console.log(str);});"
   ]
  },
  {
   "cell_type": "code",
   "execution_count": 13,
   "metadata": {},
   "outputs": [
    {
     "name": "stderr",
     "output_type": "stream",
     "text": [
      "(node:3552) UnhandledPromiseRejectionWarning: Error: Invalid JSON RPC response: \"\"\n",
      "    at Object.InvalidResponse (C:\\Users\\zaqxs\\code\\201910787\\node_modules\\web3-core-helpers\\lib\\errors.js:43:16)\n",
      "    at XMLHttpRequest.request.onreadystatechange (C:\\Users\\zaqxs\\code\\201910787\\node_modules\\web3-providers-http\\lib\\index.js:95:32)\n",
      "    at XMLHttpRequestEventTarget.dispatchEvent (C:\\Users\\zaqxs\\code\\201910787\\node_modules\\xhr2-cookies\\dist\\xml-http-request-event-target.js:34:22)\n",
      "    at XMLHttpRequest._setReadyState (C:\\Users\\zaqxs\\code\\201910787\\node_modules\\xhr2-cookies\\dist\\xml-http-request.js:208:14)\n",
      "    at XMLHttpRequest._onHttpRequestError (C:\\Users\\zaqxs\\code\\201910787\\node_modules\\xhr2-cookies\\dist\\xml-http-request.js:349:14)\n",
      "    at ClientRequest.<anonymous> (C:\\Users\\zaqxs\\code\\201910787\\node_modules\\xhr2-cookies\\dist\\xml-http-request.js:252:61)\n",
      "    at ClientRequest.emit (events.js:315:20)\n",
      "    at Socket.socketErrorListener (_http_client.js:469:9)\n",
      "    at Socket.emit (events.js:315:20)\n",
      "    at emitErrorNT (internal/streams/destroy.js:106:8)\n",
      "    at emitErrorCloseNT (internal/streams/destroy.js:74:3)\n",
      "    at processTicksAndRejections (internal/process/task_queues.js:80:21)\n",
      "(Use `node --trace-warnings ...` to show where the warning was created)\n",
      "(node:3552) UnhandledPromiseRejectionWarning: Unhandled promise rejection. This error originated either by throwing inside of an async function without a catch block, or by rejecting a promise which was not handled with .catch(). To terminate the node process on unhandled promise rejection, use the CLI flag `--unhandled-rejections=strict` (see https://nodejs.org/api/cli.html#cli_unhandled_rejections_mode). (rejection id: 1)\n",
      "(node:3552) [DEP0018] DeprecationWarning: Unhandled promise rejections are deprecated. In the future, promise rejections that are not handled will terminate the Node.js process with a non-zero exit code.\n"
     ]
    }
   ],
   "source": [
    "!node src/HelloUse.js"
   ]
  },
  {
   "cell_type": "markdown",
   "metadata": {},
   "source": [
    "#### 2-"
   ]
  },
  {
   "cell_type": "code",
   "execution_count": 30,
   "metadata": {},
   "outputs": [
    {
     "name": "stdout",
     "output_type": "stream",
     "text": [
      "Overwriting scripts/simpleCoinbase.html\n"
     ]
    }
   ],
   "source": [
    "%%writefile scripts/simpleCoinbase.html\n",
    "<!doctype>\n",
    "<html>\n",
    "<head>\n",
    "<script src=\"https://cdn.jsdelivr.net/npm/web3@1.2.7/dist/web3.min.js\"></script>\n",
    "<script type=\"text/javascript\">\n",
    "    //var Web3 = require('web3');  //can be removed\n",
    "    var web3 = new Web3(new Web3.providers.HttpProvider(\"http://127.0.0.1:8045\"));\n",
    "\n",
    "    function displayCoinbase() {\n",
    "        document.getElementById('web3ver').innerText = 'web3 version 1.3.5';\n",
    "        web3.eth.getCoinbase().then(res=>\n",
    "                                   document.getElementById('web3coinbase').innerText='coinbase '+res);\n",
    "    }\n",
    "</script>\n",
    "</head>\n",
    "<body>\n",
    "    <h1>Hello</h1>\n",
    "    <button type=\"button\" onClick=\"displayCoinbase();\">Display Coinbase</button>\n",
    "    <div></div>\n",
    "    <div id=\"web3ver\"></div>\n",
    "    <div id=\"web3coinbase\"></div>\n",
    "</body>\n",
    "</html>\n",
    "\n",
    "\n",
    "  \n",
    "<!doctype>\n",
    "<html>\n",
    "<head>\n",
    "<script src=\"https://cdn.jsdelivr.net/npm/web3@0.20.5/dist/web3.min.js\"></script>\n",
    "<script type=\"text/javascript\">\n",
    "    //var Web3 = require('web3');  //can be removed\n",
    "    var web3 = new Web3(new Web3.providers.HttpProvider(\"http://127.0.0.1:8345\"));\n",
    "\n",
    "    function displayCoinbase() {\n",
    "        //web3@0.20.x\n",
    "        document.getElementById('web3ver').innerText = 'web3 version 1.2.5';\n",
    "        document.getElementById('web3coinbase').innerText = 'coinbase: ' + web3.eth.coinbase;\n",
    "    }\n",
    "</script>\n",
    "</head>\n",
    "<body>\n",
    "    <h1>Hello</h1>\n",
    "    <button type=\"button\" onClick=\"displayCoinbase();\">Display Coinbase</button>\n",
    "    <div></div>\n",
    "    <div id=\"web3ver\"></div>\n",
    "    <div id=\"web3coinbase\"></div>\n",
    "</body>\n",
    "</html>"
   ]
  },
  {
   "cell_type": "code",
   "execution_count": 31,
   "metadata": {},
   "outputs": [
    {
     "name": "stdout",
     "output_type": "stream",
     "text": [
      "Overwriting scripts/hello.html\n"
     ]
    }
   ],
   "source": [
    "%%writefile scripts/hello.html\n",
    "<!doctype>\n",
    "<html>\n",
    "<head>\n",
    "<script src=\"https://cdn.jsdelivr.net/npm/web3@1.2.5/dist/web3.min.js\"></script>\n",
    "<!-- script src=\"https://cdn.jsdelivr.net/npm/web3@0.20.5/dist/web3.min.js\"></script -->\n",
    "<script type=\"text/javascript\">\n",
    "    //var Web3 = require('web3');  //can be removed\n",
    "    var web3 = new Web3(new Web3.providers.HttpProvider(\"http://172.30.1.40:8045\"));\n",
    "\n",
    "    function displayHello() {\n",
    "        //web3@0.20.x\n",
    "        //var shelloContract = web3.eth.contract([{\"constant\":true,\"inputs\":[],\"name\":\"sayHello\",\"outputs\":[{\"name\":\"\",\"type\":\"string\"}],\"payable\":false,\"stateMutability\":\"pure\",\"type\":\"function\"}]);\n",
    "        //var hello = shelloContract.at(\"0xB7f41a9Bc2fe0794ad654f687327fFbB6E80cd24\");\n",
    "        //var hello=hello.sayHello.call();\n",
    "        //document.getElementById('sayhello').innerText = \"The message from blockchain: \" + hello;\n",
    "        //document.getElementById('web3ver').innerText = 'web3 version 0.20.x';\n",
    "        //document.getElementById('web3coinbase').innerText = 'coinbase: ' + web3.eth.coinbase;\n",
    "\n",
    "        //web3@1.2.x - can not instanciate a contract\n",
    "        var shelloContract = new web3.eth.Contract([{\"constant\":true,\"inputs\":[],\"name\":\"sayHello\",\"outputs\":[{\"name\":\"\",\"type\":\"string\"}],\"payable\":false,\"stateMutability\":\"pure\",\"type\":\"function\"}],\n",
    "                                      \"0xe1e222f7567794c4813f2965719f59c15e8a7a84\");\n",
    "        shelloContract.methods.sayHello().call().then(function(str) {\n",
    "            document.getElementById('sayhello').innerText = \"The message from blockchain: \" + str;\n",
    "        });\n",
    "        document.getElementById('web3ver').innerText = 'web3 version 1.2.x';\n",
    "        web3.eth.getCoinbase().then(function(coin) {\n",
    "            document.getElementById('web3coinbase').innerText = 'coinbase: ' + coin;\n",
    "            });\n",
    "    }\n",
    "</script>\n",
    "</head>\n",
    "<body>\n",
    "    <h1>Hello</h1>\n",
    "    <button type=\"button\" onClick=\"displayHello();\">Display Hello</button>\n",
    "    <div></div>\n",
    "    <div id=\"sayhello\"></div>\n",
    "    <div id=\"web3ver\"></div>\n",
    "    <div id=\"web3coinbase\"></div>\n",
    "</body>\n",
    "</html>"
   ]
  },
  {
   "cell_type": "code",
   "execution_count": 1,
   "metadata": {},
   "outputs": [
    {
     "name": "stdout",
     "output_type": "stream",
     "text": [
      "Overwriting src/greeter.sol\n"
     ]
    }
   ],
   "source": [
    "%%writefile src/greeter.sol\n",
    "pragma solidity ^0.5.10;\n",
    "\n",
    "contract Greeter {\n",
    "    string greeting;\n",
    "    constructor() public {\n",
    "        greeting='Hello';\n",
    "    }\n",
    "    function setGreeting(string memory _greeting) public {\n",
    "        greeting = _greeting;\n",
    "    }\n",
    "    function greet() view public returns (string memory) {\n",
    "        return greeting;\n",
    "    }\n",
    "}"
   ]
  },
  {
   "cell_type": "code",
   "execution_count": 2,
   "metadata": {
    "scrolled": true
   },
   "outputs": [
    {
     "name": "stdout",
     "output_type": "stream",
     "text": [
      "\n",
      "======= src/greeter.sol:Greeter =======\n",
      "Contract JSON ABI \n",
      "[{\"constant\":false,\"inputs\":[{\"name\":\"_greeting\",\"type\":\"string\"}],\"name\":\"setGreeting\",\"outputs\":[],\"payable\":false,\"stateMutability\":\"nonpayable\",\"type\":\"function\"},{\"constant\":true,\"inputs\":[],\"name\":\"greet\",\"outputs\":[{\"name\":\"\",\"type\":\"string\"}],\"payable\":false,\"stateMutability\":\"view\",\"type\":\"function\"},{\"inputs\":[],\"payable\":false,\"stateMutability\":\"nonpayable\",\"type\":\"constructor\"}]\n"
     ]
    }
   ],
   "source": [
    "!solc --abi src/greeter.sol"
   ]
  },
  {
   "cell_type": "code",
   "execution_count": 3,
   "metadata": {},
   "outputs": [
    {
     "name": "stdout",
     "output_type": "stream",
     "text": [
      "\n",
      "======= src/greeter.sol:Greeter =======\n",
      "Binary: \n",
      "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\n"
     ]
    }
   ],
   "source": [
    "!solc --bin src/greeter.sol"
   ]
  },
  {
   "cell_type": "code",
   "execution_count": 4,
   "metadata": {
    "scrolled": true
   },
   "outputs": [
    {
     "name": "stdout",
     "output_type": "stream",
     "text": [
      "\n",
      "======= src/greeter.sol:Greeter =======\n",
      "Gas estimation:\n",
      "construction:\n",
      "   infinite + 156600 = infinite\n",
      "external:\n",
      "   greet():\tinfinite\n",
      "   setGreeting(string):\tinfinite\n"
     ]
    }
   ],
   "source": [
    "!solc --gas src/greeter.sol"
   ]
  },
  {
   "cell_type": "code",
   "execution_count": 5,
   "metadata": {},
   "outputs": [
    {
     "name": "stdout",
     "output_type": "stream",
     "text": [
      "0x0A1994b965B13Df5565804b102C6B1434A3E3C80\n"
     ]
    }
   ],
   "source": [
    "!node src/greeterDeploy.js"
   ]
  },
  {
   "cell_type": "code",
   "execution_count": 6,
   "metadata": {},
   "outputs": [
    {
     "name": "stdout",
     "output_type": "stream",
     "text": [
      "Overwriting src/greeterUse.js\n"
     ]
    }
   ],
   "source": [
    "%%writefile src/greeterUse.js\n",
    "var Web3=require('web3');\n",
    "var web3 = new Web3(new Web3.providers.HttpProvider(\"http://127.0.0.1:8445\"));\n",
    "var _abiArray=[{\"constant\":false,\"inputs\":[{\"name\":\"_greeting\",\"type\":\"string\"}],\"name\":\"setGreeting\",\"outputs\":[],\"payable\":false,\"stateMutability\":\"nonpayable\",\"type\":\"function\"},{\"constant\":true,\"inputs\":[],\"name\":\"greet\",\"outputs\":[{\"name\":\"\",\"type\":\"string\"}],\"payable\":false,\"stateMutability\":\"view\",\"type\":\"function\"},{\"inputs\":[],\"payable\":false,\"stateMutability\":\"nonpayable\",\"type\":\"constructor\"}];\n",
    "var greeter = new web3.eth.Contract(_abiArray,\"0x0A1994b965B13Df5565804b102C6B1434A3E3C80eth\");\n",
    "greeter.methods.greet().call().then(function(value) {console.log(value);});\n",
    "greeter.methods.setGreeting(\"Hello SMU\").send({from:\"0xe1e222f7567794c4813f2965719f59c15e8a7a84\",gas:100000});\n",
    "greeter.methods.greet().call().then(function(value) {console.log(value);});"
   ]
  },
  {
   "cell_type": "code",
   "execution_count": 12,
   "metadata": {},
   "outputs": [
    {
     "name": "stdout",
     "output_type": "stream",
     "text": [
      "Overwriting src/greeterUse.js\n"
     ]
    }
   ],
   "source": [
    "%%writefile src/greeterUse.js\n",
    "var Web3=require('web3');\n",
    "var web3 = new Web3(new Web3.providers.HttpProvider(\"http://127.0.0.1:8445\"));\n",
    "var _abiArray=[{\"constant\":false,\"inputs\":[{\"name\":\"_greeting\",\"type\":\"string\"}],\"name\":\"setGreeting\",\"outputs\":[],\"payable\":false,\"stateMutability\":\"nonpayable\",\"type\":\"function\"},{\"constant\":true,\"inputs\":[],\"name\":\"greet\",\"outputs\":[{\"name\":\"\",\"type\":\"string\"}],\"payable\":false,\"stateMutability\":\"view\",\"type\":\"function\"},{\"inputs\":[],\"payable\":false,\"stateMutability\":\"nonpayable\",\"type\":\"constructor\"}];\n",
    "var greeter = new web3.eth.Contract(_abiArray,\"0x0A1994b965B13Df5565804b102C6B1434A3E3C80\");\n",
    "greeter.methods.greet().call().then(function(value) {console.log(value);});\n",
    "greeter.methods.setGreeting(\"Hello SMU\").send({from:\"0xe1e222f7567794c4813f2965719f59c15e8a7a84\",gas:100000});\n",
    "greeter.methods.greet().call().then(function(value) {console.log(value);});"
   ]
  },
  {
   "cell_type": "code",
   "execution_count": 13,
   "metadata": {
    "scrolled": true
   },
   "outputs": [
    {
     "name": "stderr",
     "output_type": "stream",
     "text": [
      "C:\\Users\\zaqxs\\Code\\201910787\\node_modules\\web3-core-helpers\\lib\\formatters.js:403\n",
      "    throw new Error(`Provided address ${address} is invalid, the capitalization checksum test failed, or it's an indirect IBAN address which can't be converted.`);\n",
      "    ^\n",
      "\n",
      "Error: Provided address 0x0A1994b965B13Df5565804b102C6B1434A3E3C80eth is invalid, the capitalization checksum test failed, or it's an indirect IBAN address which can't be converted.\n",
      "    at Object.inputAddressFormatter (C:\\Users\\zaqxs\\Code\\201910787\\node_modules\\web3-core-helpers\\lib\\formatters.js:403:11)\n",
      "    at Object.set [as address] (C:\\Users\\zaqxs\\Code\\201910787\\node_modules\\web3-eth-contract\\lib\\index.js:77:69)\n",
      "    at Contract (C:\\Users\\zaqxs\\Code\\201910787\\node_modules\\web3-eth-contract\\lib\\index.js:251:26)\n",
      "    at new Contract (C:\\Users\\zaqxs\\Code\\201910787\\node_modules\\web3-eth\\lib\\index.js:257:22)\n",
      "    at Object.<anonymous> (C:\\Users\\zaqxs\\Code\\201910787\\src\\greeterUse.js:4:15)\n",
      "    at Module._compile (internal/modules/cjs/loader.js:1063:30)\n",
      "    at Object.Module._extensions..js (internal/modules/cjs/loader.js:1092:10)\n",
      "    at Module.load (internal/modules/cjs/loader.js:928:32)\n",
      "    at Function.Module._load (internal/modules/cjs/loader.js:769:14)\n",
      "    at Function.executeUserEntryPoint [as runMain] (internal/modules/run_main.js:72:12)\n",
      "    at internal/main/run_main_module.js:17:47\n"
     ]
    }
   ],
   "source": [
    "!node src/greeterUse.js"
   ]
  },
  {
   "cell_type": "code",
   "execution_count": 14,
   "metadata": {},
   "outputs": [
    {
     "name": "stdout",
     "output_type": "stream",
     "text": [
      "Writing src/Counter.sol\n"
     ]
    }
   ],
   "source": [
    "%%writefile src/Counter.sol\n",
    "pragma solidity ^0.5.10;\n",
    "\n",
    "contract Counter {\n",
    "    uint256 counter = 0;\n",
    "    function add() public {\n",
    "        counter++;\n",
    "    }\n",
    "    function subtract() public {\n",
    "        counter--;\n",
    "    }\n",
    "    function getCounter() public view returns (uint256) {\n",
    "        return counter;\n",
    "    }\n",
    "}"
   ]
  },
  {
   "cell_type": "code",
   "execution_count": 15,
   "metadata": {},
   "outputs": [
    {
     "name": "stdout",
     "output_type": "stream",
     "text": [
      "\n",
      "======= src/Counter.sol:Counter =======\n",
      "Gas estimation:\n",
      "construction:\n",
      "   5099 + 42000 = 47099\n",
      "external:\n",
      "   add():\t20359\n",
      "   getCounter():\t435\n",
      "   subtract():\t20384\n",
      "Binary: \n",
      "60806040526000805534801561001457600080fd5b5060d2806100236000396000f3fe6080604052348015600f57600080fd5b5060043610603c5760003560e01c80634f2be91f1460415780636deebae31460495780638ada066e146051575b600080fd5b6047606d565b005b604f6080565b005b60576094565b6040518082815260200191505060405180910390f35b6000808154809291906001019190505550565b600080815480929190600190039190505550565b6000805490509056fea265627a7a72305820508846ce94a16d4b8972f1a989905b97641a2556d2d6eaa52090e31a1254015b64736f6c634300050a0032\n",
      "Contract JSON ABI \n",
      "[{\"constant\":false,\"inputs\":[],\"name\":\"add\",\"outputs\":[],\"payable\":false,\"stateMutability\":\"nonpayable\",\"type\":\"function\"},{\"constant\":false,\"inputs\":[],\"name\":\"subtract\",\"outputs\":[],\"payable\":false,\"stateMutability\":\"nonpayable\",\"type\":\"function\"},{\"constant\":true,\"inputs\":[],\"name\":\"getCounter\",\"outputs\":[{\"name\":\"\",\"type\":\"uint256\"}],\"payable\":false,\"stateMutability\":\"view\",\"type\":\"function\"}]\n"
     ]
    }
   ],
   "source": [
    "!solc --abi --bin --gas src/Counter.sol"
   ]
  },
  {
   "cell_type": "code",
   "execution_count": 18,
   "metadata": {},
   "outputs": [
    {
     "name": "stdout",
     "output_type": "stream",
     "text": [
      "Writing src/counterDeploy.js\n"
     ]
    }
   ],
   "source": [
    "%%writefile src/counterDeploy.js\n",
    "var Web3=require('web3');\n",
    "var web3;\n",
    "if (typeof web3 !== 'undefined') {\n",
    "    web3 = new Web3(web3.currentProvider);\n",
    "} else {\n",
    "    web3 = new Web3(new Web3.providers.HttpProvider(\"http://127.0.0.1:8445\"));\n",
    "}\n",
    "//solc 0.5.0\n",
    "var _abiArray=[{\"constant\":false,\"inputs\":[],\"name\":\"add\",\"outputs\":[],\"payable\":false,\"stateMutability\":\"nonpayable\",\"type\":\"function\"},{\"constant\":false,\"inputs\":[],\"name\":\"subtract\",\"outputs\":[],\"payable\":false,\"stateMutability\":\"nonpayable\",\"type\":\"function\"},{\"constant\":true,\"inputs\":[],\"name\":\"getCounter\",\"outputs\":[{\"name\":\"\",\"type\":\"uint256\"}],\"payable\":false,\"stateMutability\":\"view\",\"type\":\"function\"}];\n",
    "var _bin=\"60806040526000805534801561001457600080fd5b5060d2806100236000396000f3fe6080604052348015600f57600080fd5b5060043610603c5760003560e01c80634f2be91f1460415780636deebae31460495780638ada066e146051575b600080fd5b6047606d565b005b604f6080565b005b60576094565b6040518082815260200191505060405180910390f35b6000808154809291906001019190505550565b600080815480929190600190039190505550565b6000805490509056fea265627a7a72305820508846ce94a16d4b8972f1a989905b97641a2556d2d6eaa52090e31a1254015b64736f6c634300050a0032\";\n",
    "//unlock the account with a password provided\n",
    "//web3.personal.unlockAccount(web3.eth.accounts[0],'password');\n",
    "_contract\n",
    "    .deploy({data:\"0x\"+_bin})\n",
    "    .send({from: \"0xe1e222f7567794c4813f2965719f59c15e8a7a84\", gas: 364124, gasPrice: '1000000000'})\n",
    "    .then(function(newContractInstance){\n",
    "        console.log(newContractInstance.options.address) // instance with the new contract address\n",
    "    });"
   ]
  },
  {
   "cell_type": "code",
   "execution_count": 19,
   "metadata": {},
   "outputs": [
    {
     "name": "stderr",
     "output_type": "stream",
     "text": [
      "C:\\Users\\zaqxs\\Code\\201910787\\src\\counterDeploy.js:13\n",
      "_contract\n",
      "^\n",
      "\n",
      "ReferenceError: _contract is not defined\n",
      "    at Object.<anonymous> (C:\\Users\\zaqxs\\Code\\201910787\\src\\counterDeploy.js:13:1)\n",
      "    at Module._compile (internal/modules/cjs/loader.js:1063:30)\n",
      "    at Object.Module._extensions..js (internal/modules/cjs/loader.js:1092:10)\n",
      "    at Module.load (internal/modules/cjs/loader.js:928:32)\n",
      "    at Function.Module._load (internal/modules/cjs/loader.js:769:14)\n",
      "    at Function.executeUserEntryPoint [as runMain] (internal/modules/run_main.js:72:12)\n",
      "    at internal/main/run_main_module.js:17:47\n"
     ]
    }
   ],
   "source": [
    "!node src/counterDeploy.js"
   ]
  },
  {
   "cell_type": "code",
   "execution_count": null,
   "metadata": {},
   "outputs": [],
   "source": [
    "%%writefile src/counterUse.js\n",
    "var Web3=require('web3');\n",
    "var web3 = new Web3(new Web3.providers.HttpProvider(\"http://117.16.44.45:8345\"));\n",
    "var abi =[{\"constant\":false,\"inputs\":[],\"name\":\"add\",\"outputs\":[],\"payable\":false,\"stateMutability\":\"nonpayable\",\"type\":\"function\"},{\"constant\":false,\"inputs\":[],\"name\":\"subtract\",\"outputs\":[],\"payable\":false,\"stateMutability\":\"nonpayable\",\"type\":\"function\"},{\"constant\":true,\"inputs\":[],\"name\":\"getCounter\",\"outputs\":[{\"name\":\"\",\"type\":\"uint256\"}],\"payable\":false,\"stateMutability\":\"view\",\"type\":\"function\"}];\n",
    "var addr = \"0xb24ab776373e53fFeb9B7298209E195853D2fc8e\";\n",
    "var counter = new web3.eth.Contract(abi,addr);\n",
    "counter.methods.getCounter().call().then(function(str) {console.log(str);});\n",
    "//counter.methods.subtract().send({from:\"0x0A815B7818A8e6BC27B430e41Edc8FC455F658c2\",gas:100000});\n",
    "counter.methods.add().send({from:\"0x0A815B7818A8e6BC27B430e41Edc8FC455F658c2\",gas:100000});\n",
    "counter.methods.add().send({from:\"0x0A815B7818A8e6BC27B430e41Edc8FC455F658c2\",gas:100000});\n",
    "counter.methods.getCounter().call().then(function(str) {console.log(str);});"
   ]
  },
  {
   "cell_type": "code",
   "execution_count": 20,
   "metadata": {},
   "outputs": [
    {
     "name": "stdout",
     "output_type": "stream",
     "text": [
      "Writing src/Timer.js\n"
     ]
    }
   ],
   "source": [
    "%%writefile src/Timer.js\n",
    "pragma solidity ^0.5.10;\n",
    "contract Timer {\n",
    "    uint256 startTime;\n",
    "    function start() public {\n",
    "        startTime=now;\n",
    "    }\n",
    "    function timePassed() public view returns(uint256) {\n",
    "        return now-startTime;\n",
    "    }\n",
    "    function getNow() view public returns(uint) {\n",
    "        return now;\n",
    "    }\n",
    "}"
   ]
  },
  {
   "cell_type": "code",
   "execution_count": 21,
   "metadata": {},
   "outputs": [],
   "source": [
    "!echo \"exports._compiled=`solc --optimize --combined-json abi,bin,interface src/Timer.sol`\" > src/Timer.js"
   ]
  },
  {
   "cell_type": "code",
   "execution_count": null,
   "metadata": {},
   "outputs": [],
   "source": [
    "!node"
   ]
  },
  {
   "cell_type": "code",
   "execution_count": null,
   "metadata": {},
   "outputs": [],
   "source": []
  }
 ],
 "metadata": {
  "kernelspec": {
   "display_name": "Python 3",
   "language": "python",
   "name": "python3"
  },
  "language_info": {
   "codemirror_mode": {
    "name": "ipython",
    "version": 3
   },
   "file_extension": ".py",
   "mimetype": "text/x-python",
   "name": "python",
   "nbconvert_exporter": "python",
   "pygments_lexer": "ipython3",
   "version": "3.7.3"
  }
 },
 "nbformat": 4,
 "nbformat_minor": 2
}
