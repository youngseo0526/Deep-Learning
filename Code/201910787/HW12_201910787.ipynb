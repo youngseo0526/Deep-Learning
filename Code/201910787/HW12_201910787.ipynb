{
 "cells": [
  {
   "cell_type": "markdown",
   "metadata": {},
   "source": [
    "### 휴먼지능정보공학과 201910787 김영서\n",
    "\n",
    "앞서 Multiply7을 구현해 놓았다.\n",
    "\n",
    "이 컨트랙에 이벤트를 추가해서 수정해보자.\n",
    "\n",
    "geth 또는 ganache 가운데 어느 것이나 선택해서 실행해도 좋다.\n",
    "\n",
    "아래 주어진 미완성 코드를 구현해서 노드에서 이벤트를 발생시켜 본다.\n",
    "\n",
    "* 함수는 param4인자를 받아서 곱하기 7 연산을 한다. 8과 16의 연산을 실행하자. 그 결과는 56과 112가 출력될 것이다.\n",
    "\n",
    "* 이벤트로 넘겨주는 매개변수 param1은 누가 이 함수를 호출했는지 (address), param2는 언제 호출되었는지 (timestamp), 마지막으로 param3는 연산결과를 출력한다.\n",
    "\n",
    "\n",
    "\n",
    "* 미완성 코드\n",
    "\n",
    "contract Multiply7Event {\n",
    "\n",
    "    event Print(param1, param2, param3);\n",
    "\n",
    "    function multiply(param4)\n",
    "\n",
    "}"
   ]
  },
  {
   "cell_type": "code",
   "execution_count": 7,
   "metadata": {},
   "outputs": [
    {
     "name": "stdout",
     "output_type": "stream",
     "text": [
      "Overwriting src/Multiply7Event.sol\n"
     ]
    }
   ],
   "source": [
    "%%writefile src/Multiply7Event.sol\n",
    "pragma solidity 0.5.10;\n",
    "contract Multiply7Event {\n",
    "    event Print(address param1,uint256 param2,uint param3);\n",
    "    function multiply(uint param4) public {\n",
    "        emit Print(msg.sender, now, param4*7);\n",
    "    }\n",
    "}"
   ]
  },
  {
   "cell_type": "code",
   "execution_count": 8,
   "metadata": {},
   "outputs": [
    {
     "name": "stdout",
     "output_type": "stream",
     "text": [
      "\n",
      "======= src/Multiply7Event.sol:Multiply7Event =======\n",
      "Gas estimation:\n",
      "construction:\n",
      "   105 + 52400 = 52505\n",
      "external:\n",
      "   multiply(uint256):\t1849\n",
      "Binary: \n",
      "6080604052348015600f57600080fd5b506101068061001f6000396000f3fe6080604052348015600f57600080fd5b506004361060285760003560e01c8063c6888fa114602d575b600080fd5b605660048036036020811015604157600080fd5b81019080803590602001909291905050506058565b005b7f91da4985ab616136202f4e81fd2d8cac1eb12591132d609cece407f7c6fb9205334260078402604051808473ffffffffffffffffffffffffffffffffffffffff1673ffffffffffffffffffffffffffffffffffffffff168152602001838152602001828152602001935050505060405180910390a15056fea265627a7a7230582004e1bdf0cb3ec8e7edfa598ef4ef3d99e3368c18e242aafb0530ee8f1cd1f20364736f6c634300050a0032\n",
      "Contract JSON ABI \n",
      "[{\"constant\":false,\"inputs\":[{\"name\":\"param4\",\"type\":\"uint256\"}],\"name\":\"multiply\",\"outputs\":[],\"payable\":false,\"stateMutability\":\"nonpayable\",\"type\":\"function\"},{\"anonymous\":false,\"inputs\":[{\"indexed\":false,\"name\":\"param1\",\"type\":\"address\"},{\"indexed\":false,\"name\":\"param2\",\"type\":\"uint256\"},{\"indexed\":false,\"name\":\"param3\",\"type\":\"uint256\"}],\"name\":\"Print\",\"type\":\"event\"}]\n"
     ]
    }
   ],
   "source": [
    "!solc --gas --abi --bin src/Multiply7Event.sol"
   ]
  },
  {
   "cell_type": "code",
   "execution_count": 9,
   "metadata": {},
   "outputs": [
    {
     "name": "stdout",
     "output_type": "stream",
     "text": [
      "Overwriting src/Multiply7EventDeploy.js\n"
     ]
    }
   ],
   "source": [
    "%%writefile src/Multiply7EventDeploy.js\n",
    "var Web3 = require('web3');\n",
    "var web3 = new Web3(new Web3.providers.HttpProvider(\"http://localhost:8345\"));\n",
    "var _abiArray = [{\"constant\":false,\"inputs\":[{\"name\":\"param4\",\"type\":\"uint256\"}],\"name\":\"multiply\",\"outputs\":[],\"payable\":false,\"stateMutability\":\"nonpayable\",\"type\":\"function\"},{\"anonymous\":false,\"inputs\":[{\"indexed\":false,\"name\":\"param1\",\"type\":\"address\"},{\"indexed\":false,\"name\":\"param2\",\"type\":\"uint256\"},{\"indexed\":false,\"name\":\"param3\",\"type\":\"uint256\"}],\"name\":\"Print\",\"type\":\"event\"}];\n",
    "var _bin = \"0x\" + \"6080604052348015600f57600080fd5b506101068061001f6000396000f3fe6080604052348015600f57600080fd5b506004361060285760003560e01c8063c6888fa114602d575b600080fd5b605660048036036020811015604157600080fd5b81019080803590602001909291905050506058565b005b7f91da4985ab616136202f4e81fd2d8cac1eb12591132d609cece407f7c6fb9205334260078402604051808473ffffffffffffffffffffffffffffffffffffffff1673ffffffffffffffffffffffffffffffffffffffff168152602001838152602001828152602001935050505060405180910390a15056fea265627a7a72305820ecbeace7a9edb7d109c90b66cb5e9b21a149b35c835fba1b6670021e5234e31764736f6c634300050a0032\";\n",
    "async function deploy() {\n",
    "    const accounts = await web3.eth.getAccounts();\n",
    "    console.log(\"Deploying the contract from \" + accounts[0]);\n",
    "    var deployed = await new web3.eth.Contract(_abiArray)\n",
    "        .deploy({data: _bin})\n",
    "        .send({from: accounts[0], gas: 1000000}, function(err, transactionHash) {\n",
    "                if(!err) console.log(\"hash: \" + transactionHash); \n",
    "        })\n",
    "    console.log(\"---> The contract deployed to: \" + deployed.options.address)\n",
    "}\n",
    "deploy()"
   ]
  },
  {
   "cell_type": "code",
   "execution_count": 10,
   "metadata": {},
   "outputs": [
    {
     "name": "stdout",
     "output_type": "stream",
     "text": [
      "Deploying the contract from 0x58B409a07C98AD228bEEF4B6AE9D4C050cB32466\n",
      "hash: 0x183149c009243035f504e94ff899a7d6559ece5dd213ebf9a9633ee964ef2b58\n",
      "---> The contract deployed to: 0x2B78826937BCa64f9E45F23aaf47a564A016c594\n"
     ]
    }
   ],
   "source": [
    "!node src/Multiply7EventDeploy.js"
   ]
  },
  {
   "cell_type": "code",
   "execution_count": 16,
   "metadata": {},
   "outputs": [
    {
     "name": "stdout",
     "output_type": "stream",
     "text": [
      "Overwriting src/Multiply7EventUse.js\n"
     ]
    }
   ],
   "source": [
    "%%writefile src/Multiply7EventUse.js\n",
    "var Web3=require('web3');\n",
    "var web3 = new Web3(new Web3.providers.HttpProvider(\"http://localhost:8345\"));\n",
    "var _abiArray = [{\"constant\":false,\"inputs\":[{\"name\":\"param4\",\"type\":\"uint256\"}],\"name\":\"multiply\",\"outputs\":[],\"payable\":false,\"stateMutability\":\"nonpayable\",\"type\":\"function\"},{\"anonymous\":false,\"inputs\":[{\"indexed\":false,\"name\":\"param1\",\"type\":\"address\"},{\"indexed\":false,\"name\":\"param2\",\"type\":\"uint256\"},{\"indexed\":false,\"name\":\"param3\",\"type\":\"uint256\"}],\"name\":\"Print\",\"type\":\"event\"}];\n",
    "var _test = new web3.eth.Contract(_abiArray, '0x2B78826937BCa64f9E45F23aaf47a564A016c594');\n",
    "var event = _test.events.Print({fromBlock: 0}, function (error, result) {\n",
    "    if (!error) {\n",
    "        console.log(\"Event fired: \" + JSON.stringify(result) + \"\\n---> \" + JSON.stringify(result.returnValues));\n",
    "    }\n",
    "});\n",
    "\n",
    "async function doIt() {\n",
    "    const accounts = await web3.eth.getAccounts();\n",
    "    const value8 = await _test.methods.multiply(8)\n",
    "        .send({from: accounts[0], gas: 364124, gasPrice: '1000000000'})\n",
    "    console.log(\"\\n-------7 multiply by 8--------\");\n",
    "    console.log(value8.events.Print.returnValues);\n",
    "    console.log(\"address:\",value8.events.Print.returnValues[0]);\n",
    "    console.log(\"timestamp:\",value8.events.Print.returnValues[1]);\n",
    "    console.log(\"result:\",value8.events.Print.returnValues[2]);\n",
    "    \n",
    "    console.log(\"\\n-------7 multiply by 16--------\");\n",
    "    const value16 = await _test.methods.multiply(16)\n",
    "        .send({from: accounts[0], gas: 364124, gasPrice: '1000000000'})\n",
    "    console.log(value16.events.Print.returnValues);\n",
    "    console.log(\"address:\",value16.events.Print.returnValues[0]);\n",
    "    console.log(\"timestamp:\",value16.events.Print.returnValues[1]);\n",
    "    console.log(\"result:\",value16.events.Print.returnValues[2]);\n",
    "}\n",
    "doIt()"
   ]
  },
  {
   "cell_type": "code",
   "execution_count": 17,
   "metadata": {},
   "outputs": [
    {
     "name": "stdout",
     "output_type": "stream",
     "text": [
      "\n",
      "-------7 multiply by 8--------\n",
      "Result {\n",
      "  '0': '0x58B409a07C98AD228bEEF4B6AE9D4C050cB32466',\n",
      "  '1': '1621599581',\n",
      "  '2': '56',\n",
      "  param1: '0x58B409a07C98AD228bEEF4B6AE9D4C050cB32466',\n",
      "  param2: '1621599581',\n",
      "  param3: '56'\n",
      "}\n",
      "address: 0x58B409a07C98AD228bEEF4B6AE9D4C050cB32466\n",
      "timestamp: 1621599581\n",
      "result: 56\n",
      "\n",
      "-------7 multiply by 16--------\n",
      "Result {\n",
      "  '0': '0x58B409a07C98AD228bEEF4B6AE9D4C050cB32466',\n",
      "  '1': '1621599581',\n",
      "  '2': '112',\n",
      "  param1: '0x58B409a07C98AD228bEEF4B6AE9D4C050cB32466',\n",
      "  param2: '1621599581',\n",
      "  param3: '112'\n",
      "}\n",
      "address: 0x58B409a07C98AD228bEEF4B6AE9D4C050cB32466\n",
      "timestamp: 1621599581\n",
      "result: 112\n"
     ]
    }
   ],
   "source": [
    "!node src/Multiply7EventUse.js"
   ]
  }
 ],
 "metadata": {
  "kernelspec": {
   "display_name": "Python 3",
   "language": "python",
   "name": "python3"
  },
  "language_info": {
   "codemirror_mode": {
    "name": "ipython",
    "version": 3
   },
   "file_extension": ".py",
   "mimetype": "text/x-python",
   "name": "python",
   "nbconvert_exporter": "python",
   "pygments_lexer": "ipython3",
   "version": "3.7.3"
  }
 },
 "nbformat": 4,
 "nbformat_minor": 2
}
