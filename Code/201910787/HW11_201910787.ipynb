{
 "cells": [
  {
   "cell_type": "markdown",
   "metadata": {},
   "source": [
    "### 휴먼지능정보공학과 201910787 김영서"
   ]
  },
  {
   "cell_type": "markdown",
   "metadata": {},
   "source": [
    "간단한 은행 컨트랙을 프로그램하여 아래 기능을 실행하도록 하세요.\n",
    "\n",
    "은행 컨트랙의 함수는 다음과 같이 만드세요.\n",
    "\n",
    "* 입금액을 정해서 입금. 입금액을 매개변수로 넣어준다.\n",
    "\n",
    "\tfunction deposit(uint amount) public payable\n",
    "\n",
    "* 전액 인출 함수. 인출 금액을 정하기 않아도 되므로 함수 인자가 없다.\n",
    "\n",
    "\tfunction widthdrawAll() public\n",
    "\n",
    "* 컨트랙 잔고확인 함수 (this를 이용한 잔고, 상태변수 잔고 (this 잔고가 맞는지 확인하는 용도)\n",
    "\n",
    "\tfunction getBalance() public view returns(uint, uint)\n",
    "\n",
    "* 다른 계정으로 계좌이체 함수\n",
    "\n",
    "\tfunction forwardTo(address payable _receiver) public payable\n",
    "\n",
    "\n",
    "\n",
    "컨트랙을 ganache에 배포하고, 아래 기능을 실행해 보세요.\n",
    "\n",
    "- 입금 11111 wei, 222 wei를 하고 잔고 11333 wei 출력\n",
    "\n",
    "- 자신의 2번째 계정으로 계좌이체 333 wei하고 컨트랙 잔고 11000 wei 출력, 자신의 2번째 계정 잔고 증가분 (+333 wei) 출력\n",
    "\n",
    "- 전액 인출하고 11000 wei, 자신의 잔고 증가분 출력 (+11000 wei)\n",
    "\n",
    "\n",
    "\n",
    "geth 8445에도 배포하고 동일한 기능을 실행하세요.\n",
    "\n",
    "주피터 노트북에서 컴파일 (REMIX의 컴파일 결과를 사용해도 됨), 배포, 사용하고 그 결과까지 나오도록 한다.\n",
    "\n",
    "주피터 노트북에서 사용결과가 나오지 않는 경우에는, 화면을 캡쳐하여 별도 제출해도 된다."
   ]
  },
  {
   "cell_type": "markdown",
   "metadata": {},
   "source": [
    "## ganache"
   ]
  },
  {
   "cell_type": "code",
   "execution_count": 6,
   "metadata": {},
   "outputs": [
    {
     "name": "stdout",
     "output_type": "stream",
     "text": [
      "Overwriting src/BankContract.sol\n"
     ]
    }
   ],
   "source": [
    "%%writefile src/BankContract.sol\n",
    "pragma solidity 0.6.4;\n",
    "contract BankTransfer {\n",
    "    address payable owner;\n",
    "    uint balance;\n",
    "    uint increment;\n",
    "    \n",
    "    constructor() public {\n",
    "        balance = address(this).balance;\n",
    "    }\n",
    "    function setOwner(address payable _owner) public {\n",
    "        owner = _owner;\n",
    "    }\n",
    "    function deposit(uint amount) public payable {\n",
    "        require(msg.value == amount);\n",
    "        balance += amount;\n",
    "    }\n",
    "    function withdrawAll() public {\n",
    "        increment = balance;\n",
    "        owner.transfer(balance);\n",
    "    }\n",
    "    function getBalance() public view returns(uint, uint) {\n",
    "        return(address(this).balance, balance);\n",
    "    }\n",
    "    function forwardTo(address payable _receiver) public payable {\n",
    "        uint amount = 333;\n",
    "        increment = amount;\n",
    "        balance -= amount;\n",
    "        _receiver.transfer(333);\n",
    "    }\n",
    "    function incrementAmount() public view returns(uint) {\n",
    "        return increment;\n",
    "    }\n",
    "}"
   ]
  },
  {
   "cell_type": "markdown",
   "metadata": {},
   "source": [
    "### 컴파일"
   ]
  },
  {
   "cell_type": "code",
   "execution_count": 7,
   "metadata": {},
   "outputs": [
    {
     "name": "stdout",
     "output_type": "stream",
     "text": [
      "\n",
      "======= src/BankContract.sol:BankTransfer =======\n",
      "Binary:\n",
      "608060405234801561001057600080fd5b5047600181905550610322806100276000396000f3fe6080604052600436106100555760003560e01c806312065fe01461005a57806313af40351461008c57806327d8ad88146100dd578063853828b614610121578063a4a049dd14610138578063b6b55f2514610163575b600080fd5b34801561006657600080fd5b5061006f610191565b604051808381526020018281526020019250505060405180910390f35b34801561009857600080fd5b506100db600480360360208110156100af57600080fd5b81019080803573ffffffffffffffffffffffffffffffffffffffff1690602001909291905050506101a0565b005b61011f600480360360208110156100f357600080fd5b81019080803573ffffffffffffffffffffffffffffffffffffffff1690602001909291905050506101e3565b005b34801561012d57600080fd5b5061013661024e565b005b34801561014457600080fd5b5061014d6102c3565b6040518082815260200191505060405180910390f35b61018f6004803603602081101561017957600080fd5b81019080803590602001909291905050506102cd565b005b60008047600154915091509091565b806000806101000a81548173ffffffffffffffffffffffffffffffffffffffff021916908373ffffffffffffffffffffffffffffffffffffffff16021790555050565b600061014d905080600281905550806001600082825403925050819055508173ffffffffffffffffffffffffffffffffffffffff166108fc61014d9081150290604051600060405180830381858888f19350505050158015610249573d6000803e3d6000fd5b505050565b6001546002819055506000809054906101000a900473ffffffffffffffffffffffffffffffffffffffff1673ffffffffffffffffffffffffffffffffffffffff166108fc6001549081150290604051600060405180830381858888f193505050501580156102c0573d6000803e3d6000fd5b50565b6000600254905090565b8034146102d957600080fd5b806001600082825401925050819055505056fea264697066735822122024ece581c0118fd72504337590cb7730c1a612a86d302b8b6f89cd81550f5c6964736f6c63430006040033\n",
      "Contract JSON ABI\n",
      "[{\"inputs\":[],\"stateMutability\":\"nonpayable\",\"type\":\"constructor\"},{\"inputs\":[{\"internalType\":\"uint256\",\"name\":\"amount\",\"type\":\"uint256\"}],\"name\":\"deposit\",\"outputs\":[],\"stateMutability\":\"payable\",\"type\":\"function\"},{\"inputs\":[{\"internalType\":\"address payable\",\"name\":\"_receiver\",\"type\":\"address\"}],\"name\":\"forwardTo\",\"outputs\":[],\"stateMutability\":\"payable\",\"type\":\"function\"},{\"inputs\":[],\"name\":\"getBalance\",\"outputs\":[{\"internalType\":\"uint256\",\"name\":\"\",\"type\":\"uint256\"},{\"internalType\":\"uint256\",\"name\":\"\",\"type\":\"uint256\"}],\"stateMutability\":\"view\",\"type\":\"function\"},{\"inputs\":[],\"name\":\"incrementAmount\",\"outputs\":[{\"internalType\":\"uint256\",\"name\":\"\",\"type\":\"uint256\"}],\"stateMutability\":\"view\",\"type\":\"function\"},{\"inputs\":[{\"internalType\":\"address payable\",\"name\":\"_owner\",\"type\":\"address\"}],\"name\":\"setOwner\",\"outputs\":[],\"stateMutability\":\"nonpayable\",\"type\":\"function\"},{\"inputs\":[],\"name\":\"withdrawAll\",\"outputs\":[],\"stateMutability\":\"nonpayable\",\"type\":\"function\"}]\n"
     ]
    }
   ],
   "source": [
    "!solc --abi --bin src/BankContract.sol"
   ]
  },
  {
   "cell_type": "markdown",
   "metadata": {},
   "source": [
    "### 배포"
   ]
  },
  {
   "cell_type": "code",
   "execution_count": 8,
   "metadata": {},
   "outputs": [
    {
     "name": "stdout",
     "output_type": "stream",
     "text": [
      "Overwriting src/BankContractDeploy.js\n"
     ]
    }
   ],
   "source": [
    "%%writefile src/BankContractDeploy.js\n",
    "var Web3=require('web3');\n",
    "var web3;\n",
    "if (typeof web3 !== 'undefined') {\n",
    "    web3 = new Web3(web3.currentProvider);\n",
    "} else {\n",
    "    web3 = new Web3(new Web3.providers.HttpProvider(\"http://localhost:8345\"));\n",
    "}\n",
    "var _abiArray=[{\"constant\":true,\"inputs\":[],\"name\":\"getBalance\",\"outputs\":[{\"name\":\"\",\"type\":\"uint256\"},{\"name\":\"\",\"type\":\"uint256\"}],\"payable\":false,\"stateMutability\":\"view\",\"type\":\"function\"},{\"constant\":false,\"inputs\":[{\"name\":\"_owner\",\"type\":\"address\"}],\"name\":\"setOwner\",\"outputs\":[],\"payable\":false,\"stateMutability\":\"nonpayable\",\"type\":\"function\"},{\"constant\":false,\"inputs\":[{\"name\":\"_receiver\",\"type\":\"address\"}],\"name\":\"forwardTo\",\"outputs\":[],\"payable\":true,\"stateMutability\":\"payable\",\"type\":\"function\"},{\"constant\":false,\"inputs\":[],\"name\":\"withdrawAll\",\"outputs\":[],\"payable\":false,\"stateMutability\":\"nonpayable\",\"type\":\"function\"},{\"constant\":true,\"inputs\":[],\"name\":\"incrementAmount\",\"outputs\":[{\"name\":\"\",\"type\":\"uint256\"}],\"payable\":false,\"stateMutability\":\"view\",\"type\":\"function\"},{\"constant\":false,\"inputs\":[{\"name\":\"amount\",\"type\":\"uint256\"}],\"name\":\"deposit\",\"outputs\":[],\"payable\":true,\"stateMutability\":\"payable\",\"type\":\"function\"},{\"inputs\":[],\"payable\":false,\"stateMutability\":\"nonpayable\",\"type\":\"constructor\"}];\n",
    "var _bin=\"608060405234801561001057600080fd5b503073ffffffffffffffffffffffffffffffffffffffff16316001819055506103388061003e6000396000f3fe6080604052600436106100555760003560e01c806312065fe01461005a57806313af40351461008c57806327d8ad88146100dd578063853828b614610121578063a4a049dd14610138578063b6b55f2514610163575b600080fd5b34801561006657600080fd5b5061006f610191565b604051808381526020018281526020019250505060405180910390f35b34801561009857600080fd5b506100db600480360360208110156100af57600080fd5b81019080803573ffffffffffffffffffffffffffffffffffffffff1690602001909291905050506101b7565b005b61011f600480360360208110156100f357600080fd5b81019080803573ffffffffffffffffffffffffffffffffffffffff1690602001909291905050506101fa565b005b34801561012d57600080fd5b50610136610265565b005b34801561014457600080fd5b5061014d6102da565b6040518082815260200191505060405180910390f35b61018f6004803603602081101561017957600080fd5b81019080803590602001909291905050506102e4565b005b6000803073ffffffffffffffffffffffffffffffffffffffff1631600154915091509091565b806000806101000a81548173ffffffffffffffffffffffffffffffffffffffff021916908373ffffffffffffffffffffffffffffffffffffffff16021790555050565b600061014d905080600281905550806001600082825403925050819055508173ffffffffffffffffffffffffffffffffffffffff166108fc61014d9081150290604051600060405180830381858888f19350505050158015610260573d6000803e3d6000fd5b505050565b6001546002819055506000809054906101000a900473ffffffffffffffffffffffffffffffffffffffff1673ffffffffffffffffffffffffffffffffffffffff166108fc6001549081150290604051600060405180830381858888f193505050501580156102d7573d6000803e3d6000fd5b50565b6000600254905090565b8034146102f057600080fd5b806001600082825401925050819055505056fea265627a7a72305820b690963924b7d2b207cd81a5a961f2bd7e4b4159dd7079dd082e6f6d36e9e00064736f6c634300050a0032\";\n",
    "var _contract = new web3.eth.Contract(_abiArray);\n",
    "//unlock the account with a password provided\n",
    "//web3.personal.unlockAccount(web3.eth.accounts[0],'password');\n",
    "_contract\n",
    "    .deploy({data:\"0x\"+_bin})\n",
    "    .send({from: \"0x6C4fcb32299A76C6f3025C3BD64170d9457B3ec8\", gas: 364124, gasPrice: '100000'})\n",
    "    .then(function(newContractInstance){\n",
    "        console.log(newContractInstance.options.address) // instance with the new contract address\n",
    "    });"
   ]
  },
  {
   "cell_type": "code",
   "execution_count": 9,
   "metadata": {},
   "outputs": [
    {
     "name": "stdout",
     "output_type": "stream",
     "text": [
      "0x81FF11A2635D0500DB3de3742c5202A8d457280e\n"
     ]
    }
   ],
   "source": [
    "!node src/BankContractDeploy.js"
   ]
  },
  {
   "cell_type": "markdown",
   "metadata": {},
   "source": [
    "### 사용"
   ]
  },
  {
   "cell_type": "markdown",
   "metadata": {},
   "source": [
    "- 11111 wei, 222 wei 입금"
   ]
  },
  {
   "cell_type": "code",
   "execution_count": 10,
   "metadata": {},
   "outputs": [
    {
     "name": "stdout",
     "output_type": "stream",
     "text": [
      "Overwriting src/BankContractUse1_1.js\n"
     ]
    }
   ],
   "source": [
    "%%writefile src/BankContractUse1_1.js\n",
    "var Web3=require('web3');\n",
    "var web3 = new Web3(new Web3.providers.HttpProvider(\"http://localhost:8345\"));\n",
    "var _abiArray=[{\"constant\":true,\"inputs\":[],\"name\":\"getBalance\",\"outputs\":[{\"name\":\"\",\"type\":\"uint256\"},{\"name\":\"\",\"type\":\"uint256\"}],\"payable\":false,\"stateMutability\":\"view\",\"type\":\"function\"},{\"constant\":false,\"inputs\":[{\"name\":\"_owner\",\"type\":\"address\"}],\"name\":\"setOwner\",\"outputs\":[],\"payable\":false,\"stateMutability\":\"nonpayable\",\"type\":\"function\"},{\"constant\":false,\"inputs\":[{\"name\":\"_receiver\",\"type\":\"address\"}],\"name\":\"forwardTo\",\"outputs\":[],\"payable\":true,\"stateMutability\":\"payable\",\"type\":\"function\"},{\"constant\":false,\"inputs\":[],\"name\":\"withdrawAll\",\"outputs\":[],\"payable\":false,\"stateMutability\":\"nonpayable\",\"type\":\"function\"},{\"constant\":true,\"inputs\":[],\"name\":\"incrementAmount\",\"outputs\":[{\"name\":\"\",\"type\":\"uint256\"}],\"payable\":false,\"stateMutability\":\"view\",\"type\":\"function\"},{\"constant\":false,\"inputs\":[{\"name\":\"amount\",\"type\":\"uint256\"}],\"name\":\"deposit\",\"outputs\":[],\"payable\":true,\"stateMutability\":\"payable\",\"type\":\"function\"},{\"inputs\":[],\"payable\":false,\"stateMutability\":\"nonpayable\",\"type\":\"constructor\"}];\n",
    "var myBank = new web3.eth.Contract(_abiArray, '0x81FF11A2635D0500DB3de3742c5202A8d457280e');\n",
    "myBank.methods.deposit(11111).send({from:\"0x6C4fcb32299A76C6f3025C3BD64170d9457B3ec8\",gas:800000,value:11111});\n",
    "myBank.methods.deposit(222).send({from:\"0x6C4fcb32299A76C6f3025C3BD64170d9457B3ec8\",gas:800000,value:222});"
   ]
  },
  {
   "cell_type": "code",
   "execution_count": 11,
   "metadata": {},
   "outputs": [],
   "source": [
    "!node src/BankContractUse1_1.js"
   ]
  },
  {
   "cell_type": "markdown",
   "metadata": {},
   "source": [
    "- 잔고 11333wei 출력"
   ]
  },
  {
   "cell_type": "code",
   "execution_count": 12,
   "metadata": {},
   "outputs": [
    {
     "name": "stdout",
     "output_type": "stream",
     "text": [
      "Overwriting src/BankContractUse1_2.js\n"
     ]
    }
   ],
   "source": [
    "%%writefile src/BankContractUse1_2.js\n",
    "var Web3=require('web3');\n",
    "var web3 = new Web3(new Web3.providers.HttpProvider(\"http://localhost:8345\"));\n",
    "var _abiArray=[{\"constant\":true,\"inputs\":[],\"name\":\"getBalance\",\"outputs\":[{\"name\":\"\",\"type\":\"uint256\"},{\"name\":\"\",\"type\":\"uint256\"}],\"payable\":false,\"stateMutability\":\"view\",\"type\":\"function\"},{\"constant\":false,\"inputs\":[{\"name\":\"_owner\",\"type\":\"address\"}],\"name\":\"setOwner\",\"outputs\":[],\"payable\":false,\"stateMutability\":\"nonpayable\",\"type\":\"function\"},{\"constant\":false,\"inputs\":[{\"name\":\"_receiver\",\"type\":\"address\"}],\"name\":\"forwardTo\",\"outputs\":[],\"payable\":true,\"stateMutability\":\"payable\",\"type\":\"function\"},{\"constant\":false,\"inputs\":[],\"name\":\"withdrawAll\",\"outputs\":[],\"payable\":false,\"stateMutability\":\"nonpayable\",\"type\":\"function\"},{\"constant\":true,\"inputs\":[],\"name\":\"incrementAmount\",\"outputs\":[{\"name\":\"\",\"type\":\"uint256\"}],\"payable\":false,\"stateMutability\":\"view\",\"type\":\"function\"},{\"constant\":false,\"inputs\":[{\"name\":\"amount\",\"type\":\"uint256\"}],\"name\":\"deposit\",\"outputs\":[],\"payable\":true,\"stateMutability\":\"payable\",\"type\":\"function\"},{\"inputs\":[],\"payable\":false,\"stateMutability\":\"nonpayable\",\"type\":\"constructor\"}];\n",
    "var myBank = new web3.eth.Contract(_abiArray, '0x81FF11A2635D0500DB3de3742c5202A8d457280e');\n",
    "myBank.methods.getBalance().call().then(function(value){console.log(value);});"
   ]
  },
  {
   "cell_type": "code",
   "execution_count": 13,
   "metadata": {},
   "outputs": [
    {
     "name": "stdout",
     "output_type": "stream",
     "text": [
      "Result { '0': '11333', '1': '11333' }\n"
     ]
    }
   ],
   "source": [
    "!node src/BankContractUse1_2.js"
   ]
  },
  {
   "cell_type": "markdown",
   "metadata": {},
   "source": [
    "- 자신의 2번째 계정으로 333wei 계좌이체"
   ]
  },
  {
   "cell_type": "code",
   "execution_count": 14,
   "metadata": {},
   "outputs": [
    {
     "name": "stdout",
     "output_type": "stream",
     "text": [
      "Overwriting src/BankContractUse2_1.js\n"
     ]
    }
   ],
   "source": [
    "%%writefile src/BankContractUse2_1.js\n",
    "var Web3=require('web3');\n",
    "var web3 = new Web3(new Web3.providers.HttpProvider(\"http://localhost:8345\"));\n",
    "var _abiArray=[{\"constant\":true,\"inputs\":[],\"name\":\"getBalance\",\"outputs\":[{\"name\":\"\",\"type\":\"uint256\"},{\"name\":\"\",\"type\":\"uint256\"}],\"payable\":false,\"stateMutability\":\"view\",\"type\":\"function\"},{\"constant\":false,\"inputs\":[{\"name\":\"_owner\",\"type\":\"address\"}],\"name\":\"setOwner\",\"outputs\":[],\"payable\":false,\"stateMutability\":\"nonpayable\",\"type\":\"function\"},{\"constant\":false,\"inputs\":[{\"name\":\"_receiver\",\"type\":\"address\"}],\"name\":\"forwardTo\",\"outputs\":[],\"payable\":true,\"stateMutability\":\"payable\",\"type\":\"function\"},{\"constant\":false,\"inputs\":[],\"name\":\"withdrawAll\",\"outputs\":[],\"payable\":false,\"stateMutability\":\"nonpayable\",\"type\":\"function\"},{\"constant\":true,\"inputs\":[],\"name\":\"incrementAmount\",\"outputs\":[{\"name\":\"\",\"type\":\"uint256\"}],\"payable\":false,\"stateMutability\":\"view\",\"type\":\"function\"},{\"constant\":false,\"inputs\":[{\"name\":\"amount\",\"type\":\"uint256\"}],\"name\":\"deposit\",\"outputs\":[],\"payable\":true,\"stateMutability\":\"payable\",\"type\":\"function\"},{\"inputs\":[],\"payable\":false,\"stateMutability\":\"nonpayable\",\"type\":\"constructor\"}];\n",
    "var myBank = new web3.eth.Contract(_abiArray, '0x81FF11A2635D0500DB3de3742c5202A8d457280e');\n",
    "myBank.methods.forwardTo('0x510995888Be98b44baA26195dD512CDF83228e2a').send({from:\"0x6C4fcb32299A76C6f3025C3BD64170d9457B3ec8\",gas:800000,value:333});"
   ]
  },
  {
   "cell_type": "code",
   "execution_count": 15,
   "metadata": {},
   "outputs": [],
   "source": [
    "!node src/BankContractUse2_1.js"
   ]
  },
  {
   "cell_type": "markdown",
   "metadata": {},
   "source": [
    "- 컨트랙 잔고 11000wei, 잔고 증가분(333wei) 출력"
   ]
  },
  {
   "cell_type": "code",
   "execution_count": 16,
   "metadata": {},
   "outputs": [
    {
     "name": "stdout",
     "output_type": "stream",
     "text": [
      "Overwriting src/BankContractUse2_2.js\n"
     ]
    }
   ],
   "source": [
    "%%writefile src/BankContractUse2_2.js\n",
    "var Web3=require('web3');\n",
    "var web3 = new Web3(new Web3.providers.HttpProvider(\"http://localhost:8345\"));\n",
    "var _abiArray=[{\"constant\":true,\"inputs\":[],\"name\":\"getBalance\",\"outputs\":[{\"name\":\"\",\"type\":\"uint256\"},{\"name\":\"\",\"type\":\"uint256\"}],\"payable\":false,\"stateMutability\":\"view\",\"type\":\"function\"},{\"constant\":false,\"inputs\":[{\"name\":\"_owner\",\"type\":\"address\"}],\"name\":\"setOwner\",\"outputs\":[],\"payable\":false,\"stateMutability\":\"nonpayable\",\"type\":\"function\"},{\"constant\":false,\"inputs\":[{\"name\":\"_receiver\",\"type\":\"address\"}],\"name\":\"forwardTo\",\"outputs\":[],\"payable\":true,\"stateMutability\":\"payable\",\"type\":\"function\"},{\"constant\":false,\"inputs\":[],\"name\":\"withdrawAll\",\"outputs\":[],\"payable\":false,\"stateMutability\":\"nonpayable\",\"type\":\"function\"},{\"constant\":true,\"inputs\":[],\"name\":\"incrementAmount\",\"outputs\":[{\"name\":\"\",\"type\":\"uint256\"}],\"payable\":false,\"stateMutability\":\"view\",\"type\":\"function\"},{\"constant\":false,\"inputs\":[{\"name\":\"amount\",\"type\":\"uint256\"}],\"name\":\"deposit\",\"outputs\":[],\"payable\":true,\"stateMutability\":\"payable\",\"type\":\"function\"},{\"inputs\":[],\"payable\":false,\"stateMutability\":\"nonpayable\",\"type\":\"constructor\"}];\n",
    "var myBank = new web3.eth.Contract(_abiArray, '0x81FF11A2635D0500DB3de3742c5202A8d457280e');\n",
    "myBank.methods.getBalance().call().then(function(value){console.log(value);});\n",
    "myBank.methods.incrementAmount().call().then(function(value){console.log(value);});"
   ]
  },
  {
   "cell_type": "code",
   "execution_count": 17,
   "metadata": {},
   "outputs": [
    {
     "name": "stdout",
     "output_type": "stream",
     "text": [
      "333\n",
      "Result { '0': '11333', '1': '11000' }\n"
     ]
    }
   ],
   "source": [
    "!node src/BankContractUse2_2.js"
   ]
  },
  {
   "cell_type": "markdown",
   "metadata": {},
   "source": [
    "- 전액 인출(11000wei)"
   ]
  },
  {
   "cell_type": "code",
   "execution_count": 20,
   "metadata": {},
   "outputs": [
    {
     "name": "stdout",
     "output_type": "stream",
     "text": [
      "Overwriting src/BankContractUse3_1.js\n"
     ]
    }
   ],
   "source": [
    "%%writefile src/BankContractUse3_1.js\n",
    "var Web3=require('web3');\n",
    "var web3 = new Web3(new Web3.providers.HttpProvider(\"http://localhost:8345\"));\n",
    "var _abiArray=[{\"constant\":true,\"inputs\":[],\"name\":\"getBalance\",\"outputs\":[{\"name\":\"\",\"type\":\"uint256\"},{\"name\":\"\",\"type\":\"uint256\"}],\"payable\":false,\"stateMutability\":\"view\",\"type\":\"function\"},{\"constant\":false,\"inputs\":[{\"name\":\"_owner\",\"type\":\"address\"}],\"name\":\"setOwner\",\"outputs\":[],\"payable\":false,\"stateMutability\":\"nonpayable\",\"type\":\"function\"},{\"constant\":false,\"inputs\":[{\"name\":\"_receiver\",\"type\":\"address\"}],\"name\":\"forwardTo\",\"outputs\":[],\"payable\":true,\"stateMutability\":\"payable\",\"type\":\"function\"},{\"constant\":false,\"inputs\":[],\"name\":\"withdrawAll\",\"outputs\":[],\"payable\":false,\"stateMutability\":\"nonpayable\",\"type\":\"function\"},{\"constant\":true,\"inputs\":[],\"name\":\"incrementAmount\",\"outputs\":[{\"name\":\"\",\"type\":\"uint256\"}],\"payable\":false,\"stateMutability\":\"view\",\"type\":\"function\"},{\"constant\":false,\"inputs\":[{\"name\":\"amount\",\"type\":\"uint256\"}],\"name\":\"deposit\",\"outputs\":[],\"payable\":true,\"stateMutability\":\"payable\",\"type\":\"function\"},{\"inputs\":[],\"payable\":false,\"stateMutability\":\"nonpayable\",\"type\":\"constructor\"}];\n",
    "var myBank = new web3.eth.Contract(_abiArray, '0x81FF11A2635D0500DB3de3742c5202A8d457280e');\n",
    "myBank.methods.withdrawAll().send({from:\"0x6C4fcb32299A76C6f3025C3BD64170d9457B3ec8\",gas:800000});"
   ]
  },
  {
   "cell_type": "code",
   "execution_count": 21,
   "metadata": {},
   "outputs": [],
   "source": [
    "!node src/BankContractUse3_1.js"
   ]
  },
  {
   "cell_type": "markdown",
   "metadata": {},
   "source": [
    "- 자신의 잔고 증가분(11000wei) 출력"
   ]
  },
  {
   "cell_type": "code",
   "execution_count": 22,
   "metadata": {},
   "outputs": [
    {
     "name": "stdout",
     "output_type": "stream",
     "text": [
      "Overwriting src/BankContractUse3_2.js\n"
     ]
    }
   ],
   "source": [
    "%%writefile src/BankContractUse3_2.js\n",
    "var Web3=require('web3');\n",
    "var web3 = new Web3(new Web3.providers.HttpProvider(\"http://localhost:8345\"));\n",
    "var _abiArray=[{\"constant\":true,\"inputs\":[],\"name\":\"getBalance\",\"outputs\":[{\"name\":\"\",\"type\":\"uint256\"},{\"name\":\"\",\"type\":\"uint256\"}],\"payable\":false,\"stateMutability\":\"view\",\"type\":\"function\"},{\"constant\":false,\"inputs\":[{\"name\":\"_owner\",\"type\":\"address\"}],\"name\":\"setOwner\",\"outputs\":[],\"payable\":false,\"stateMutability\":\"nonpayable\",\"type\":\"function\"},{\"constant\":false,\"inputs\":[{\"name\":\"_receiver\",\"type\":\"address\"}],\"name\":\"forwardTo\",\"outputs\":[],\"payable\":true,\"stateMutability\":\"payable\",\"type\":\"function\"},{\"constant\":false,\"inputs\":[],\"name\":\"withdrawAll\",\"outputs\":[],\"payable\":false,\"stateMutability\":\"nonpayable\",\"type\":\"function\"},{\"constant\":true,\"inputs\":[],\"name\":\"incrementAmount\",\"outputs\":[{\"name\":\"\",\"type\":\"uint256\"}],\"payable\":false,\"stateMutability\":\"view\",\"type\":\"function\"},{\"constant\":false,\"inputs\":[{\"name\":\"amount\",\"type\":\"uint256\"}],\"name\":\"deposit\",\"outputs\":[],\"payable\":true,\"stateMutability\":\"payable\",\"type\":\"function\"},{\"inputs\":[],\"payable\":false,\"stateMutability\":\"nonpayable\",\"type\":\"constructor\"}];\n",
    "var myBank = new web3.eth.Contract(_abiArray, '0x81FF11A2635D0500DB3de3742c5202A8d457280e');\n",
    "myBank.methods.getBalance().call().then(function(value){console.log(value);});\n",
    "myBank.methods.incrementAmount().call().then(function(value){console.log(value);});"
   ]
  },
  {
   "cell_type": "code",
   "execution_count": 23,
   "metadata": {},
   "outputs": [
    {
     "name": "stdout",
     "output_type": "stream",
     "text": [
      "Result { '0': '333', '1': '11000' }\n",
      "11000\n"
     ]
    }
   ],
   "source": [
    "!node src/BankContractUse3_2.js"
   ]
  },
  {
   "cell_type": "markdown",
   "metadata": {},
   "source": [
    "## geth"
   ]
  },
  {
   "cell_type": "code",
   "execution_count": 1,
   "metadata": {},
   "outputs": [
    {
     "name": "stdout",
     "output_type": "stream",
     "text": [
      "Overwriting src/BankContract_geth.sol\n"
     ]
    }
   ],
   "source": [
    "%%writefile src/BankContract_geth.sol\n",
    "pragma solidity 0.5.10;\n",
    "contract BankTransfer {\n",
    "    address payable owner;\n",
    "    uint balance;\n",
    "    uint increment;\n",
    "    \n",
    "    constructor() public {\n",
    "        balance = address(this).balance;\n",
    "    }\n",
    "    function setOwner(address payable _owner) public {\n",
    "        owner = _owner;\n",
    "    }\n",
    "    function deposit(uint amount) public payable {\n",
    "        require(msg.value == amount);\n",
    "        balance += amount;\n",
    "    }\n",
    "    function withdrawAll() public {\n",
    "        increment = balance;\n",
    "        owner.transfer(balance);\n",
    "    }\n",
    "    function getBalance() public view returns(uint, uint) {\n",
    "        return(address(this).balance, balance);\n",
    "    }\n",
    "    function forwardTo(address payable _receiver) public payable {\n",
    "        uint amount = 333;\n",
    "        increment = amount;\n",
    "        balance -= amount;\n",
    "        _receiver.transfer(333);\n",
    "    }\n",
    "    function incrementAmount() public view returns(uint) {\n",
    "        return increment;\n",
    "    }\n",
    "}"
   ]
  },
  {
   "cell_type": "markdown",
   "metadata": {},
   "source": [
    "### 컴파일"
   ]
  },
  {
   "cell_type": "code",
   "execution_count": 2,
   "metadata": {},
   "outputs": [
    {
     "name": "stderr",
     "output_type": "stream",
     "text": [
      "'solc'은(는) 내부 또는 외부 명령, 실행할 수 있는 프로그램, 또는\n",
      "배치 파일이 아닙니다.\n"
     ]
    }
   ],
   "source": [
    "!solc --abi --bin src/BankContract_geth.sol"
   ]
  },
  {
   "cell_type": "markdown",
   "metadata": {},
   "source": [
    "### 배포"
   ]
  },
  {
   "cell_type": "code",
   "execution_count": 9,
   "metadata": {},
   "outputs": [
    {
     "name": "stdout",
     "output_type": "stream",
     "text": [
      "Overwriting src/BankContractDeploy_geth.js\n"
     ]
    }
   ],
   "source": [
    "%%writefile src/BankContractDeploy_geth.js\n",
    "var Web3=require('web3');\n",
    "var web3;\n",
    "if (typeof web3 !== 'undefined') {\n",
    "    web3 = new Web3(web3.currentProvider);\n",
    "} else {\n",
    "    web3 = new Web3(new Web3.providers.HttpProvider(\"http://localhost:8445\"));\n",
    "}\n",
    "var _abiArray=[{\"constant\":true,\"inputs\":[],\"name\":\"getBalance\",\"outputs\":[{\"name\":\"\",\"type\":\"uint256\"},{\"name\":\"\",\"type\":\"uint256\"}],\"payable\":false,\"stateMutability\":\"view\",\"type\":\"function\"},{\"constant\":false,\"inputs\":[{\"name\":\"_owner\",\"type\":\"address\"}],\"name\":\"setOwner\",\"outputs\":[],\"payable\":false,\"stateMutability\":\"nonpayable\",\"type\":\"function\"},{\"constant\":false,\"inputs\":[{\"name\":\"_receiver\",\"type\":\"address\"}],\"name\":\"forwardTo\",\"outputs\":[],\"payable\":true,\"stateMutability\":\"payable\",\"type\":\"function\"},{\"constant\":false,\"inputs\":[],\"name\":\"withdrawAll\",\"outputs\":[],\"payable\":false,\"stateMutability\":\"nonpayable\",\"type\":\"function\"},{\"constant\":true,\"inputs\":[],\"name\":\"incrementAmount\",\"outputs\":[{\"name\":\"\",\"type\":\"uint256\"}],\"payable\":false,\"stateMutability\":\"view\",\"type\":\"function\"},{\"constant\":false,\"inputs\":[{\"name\":\"amount\",\"type\":\"uint256\"}],\"name\":\"deposit\",\"outputs\":[],\"payable\":true,\"stateMutability\":\"payable\",\"type\":\"function\"},{\"inputs\":[],\"payable\":false,\"stateMutability\":\"nonpayable\",\"type\":\"constructor\"}];\n",
    "var _bin=\"608060405234801561001057600080fd5b503073ffffffffffffffffffffffffffffffffffffffff16316001819055506103388061003e6000396000f3fe6080604052600436106100555760003560e01c806312065fe01461005a57806313af40351461008c57806327d8ad88146100dd578063853828b614610121578063a4a049dd14610138578063b6b55f2514610163575b600080fd5b34801561006657600080fd5b5061006f610191565b604051808381526020018281526020019250505060405180910390f35b34801561009857600080fd5b506100db600480360360208110156100af57600080fd5b81019080803573ffffffffffffffffffffffffffffffffffffffff1690602001909291905050506101b7565b005b61011f600480360360208110156100f357600080fd5b81019080803573ffffffffffffffffffffffffffffffffffffffff1690602001909291905050506101fa565b005b34801561012d57600080fd5b50610136610265565b005b34801561014457600080fd5b5061014d6102da565b6040518082815260200191505060405180910390f35b61018f6004803603602081101561017957600080fd5b81019080803590602001909291905050506102e4565b005b6000803073ffffffffffffffffffffffffffffffffffffffff1631600154915091509091565b806000806101000a81548173ffffffffffffffffffffffffffffffffffffffff021916908373ffffffffffffffffffffffffffffffffffffffff16021790555050565b600061014d905080600281905550806001600082825403925050819055508173ffffffffffffffffffffffffffffffffffffffff166108fc61014d9081150290604051600060405180830381858888f19350505050158015610260573d6000803e3d6000fd5b505050565b6001546002819055506000809054906101000a900473ffffffffffffffffffffffffffffffffffffffff1673ffffffffffffffffffffffffffffffffffffffff166108fc6001549081150290604051600060405180830381858888f193505050501580156102d7573d6000803e3d6000fd5b50565b6000600254905090565b8034146102f057600080fd5b806001600082825401925050819055505056fea265627a7a72305820f0df0febb73fd53895f917c9a36e34f59074152fcd16fc42231228539168a24164736f6c634300050a0032\";\n",
    "var _contract = new web3.eth.Contract(_abiArray);\n",
    "//unlock the account with a password provided\n",
    "//web3.personal.unlockAccount(web3.eth.accounts[0],'password');\n",
    "_contract\n",
    "    .deploy({data:\"0x\"+_bin})\n",
    "    .send({from: \"0xe1e222f7567794c4813f2965719f59c15e8a7a84\", gas: 364124, gasPrice: '100000'})\n",
    "    .then(function(newContractInstance){\n",
    "        console.log(newContractInstance.options.address) // instance with the new contract address\n",
    "    });"
   ]
  },
  {
   "cell_type": "code",
   "execution_count": 10,
   "metadata": {},
   "outputs": [
    {
     "name": "stdout",
     "output_type": "stream",
     "text": [
      "0xa9a8238fA16e0532414290E97E540a5600c980c4\n"
     ]
    }
   ],
   "source": [
    "!node src/BankContractDeploy_geth.js"
   ]
  },
  {
   "cell_type": "markdown",
   "metadata": {},
   "source": [
    "### 사용\n",
    "- 11111 wei, 222 wei 입금"
   ]
  },
  {
   "cell_type": "code",
   "execution_count": 11,
   "metadata": {},
   "outputs": [
    {
     "name": "stdout",
     "output_type": "stream",
     "text": [
      "Overwriting src/BankContractUse1_1_geth.js\n"
     ]
    }
   ],
   "source": [
    "%%writefile src/BankContractUse1_1_geth.js\n",
    "var Web3=require('web3');\n",
    "var web3 = new Web3(new Web3.providers.HttpProvider(\"http://localhost:8445\"));\n",
    "var _abiArray=[{\"constant\":true,\"inputs\":[],\"name\":\"getBalance\",\"outputs\":[{\"name\":\"\",\"type\":\"uint256\"},{\"name\":\"\",\"type\":\"uint256\"}],\"payable\":false,\"stateMutability\":\"view\",\"type\":\"function\"},{\"constant\":false,\"inputs\":[{\"name\":\"_owner\",\"type\":\"address\"}],\"name\":\"setOwner\",\"outputs\":[],\"payable\":false,\"stateMutability\":\"nonpayable\",\"type\":\"function\"},{\"constant\":false,\"inputs\":[{\"name\":\"_receiver\",\"type\":\"address\"}],\"name\":\"forwardTo\",\"outputs\":[],\"payable\":true,\"stateMutability\":\"payable\",\"type\":\"function\"},{\"constant\":false,\"inputs\":[],\"name\":\"withdrawAll\",\"outputs\":[],\"payable\":false,\"stateMutability\":\"nonpayable\",\"type\":\"function\"},{\"constant\":true,\"inputs\":[],\"name\":\"incrementAmount\",\"outputs\":[{\"name\":\"\",\"type\":\"uint256\"}],\"payable\":false,\"stateMutability\":\"view\",\"type\":\"function\"},{\"constant\":false,\"inputs\":[{\"name\":\"amount\",\"type\":\"uint256\"}],\"name\":\"deposit\",\"outputs\":[],\"payable\":true,\"stateMutability\":\"payable\",\"type\":\"function\"},{\"inputs\":[],\"payable\":false,\"stateMutability\":\"nonpayable\",\"type\":\"constructor\"}];\n",
    "var myBank = new web3.eth.Contract(_abiArray, '0xa9a8238fA16e0532414290E97E540a5600c980c4');\n",
    "myBank.methods.deposit(11111).send({from:\"0xe1e222f7567794c4813f2965719f59c15e8a7a84\",gas:800000,value:11111});\n",
    "myBank.methods.deposit(222).send({from:\"0xe1e222f7567794c4813f2965719f59c15e8a7a84\",gas:800000,value:222});"
   ]
  },
  {
   "cell_type": "code",
   "execution_count": 13,
   "metadata": {},
   "outputs": [],
   "source": [
    "!node src/BankContractUse1_1_geth.js"
   ]
  },
  {
   "cell_type": "markdown",
   "metadata": {},
   "source": [
    "- 잔고 11333wei 출력"
   ]
  },
  {
   "cell_type": "code",
   "execution_count": 14,
   "metadata": {},
   "outputs": [
    {
     "name": "stdout",
     "output_type": "stream",
     "text": [
      "Overwriting src/BankContractUse1_2_geth.js\n"
     ]
    }
   ],
   "source": [
    "%%writefile src/BankContractUse1_2_geth.js\n",
    "var Web3=require('web3');\n",
    "var web3 = new Web3(new Web3.providers.HttpProvider(\"http://localhost:8445\"));\n",
    "var _abiArray=[\n",
    "\t{\n",
    "\t\t\"constant\": false,\n",
    "\t\t\"inputs\": [\n",
    "\t\t\t{\n",
    "\t\t\t\t\"name\": \"amount\",\n",
    "\t\t\t\t\"type\": \"uint256\"\n",
    "\t\t\t}\n",
    "\t\t],\n",
    "\t\t\"name\": \"deposit\",\n",
    "\t\t\"outputs\": [],\n",
    "\t\t\"payable\": true,\n",
    "\t\t\"stateMutability\": \"payable\",\n",
    "\t\t\"type\": \"function\"\n",
    "\t},\n",
    "\t{\n",
    "\t\t\"constant\": false,\n",
    "\t\t\"inputs\": [\n",
    "\t\t\t{\n",
    "\t\t\t\t\"name\": \"_receiver\",\n",
    "\t\t\t\t\"type\": \"address\"\n",
    "\t\t\t}\n",
    "\t\t],\n",
    "\t\t\"name\": \"forwardTo\",\n",
    "\t\t\"outputs\": [],\n",
    "\t\t\"payable\": true,\n",
    "\t\t\"stateMutability\": \"payable\",\n",
    "\t\t\"type\": \"function\"\n",
    "\t},\n",
    "\t{\n",
    "\t\t\"constant\": false,\n",
    "\t\t\"inputs\": [\n",
    "\t\t\t{\n",
    "\t\t\t\t\"name\": \"_owner\",\n",
    "\t\t\t\t\"type\": \"address\"\n",
    "\t\t\t}\n",
    "\t\t],\n",
    "\t\t\"name\": \"setOwner\",\n",
    "\t\t\"outputs\": [],\n",
    "\t\t\"payable\": false,\n",
    "\t\t\"stateMutability\": \"nonpayable\",\n",
    "\t\t\"type\": \"function\"\n",
    "\t},\n",
    "\t{\n",
    "\t\t\"constant\": false,\n",
    "\t\t\"inputs\": [],\n",
    "\t\t\"name\": \"withdrawAll\",\n",
    "\t\t\"outputs\": [],\n",
    "\t\t\"payable\": false,\n",
    "\t\t\"stateMutability\": \"nonpayable\",\n",
    "\t\t\"type\": \"function\"\n",
    "\t},\n",
    "\t{\n",
    "\t\t\"inputs\": [],\n",
    "\t\t\"payable\": false,\n",
    "\t\t\"stateMutability\": \"nonpayable\",\n",
    "\t\t\"type\": \"constructor\"\n",
    "\t},\n",
    "\t{\n",
    "\t\t\"constant\": true,\n",
    "\t\t\"inputs\": [],\n",
    "\t\t\"name\": \"getBalance\",\n",
    "\t\t\"outputs\": [\n",
    "\t\t\t{\n",
    "\t\t\t\t\"name\": \"\",\n",
    "\t\t\t\t\"type\": \"uint256\"\n",
    "\t\t\t},\n",
    "\t\t\t{\n",
    "\t\t\t\t\"name\": \"\",\n",
    "\t\t\t\t\"type\": \"uint256\"\n",
    "\t\t\t}\n",
    "\t\t],\n",
    "\t\t\"payable\": false,\n",
    "\t\t\"stateMutability\": \"view\",\n",
    "\t\t\"type\": \"function\"\n",
    "\t},\n",
    "\t{\n",
    "\t\t\"constant\": true,\n",
    "\t\t\"inputs\": [],\n",
    "\t\t\"name\": \"incrementAmount\",\n",
    "\t\t\"outputs\": [\n",
    "\t\t\t{\n",
    "\t\t\t\t\"name\": \"\",\n",
    "\t\t\t\t\"type\": \"uint256\"\n",
    "\t\t\t}\n",
    "\t\t],\n",
    "\t\t\"payable\": false,\n",
    "\t\t\"stateMutability\": \"view\",\n",
    "\t\t\"type\": \"function\"\n",
    "\t}\n",
    "];\n",
    "var myBank = new web3.eth.Contract(_abiArray, '0xa9a8238fA16e0532414290E97E540a5600c980c4');\n",
    "myBank.methods.getBalance().call().then(console.log);"
   ]
  },
  {
   "cell_type": "code",
   "execution_count": 15,
   "metadata": {},
   "outputs": [
    {
     "name": "stderr",
     "output_type": "stream",
     "text": [
      "(node:15036) UnhandledPromiseRejectionWarning: Error: Returned error: invalid opcode: SHR\n",
      "    at Object.ErrorResponse (C:\\Users\\zaqxs\\Code\\201910787\\node_modules\\web3-core-helpers\\lib\\errors.js:28:19)\n",
      "    at C:\\Users\\zaqxs\\Code\\201910787\\node_modules\\web3-core-requestmanager\\lib\\index.js:303:36\n",
      "    at XMLHttpRequest.request.onreadystatechange (C:\\Users\\zaqxs\\Code\\201910787\\node_modules\\web3-providers-http\\lib\\index.js:98:13)\n",
      "    at XMLHttpRequestEventTarget.dispatchEvent (C:\\Users\\zaqxs\\Code\\201910787\\node_modules\\xhr2-cookies\\dist\\xml-http-request-event-target.js:34:22)\n",
      "    at XMLHttpRequest._setReadyState (C:\\Users\\zaqxs\\Code\\201910787\\node_modules\\xhr2-cookies\\dist\\xml-http-request.js:208:14)\n",
      "    at XMLHttpRequest._onHttpResponseEnd (C:\\Users\\zaqxs\\Code\\201910787\\node_modules\\xhr2-cookies\\dist\\xml-http-request.js:318:14)\n",
      "    at IncomingMessage.<anonymous> (C:\\Users\\zaqxs\\Code\\201910787\\node_modules\\xhr2-cookies\\dist\\xml-http-request.js:289:61)\n",
      "    at IncomingMessage.emit (events.js:327:22)\n",
      "    at endReadableNT (internal/streams/readable.js:1327:12)\n",
      "    at processTicksAndRejections (internal/process/task_queues.js:80:21)\n",
      "(Use `node --trace-warnings ...` to show where the warning was created)\n",
      "(node:15036) UnhandledPromiseRejectionWarning: Unhandled promise rejection. This error originated either by throwing inside of an async function without a catch block, or by rejecting a promise which was not handled with .catch(). To terminate the node process on unhandled promise rejection, use the CLI flag `--unhandled-rejections=strict` (see https://nodejs.org/api/cli.html#cli_unhandled_rejections_mode). (rejection id: 1)\n",
      "(node:15036) [DEP0018] DeprecationWarning: Unhandled promise rejections are deprecated. In the future, promise rejections that are not handled will terminate the Node.js process with a non-zero exit code.\n"
     ]
    }
   ],
   "source": [
    "!node src/BankContractUse1_2_geth.js"
   ]
  },
  {
   "cell_type": "markdown",
   "metadata": {},
   "source": [
    "- 자신의 2번째 계정으로 333wei 계좌이체"
   ]
  },
  {
   "cell_type": "code",
   "execution_count": 60,
   "metadata": {},
   "outputs": [
    {
     "name": "stdout",
     "output_type": "stream",
     "text": [
      "Overwriting src/BankContractUse2_1_geth.js\n"
     ]
    }
   ],
   "source": [
    "%%writefile src/BankContractUse2_1_geth.js\n",
    "var Web3=require('web3');\n",
    "var web3 = new Web3(new Web3.providers.HttpProvider(\"http://localhost:8445\"));\n",
    "var _abiArray=[{\"constant\":true,\"inputs\":[],\"name\":\"getBalance\",\"outputs\":[{\"name\":\"\",\"type\":\"uint256\"},{\"name\":\"\",\"type\":\"uint256\"}],\"payable\":false,\"stateMutability\":\"view\",\"type\":\"function\"},{\"constant\":false,\"inputs\":[{\"name\":\"_owner\",\"type\":\"address\"}],\"name\":\"setOwner\",\"outputs\":[],\"payable\":false,\"stateMutability\":\"nonpayable\",\"type\":\"function\"},{\"constant\":false,\"inputs\":[{\"name\":\"_receiver\",\"type\":\"address\"}],\"name\":\"forwardTo\",\"outputs\":[],\"payable\":true,\"stateMutability\":\"payable\",\"type\":\"function\"},{\"constant\":false,\"inputs\":[],\"name\":\"withdrawAll\",\"outputs\":[],\"payable\":false,\"stateMutability\":\"nonpayable\",\"type\":\"function\"},{\"constant\":true,\"inputs\":[],\"name\":\"incrementAmount\",\"outputs\":[{\"name\":\"\",\"type\":\"uint256\"}],\"payable\":false,\"stateMutability\":\"view\",\"type\":\"function\"},{\"constant\":false,\"inputs\":[{\"name\":\"amount\",\"type\":\"uint256\"}],\"name\":\"deposit\",\"outputs\":[],\"payable\":true,\"stateMutability\":\"payable\",\"type\":\"function\"},{\"inputs\":[],\"payable\":false,\"stateMutability\":\"nonpayable\",\"type\":\"constructor\"}];\n",
    "var myBank = new web3.eth.Contract(_abiArray, '0xc85878e33DD549dC824E715c6e6750A2a78B0318');\n",
    "myBank.methods.forwardTo('0x04337404fa0b3f5280008c1c0fb076ae50746f00').send({from:\"0xe1e222f7567794c4813f2965719f59c15e8a7a84\",gas:800000,value:333});"
   ]
  },
  {
   "cell_type": "code",
   "execution_count": 61,
   "metadata": {},
   "outputs": [
    {
     "name": "stderr",
     "output_type": "stream",
     "text": [
      "(node:22304) UnhandledPromiseRejectionWarning: Error: Returned error: authentication needed: password or unlock\n",
      "    at Object.ErrorResponse (C:\\Users\\zaqxs\\Code\\201910787\\node_modules\\web3-core-helpers\\lib\\errors.js:28:19)\n",
      "    at C:\\Users\\zaqxs\\Code\\201910787\\node_modules\\web3-core-requestmanager\\lib\\index.js:303:36\n",
      "    at XMLHttpRequest.request.onreadystatechange (C:\\Users\\zaqxs\\Code\\201910787\\node_modules\\web3-providers-http\\lib\\index.js:98:13)\n",
      "    at XMLHttpRequestEventTarget.dispatchEvent (C:\\Users\\zaqxs\\Code\\201910787\\node_modules\\xhr2-cookies\\dist\\xml-http-request-event-target.js:34:22)\n",
      "    at XMLHttpRequest._setReadyState (C:\\Users\\zaqxs\\Code\\201910787\\node_modules\\xhr2-cookies\\dist\\xml-http-request.js:208:14)\n",
      "    at XMLHttpRequest._onHttpResponseEnd (C:\\Users\\zaqxs\\Code\\201910787\\node_modules\\xhr2-cookies\\dist\\xml-http-request.js:318:14)\n",
      "    at IncomingMessage.<anonymous> (C:\\Users\\zaqxs\\Code\\201910787\\node_modules\\xhr2-cookies\\dist\\xml-http-request.js:289:61)\n",
      "    at IncomingMessage.emit (events.js:327:22)\n",
      "    at endReadableNT (internal/streams/readable.js:1327:12)\n",
      "    at processTicksAndRejections (internal/process/task_queues.js:80:21)\n",
      "(Use `node --trace-warnings ...` to show where the warning was created)\n",
      "(node:22304) UnhandledPromiseRejectionWarning: Unhandled promise rejection. This error originated either by throwing inside of an async function without a catch block, or by rejecting a promise which was not handled with .catch(). To terminate the node process on unhandled promise rejection, use the CLI flag `--unhandled-rejections=strict` (see https://nodejs.org/api/cli.html#cli_unhandled_rejections_mode). (rejection id: 1)\n",
      "(node:22304) [DEP0018] DeprecationWarning: Unhandled promise rejections are deprecated. In the future, promise rejections that are not handled will terminate the Node.js process with a non-zero exit code.\n"
     ]
    }
   ],
   "source": [
    "!node src/BankContractUse2_1_geth.js"
   ]
  },
  {
   "cell_type": "markdown",
   "metadata": {},
   "source": [
    "- 컨트랙 잔고 11000wei, 잔고 증가분(333wei) 출력"
   ]
  },
  {
   "cell_type": "code",
   "execution_count": 62,
   "metadata": {},
   "outputs": [
    {
     "name": "stdout",
     "output_type": "stream",
     "text": [
      "Overwriting src/BankContractUse2_2_geth.js\n"
     ]
    }
   ],
   "source": [
    "%%writefile src/BankContractUse2_2_geth.js\n",
    "var Web3=require('web3');\n",
    "var web3 = new Web3(new Web3.providers.HttpProvider(\"http://localhost:8445\"));\n",
    "var _abiArray=[{\"constant\":true,\"inputs\":[],\"name\":\"getBalance\",\"outputs\":[{\"name\":\"\",\"type\":\"uint256\"},{\"name\":\"\",\"type\":\"uint256\"}],\"payable\":false,\"stateMutability\":\"view\",\"type\":\"function\"},{\"constant\":false,\"inputs\":[{\"name\":\"_owner\",\"type\":\"address\"}],\"name\":\"setOwner\",\"outputs\":[],\"payable\":false,\"stateMutability\":\"nonpayable\",\"type\":\"function\"},{\"constant\":false,\"inputs\":[{\"name\":\"_receiver\",\"type\":\"address\"}],\"name\":\"forwardTo\",\"outputs\":[],\"payable\":true,\"stateMutability\":\"payable\",\"type\":\"function\"},{\"constant\":false,\"inputs\":[],\"name\":\"withdrawAll\",\"outputs\":[],\"payable\":false,\"stateMutability\":\"nonpayable\",\"type\":\"function\"},{\"constant\":true,\"inputs\":[],\"name\":\"incrementAmount\",\"outputs\":[{\"name\":\"\",\"type\":\"uint256\"}],\"payable\":false,\"stateMutability\":\"view\",\"type\":\"function\"},{\"constant\":false,\"inputs\":[{\"name\":\"amount\",\"type\":\"uint256\"}],\"name\":\"deposit\",\"outputs\":[],\"payable\":true,\"stateMutability\":\"payable\",\"type\":\"function\"},{\"inputs\":[],\"payable\":false,\"stateMutability\":\"nonpayable\",\"type\":\"constructor\"}];\n",
    "var myBank = new web3.eth.Contract(_abiArray, '0xc85878e33DD549dC824E715c6e6750A2a78B0318');\n",
    "myBank.methods.getBalance().call().then(function(value){console.log(value);});\n",
    "myBank.methods.incrementAmount().call().then(function(value){console.log(value);});"
   ]
  },
  {
   "cell_type": "code",
   "execution_count": 40,
   "metadata": {},
   "outputs": [
    {
     "name": "stderr",
     "output_type": "stream",
     "text": [
      "(node:19072) UnhandledPromiseRejectionWarning: Error: Returned error: invalid opcode: SHR\n",
      "    at Object.ErrorResponse (C:\\Users\\zaqxs\\Code\\201910787\\node_modules\\web3-core-helpers\\lib\\errors.js:28:19)\n",
      "    at C:\\Users\\zaqxs\\Code\\201910787\\node_modules\\web3-core-requestmanager\\lib\\index.js:303:36\n",
      "    at XMLHttpRequest.request.onreadystatechange (C:\\Users\\zaqxs\\Code\\201910787\\node_modules\\web3-providers-http\\lib\\index.js:98:13)\n",
      "    at XMLHttpRequestEventTarget.dispatchEvent (C:\\Users\\zaqxs\\Code\\201910787\\node_modules\\xhr2-cookies\\dist\\xml-http-request-event-target.js:34:22)\n",
      "    at XMLHttpRequest._setReadyState (C:\\Users\\zaqxs\\Code\\201910787\\node_modules\\xhr2-cookies\\dist\\xml-http-request.js:208:14)\n",
      "    at XMLHttpRequest._onHttpResponseEnd (C:\\Users\\zaqxs\\Code\\201910787\\node_modules\\xhr2-cookies\\dist\\xml-http-request.js:318:14)\n",
      "    at IncomingMessage.<anonymous> (C:\\Users\\zaqxs\\Code\\201910787\\node_modules\\xhr2-cookies\\dist\\xml-http-request.js:289:61)\n",
      "    at IncomingMessage.emit (events.js:327:22)\n",
      "    at endReadableNT (internal/streams/readable.js:1327:12)\n",
      "    at processTicksAndRejections (internal/process/task_queues.js:80:21)\n",
      "(Use `node --trace-warnings ...` to show where the warning was created)\n",
      "(node:19072) UnhandledPromiseRejectionWarning: Unhandled promise rejection. This error originated either by throwing inside of an async function without a catch block, or by rejecting a promise which was not handled with .catch(). To terminate the node process on unhandled promise rejection, use the CLI flag `--unhandled-rejections=strict` (see https://nodejs.org/api/cli.html#cli_unhandled_rejections_mode). (rejection id: 1)\n",
      "(node:19072) [DEP0018] DeprecationWarning: Unhandled promise rejections are deprecated. In the future, promise rejections that are not handled will terminate the Node.js process with a non-zero exit code.\n",
      "(node:19072) UnhandledPromiseRejectionWarning: Error: Returned error: invalid opcode: SHR\n",
      "    at Object.ErrorResponse (C:\\Users\\zaqxs\\Code\\201910787\\node_modules\\web3-core-helpers\\lib\\errors.js:28:19)\n",
      "    at C:\\Users\\zaqxs\\Code\\201910787\\node_modules\\web3-core-requestmanager\\lib\\index.js:303:36\n",
      "    at XMLHttpRequest.request.onreadystatechange (C:\\Users\\zaqxs\\Code\\201910787\\node_modules\\web3-providers-http\\lib\\index.js:98:13)\n",
      "    at XMLHttpRequestEventTarget.dispatchEvent (C:\\Users\\zaqxs\\Code\\201910787\\node_modules\\xhr2-cookies\\dist\\xml-http-request-event-target.js:34:22)\n",
      "    at XMLHttpRequest._setReadyState (C:\\Users\\zaqxs\\Code\\201910787\\node_modules\\xhr2-cookies\\dist\\xml-http-request.js:208:14)\n",
      "    at XMLHttpRequest._onHttpResponseEnd (C:\\Users\\zaqxs\\Code\\201910787\\node_modules\\xhr2-cookies\\dist\\xml-http-request.js:318:14)\n",
      "    at IncomingMessage.<anonymous> (C:\\Users\\zaqxs\\Code\\201910787\\node_modules\\xhr2-cookies\\dist\\xml-http-request.js:289:61)\n",
      "    at IncomingMessage.emit (events.js:327:22)\n",
      "    at endReadableNT (internal/streams/readable.js:1327:12)\n",
      "    at processTicksAndRejections (internal/process/task_queues.js:80:21)\n",
      "(node:19072) UnhandledPromiseRejectionWarning: Unhandled promise rejection. This error originated either by throwing inside of an async function without a catch block, or by rejecting a promise which was not handled with .catch(). To terminate the node process on unhandled promise rejection, use the CLI flag `--unhandled-rejections=strict` (see https://nodejs.org/api/cli.html#cli_unhandled_rejections_mode). (rejection id: 2)\n"
     ]
    }
   ],
   "source": [
    "!node src/BankContractUse2_2_geth.js"
   ]
  },
  {
   "cell_type": "markdown",
   "metadata": {},
   "source": [
    "- 전액 인출(11000wei)"
   ]
  },
  {
   "cell_type": "code",
   "execution_count": 63,
   "metadata": {},
   "outputs": [
    {
     "name": "stdout",
     "output_type": "stream",
     "text": [
      "Overwriting src/BankContractUse3_1_geth.js\n"
     ]
    }
   ],
   "source": [
    "%%writefile src/BankContractUse3_1_geth.js\n",
    "var Web3=require('web3');\n",
    "var web3 = new Web3(new Web3.providers.HttpProvider(\"http://localhost:8445\"));\n",
    "var _abiArray=[{\"constant\":true,\"inputs\":[],\"name\":\"getBalance\",\"outputs\":[{\"name\":\"\",\"type\":\"uint256\"},{\"name\":\"\",\"type\":\"uint256\"}],\"payable\":false,\"stateMutability\":\"view\",\"type\":\"function\"},{\"constant\":false,\"inputs\":[{\"name\":\"_owner\",\"type\":\"address\"}],\"name\":\"setOwner\",\"outputs\":[],\"payable\":false,\"stateMutability\":\"nonpayable\",\"type\":\"function\"},{\"constant\":false,\"inputs\":[{\"name\":\"_receiver\",\"type\":\"address\"}],\"name\":\"forwardTo\",\"outputs\":[],\"payable\":true,\"stateMutability\":\"payable\",\"type\":\"function\"},{\"constant\":false,\"inputs\":[],\"name\":\"withdrawAll\",\"outputs\":[],\"payable\":false,\"stateMutability\":\"nonpayable\",\"type\":\"function\"},{\"constant\":true,\"inputs\":[],\"name\":\"incrementAmount\",\"outputs\":[{\"name\":\"\",\"type\":\"uint256\"}],\"payable\":false,\"stateMutability\":\"view\",\"type\":\"function\"},{\"constant\":false,\"inputs\":[{\"name\":\"amount\",\"type\":\"uint256\"}],\"name\":\"deposit\",\"outputs\":[],\"payable\":true,\"stateMutability\":\"payable\",\"type\":\"function\"},{\"inputs\":[],\"payable\":false,\"stateMutability\":\"nonpayable\",\"type\":\"constructor\"}];\n",
    "var myBank = new web3.eth.Contract(_abiArray, '0xc85878e33DD549dC824E715c6e6750A2a78B0318');\n",
    "myBank.methods.withdrawAll().send({from:\"0xe1e222f7567794c4813f2965719f59c15e8a7a84\",gas:800000});"
   ]
  },
  {
   "cell_type": "code",
   "execution_count": 64,
   "metadata": {},
   "outputs": [
    {
     "name": "stderr",
     "output_type": "stream",
     "text": [
      "(node:22096) UnhandledPromiseRejectionWarning: Error: Returned error: authentication needed: password or unlock\n",
      "    at Object.ErrorResponse (C:\\Users\\zaqxs\\Code\\201910787\\node_modules\\web3-core-helpers\\lib\\errors.js:28:19)\n",
      "    at C:\\Users\\zaqxs\\Code\\201910787\\node_modules\\web3-core-requestmanager\\lib\\index.js:303:36\n",
      "    at XMLHttpRequest.request.onreadystatechange (C:\\Users\\zaqxs\\Code\\201910787\\node_modules\\web3-providers-http\\lib\\index.js:98:13)\n",
      "    at XMLHttpRequestEventTarget.dispatchEvent (C:\\Users\\zaqxs\\Code\\201910787\\node_modules\\xhr2-cookies\\dist\\xml-http-request-event-target.js:34:22)\n",
      "    at XMLHttpRequest._setReadyState (C:\\Users\\zaqxs\\Code\\201910787\\node_modules\\xhr2-cookies\\dist\\xml-http-request.js:208:14)\n",
      "    at XMLHttpRequest._onHttpResponseEnd (C:\\Users\\zaqxs\\Code\\201910787\\node_modules\\xhr2-cookies\\dist\\xml-http-request.js:318:14)\n",
      "    at IncomingMessage.<anonymous> (C:\\Users\\zaqxs\\Code\\201910787\\node_modules\\xhr2-cookies\\dist\\xml-http-request.js:289:61)\n",
      "    at IncomingMessage.emit (events.js:327:22)\n",
      "    at endReadableNT (internal/streams/readable.js:1327:12)\n",
      "    at processTicksAndRejections (internal/process/task_queues.js:80:21)\n",
      "(Use `node --trace-warnings ...` to show where the warning was created)\n",
      "(node:22096) UnhandledPromiseRejectionWarning: Unhandled promise rejection. This error originated either by throwing inside of an async function without a catch block, or by rejecting a promise which was not handled with .catch(). To terminate the node process on unhandled promise rejection, use the CLI flag `--unhandled-rejections=strict` (see https://nodejs.org/api/cli.html#cli_unhandled_rejections_mode). (rejection id: 1)\n",
      "(node:22096) [DEP0018] DeprecationWarning: Unhandled promise rejections are deprecated. In the future, promise rejections that are not handled will terminate the Node.js process with a non-zero exit code.\n"
     ]
    }
   ],
   "source": [
    "!node src/BankContractUse3_1_geth.js"
   ]
  },
  {
   "cell_type": "markdown",
   "metadata": {},
   "source": [
    "- 자신의 잔고 증가분(11000wei) 출력"
   ]
  },
  {
   "cell_type": "code",
   "execution_count": 65,
   "metadata": {},
   "outputs": [
    {
     "name": "stdout",
     "output_type": "stream",
     "text": [
      "Overwriting src/BankContractUse3_2_geth.js\n"
     ]
    }
   ],
   "source": [
    "%%writefile src/BankContractUse3_2_geth.js\n",
    "var Web3=require('web3');\n",
    "var web3 = new Web3(new Web3.providers.HttpProvider(\"http://localhost:8445\"));\n",
    "var _abiArray=[{\"constant\":true,\"inputs\":[],\"name\":\"getBalance\",\"outputs\":[{\"name\":\"\",\"type\":\"uint256\"},{\"name\":\"\",\"type\":\"uint256\"}],\"payable\":false,\"stateMutability\":\"view\",\"type\":\"function\"},{\"constant\":false,\"inputs\":[{\"name\":\"_owner\",\"type\":\"address\"}],\"name\":\"setOwner\",\"outputs\":[],\"payable\":false,\"stateMutability\":\"nonpayable\",\"type\":\"function\"},{\"constant\":false,\"inputs\":[{\"name\":\"_receiver\",\"type\":\"address\"}],\"name\":\"forwardTo\",\"outputs\":[],\"payable\":true,\"stateMutability\":\"payable\",\"type\":\"function\"},{\"constant\":false,\"inputs\":[],\"name\":\"withdrawAll\",\"outputs\":[],\"payable\":false,\"stateMutability\":\"nonpayable\",\"type\":\"function\"},{\"constant\":true,\"inputs\":[],\"name\":\"incrementAmount\",\"outputs\":[{\"name\":\"\",\"type\":\"uint256\"}],\"payable\":false,\"stateMutability\":\"view\",\"type\":\"function\"},{\"constant\":false,\"inputs\":[{\"name\":\"amount\",\"type\":\"uint256\"}],\"name\":\"deposit\",\"outputs\":[],\"payable\":true,\"stateMutability\":\"payable\",\"type\":\"function\"},{\"inputs\":[],\"payable\":false,\"stateMutability\":\"nonpayable\",\"type\":\"constructor\"}];\n",
    "var myBank = new web3.eth.Contract(_abiArray, '0xc85878e33DD549dC824E715c6e6750A2a78B0318');\n",
    "myBank.methods.getBalance().call().then(function(value){console.log(value);});\n",
    "myBank.methods.incrementAmount().call().then(function(value){console.log(value);});"
   ]
  },
  {
   "cell_type": "code",
   "execution_count": 66,
   "metadata": {},
   "outputs": [
    {
     "name": "stderr",
     "output_type": "stream",
     "text": [
      "(node:6968) UnhandledPromiseRejectionWarning: Error: Returned error: invalid opcode: SHR\n",
      "    at Object.ErrorResponse (C:\\Users\\zaqxs\\Code\\201910787\\node_modules\\web3-core-helpers\\lib\\errors.js:28:19)\n",
      "    at C:\\Users\\zaqxs\\Code\\201910787\\node_modules\\web3-core-requestmanager\\lib\\index.js:303:36\n",
      "    at XMLHttpRequest.request.onreadystatechange (C:\\Users\\zaqxs\\Code\\201910787\\node_modules\\web3-providers-http\\lib\\index.js:98:13)\n",
      "    at XMLHttpRequestEventTarget.dispatchEvent (C:\\Users\\zaqxs\\Code\\201910787\\node_modules\\xhr2-cookies\\dist\\xml-http-request-event-target.js:34:22)\n",
      "    at XMLHttpRequest._setReadyState (C:\\Users\\zaqxs\\Code\\201910787\\node_modules\\xhr2-cookies\\dist\\xml-http-request.js:208:14)\n",
      "    at XMLHttpRequest._onHttpResponseEnd (C:\\Users\\zaqxs\\Code\\201910787\\node_modules\\xhr2-cookies\\dist\\xml-http-request.js:318:14)\n",
      "    at IncomingMessage.<anonymous> (C:\\Users\\zaqxs\\Code\\201910787\\node_modules\\xhr2-cookies\\dist\\xml-http-request.js:289:61)\n",
      "    at IncomingMessage.emit (events.js:327:22)\n",
      "    at endReadableNT (internal/streams/readable.js:1327:12)\n",
      "    at processTicksAndRejections (internal/process/task_queues.js:80:21)\n",
      "(Use `node --trace-warnings ...` to show where the warning was created)\n",
      "(node:6968) UnhandledPromiseRejectionWarning: Unhandled promise rejection. This error originated either by throwing inside of an async function without a catch block, or by rejecting a promise which was not handled with .catch(). To terminate the node process on unhandled promise rejection, use the CLI flag `--unhandled-rejections=strict` (see https://nodejs.org/api/cli.html#cli_unhandled_rejections_mode). (rejection id: 1)\n",
      "(node:6968) [DEP0018] DeprecationWarning: Unhandled promise rejections are deprecated. In the future, promise rejections that are not handled will terminate the Node.js process with a non-zero exit code.\n",
      "(node:6968) UnhandledPromiseRejectionWarning: Error: Returned error: invalid opcode: SHR\n",
      "    at Object.ErrorResponse (C:\\Users\\zaqxs\\Code\\201910787\\node_modules\\web3-core-helpers\\lib\\errors.js:28:19)\n",
      "    at C:\\Users\\zaqxs\\Code\\201910787\\node_modules\\web3-core-requestmanager\\lib\\index.js:303:36\n",
      "    at XMLHttpRequest.request.onreadystatechange (C:\\Users\\zaqxs\\Code\\201910787\\node_modules\\web3-providers-http\\lib\\index.js:98:13)\n",
      "    at XMLHttpRequestEventTarget.dispatchEvent (C:\\Users\\zaqxs\\Code\\201910787\\node_modules\\xhr2-cookies\\dist\\xml-http-request-event-target.js:34:22)\n",
      "    at XMLHttpRequest._setReadyState (C:\\Users\\zaqxs\\Code\\201910787\\node_modules\\xhr2-cookies\\dist\\xml-http-request.js:208:14)\n",
      "    at XMLHttpRequest._onHttpResponseEnd (C:\\Users\\zaqxs\\Code\\201910787\\node_modules\\xhr2-cookies\\dist\\xml-http-request.js:318:14)\n",
      "    at IncomingMessage.<anonymous> (C:\\Users\\zaqxs\\Code\\201910787\\node_modules\\xhr2-cookies\\dist\\xml-http-request.js:289:61)\n",
      "    at IncomingMessage.emit (events.js:327:22)\n",
      "    at endReadableNT (internal/streams/readable.js:1327:12)\n",
      "    at processTicksAndRejections (internal/process/task_queues.js:80:21)\n",
      "(node:6968) UnhandledPromiseRejectionWarning: Unhandled promise rejection. This error originated either by throwing inside of an async function without a catch block, or by rejecting a promise which was not handled with .catch(). To terminate the node process on unhandled promise rejection, use the CLI flag `--unhandled-rejections=strict` (see https://nodejs.org/api/cli.html#cli_unhandled_rejections_mode). (rejection id: 2)\n"
     ]
    }
   ],
   "source": [
    "!node src/BankContractUse3_2_geth.js"
   ]
  },
  {
   "cell_type": "markdown",
   "metadata": {},
   "source": [
    "### geth 8445 서버로 컴파일, 배포까지 돌아가지만 컨트랙을 사용하는 것이 오류난다.\n",
    "\n",
    "### `(node:16828) UnhandledPromiseRejectionWarning: Error: Returned error: invalid opcode: SHR` 의 오류가 나는데 정확한 원인을 모르겠다."
   ]
  }
 ],
 "metadata": {
  "kernelspec": {
   "display_name": "Python 3",
   "language": "python",
   "name": "python3"
  },
  "language_info": {
   "codemirror_mode": {
    "name": "ipython",
    "version": 3
   },
   "file_extension": ".py",
   "mimetype": "text/x-python",
   "name": "python",
   "nbconvert_exporter": "python",
   "pygments_lexer": "ipython3",
   "version": "3.7.3"
  }
 },
 "nbformat": 4,
 "nbformat_minor": 2
}
