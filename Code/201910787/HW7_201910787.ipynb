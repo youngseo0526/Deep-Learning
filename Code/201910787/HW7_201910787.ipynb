{
 "cells": [
  {
   "cell_type": "markdown",
   "metadata": {},
   "source": [
    "## 연습문제\n",
    "\n",
    "\n",
    "\n",
    "Hello 컨트랙을 수정해서 sayHello() 함수를 호출하면 \"Hello, Snowman\"이 출력되도록 하세요.\n",
    "\n",
    "- Solidity로 Hello.sol을 코딩하고\n",
    "\n",
    "- solc로 컴파일하고\n",
    "\n",
    "- web3.js를 사용하여 node로 프로그램해서 배포\n",
    "\n",
    "- web3.js를 사용하여 node로 sayHello() 출력\n",
    "\n"
   ]
  },
  {
   "cell_type": "markdown",
   "metadata": {},
   "source": [
    "1. Solidity로 Hello.sol을 코딩하고"
   ]
  },
  {
   "cell_type": "code",
   "execution_count": 1,
   "metadata": {},
   "outputs": [
    {
     "name": "stdout",
     "output_type": "stream",
     "text": [
      "Overwriting src/Hello_.sol\n"
     ]
    }
   ],
   "source": [
    "%%writefile src/Hello_.sol\n",
    "pragma solidity 0.5.10;\n",
    "\n",
    "contract Hello {\n",
    "    function sayHello() pure public returns(string memory) { // pure : read-only\n",
    "        return \"Hello, Snowman\";\n",
    "    }\n",
    "}"
   ]
  },
  {
   "cell_type": "markdown",
   "metadata": {},
   "source": [
    "2. solc로 컴파일하고"
   ]
  },
  {
   "cell_type": "code",
   "execution_count": 2,
   "metadata": {},
   "outputs": [
    {
     "name": "stdout",
     "output_type": "stream",
     "text": [
      "\n",
      "======= src/Hello_.sol:Hello =======\n",
      "Gas estimation:\n",
      "construction:\n",
      "   105 + 57000 = 57105\n",
      "external:\n",
      "   sayHello():\tinfinite\n",
      "Binary: \n",
      "608060405234801561001057600080fd5b5061011d806100206000396000f3fe6080604052348015600f57600080fd5b506004361060285760003560e01c8063ef5fb05b14602d575b600080fd5b603360ab565b6040518080602001828103825283818151815260200191508051906020019080838360005b8381101560715780820151818401526020810190506058565b50505050905090810190601f168015609d5780820380516001836020036101000a031916815260200191505b509250505060405180910390f35b60606040518060400160405280600e81526020017f48656c6c6f2c20536e6f776d616e00000000000000000000000000000000000081525090509056fea265627a7a723058203b86471dc6e8f3a6d17fac3b3addede543d6c682b62c9f6f1d22501c2fa901f264736f6c634300050a0032\n",
      "Contract JSON ABI \n",
      "[{\"constant\":true,\"inputs\":[],\"name\":\"sayHello\",\"outputs\":[{\"name\":\"\",\"type\":\"string\"}],\"payable\":false,\"stateMutability\":\"pure\",\"type\":\"function\"}]\n"
     ]
    }
   ],
   "source": [
    "!solc --abi --bin --gas src/Hello_.sol"
   ]
  },
  {
   "cell_type": "markdown",
   "metadata": {},
   "source": [
    "### < geth >"
   ]
  },
  {
   "cell_type": "markdown",
   "metadata": {},
   "source": [
    "3. web3.js를 사용하여 node로 프로그램해서 배포"
   ]
  },
  {
   "cell_type": "code",
   "execution_count": 7,
   "metadata": {
    "scrolled": true
   },
   "outputs": [
    {
     "name": "stdout",
     "output_type": "stream",
     "text": [
      "Overwriting src/HelloDeploy_geth.js\n"
     ]
    }
   ],
   "source": [
    "%%writefile src/HelloDeploy_geth.js\n",
    "var Web3=require('web3');\n",
    "var web3 = new Web3(new Web3.providers.HttpProvider(\"http://172.30.1.40:8445\"));\n",
    "var shelloContract = new web3.eth.Contract([{\"inputs\":[],\"name\":\"sayHello\",\"outputs\":[{\"internalType\":\"string\",\"name\":\"\",\"type\":\"string\"}],\"stateMutability\":\"pure\",\"type\":\"function\"}]);\n",
    "shelloContract\n",
    "    .deploy({\n",
    "            data: '0x608060405234801561001057600080fd5b5061011e806100206000396000f3fe6080604052348015600f57600080fd5b506004361060285760003560e01c8063ef5fb05b14602d575b600080fd5b603360ab565b6040518080602001828103825283818151815260200191508051906020019080838360005b8381101560715780820151818401526020810190506058565b50505050905090810190601f168015609d5780820380516001836020036101000a031916815260200191505b509250505060405180910390f35b60606040518060400160405280600e81526020017f48656c6c6f2c20536e6f776d616e00000000000000000000000000000000000081525090509056fea2646970667358221220e70a527638b446556ab28baf44d07206ba7f47072e4973820a1c2fb9ddfad93064736f6c63430006050033', \n",
    "    })\n",
    "    .send({\n",
    "     from: \"0xe1e222f7567794c4813f2965719f59c15e8a7a84\",\n",
    "     gas: '4700000'\n",
    "    }, function (error, transactionHash){ \n",
    "            console.log(error, transactionHash); // hashcode 출력\n",
    "    })\n",
    "    .then(function(newContractInstance){\n",
    "        console.log(newContractInstance.options.address) // 주소 출력\n",
    "    });"
   ]
  },
  {
   "cell_type": "markdown",
   "metadata": {},
   "source": [
    "geth attach 커널에서 마이닝 한 뒤"
   ]
  },
  {
   "cell_type": "code",
   "execution_count": 8,
   "metadata": {},
   "outputs": [
    {
     "name": "stdout",
     "output_type": "stream",
     "text": [
      "Error: Invalid JSON RPC response: \"\"\n",
      "    at Object.InvalidResponse (C:\\Users\\zaqxs\\Code\\201910787\\node_modules\\web3-core-helpers\\lib\\errors.js:43:16)\n",
      "    at XMLHttpRequest.request.onreadystatechange (C:\\Users\\zaqxs\\Code\\201910787\\node_modules\\web3-providers-http\\lib\\index.js:95:32)\n",
      "    at XMLHttpRequestEventTarget.dispatchEvent (C:\\Users\\zaqxs\\Code\\201910787\\node_modules\\xhr2-cookies\\dist\\xml-http-request-event-target.js:34:22)\n",
      "    at XMLHttpRequest._setReadyState (C:\\Users\\zaqxs\\Code\\201910787\\node_modules\\xhr2-cookies\\dist\\xml-http-request.js:208:14)\n",
      "    at XMLHttpRequest._onHttpRequestError (C:\\Users\\zaqxs\\Code\\201910787\\node_modules\\xhr2-cookies\\dist\\xml-http-request.js:349:14)\n",
      "    at ClientRequest.<anonymous> (C:\\Users\\zaqxs\\Code\\201910787\\node_modules\\xhr2-cookies\\dist\\xml-http-request.js:252:61)\n",
      "    at ClientRequest.emit (events.js:315:20)\n",
      "    at Socket.socketErrorListener (_http_client.js:469:9)\n",
      "    at Socket.emit (events.js:315:20)\n",
      "    at emitErrorNT (internal/streams/destroy.js:106:8)\n",
      "    at emitErrorCloseNT (internal/streams/destroy.js:74:3)\n",
      "    at processTicksAndRejections (internal/process/task_queues.js:80:21) undefined\n"
     ]
    },
    {
     "name": "stderr",
     "output_type": "stream",
     "text": [
      "(node:12300) UnhandledPromiseRejectionWarning: Error: Invalid JSON RPC response: \"\"\n",
      "    at Object.InvalidResponse (C:\\Users\\zaqxs\\Code\\201910787\\node_modules\\web3-core-helpers\\lib\\errors.js:43:16)\n",
      "    at XMLHttpRequest.request.onreadystatechange (C:\\Users\\zaqxs\\Code\\201910787\\node_modules\\web3-providers-http\\lib\\index.js:95:32)\n",
      "    at XMLHttpRequestEventTarget.dispatchEvent (C:\\Users\\zaqxs\\Code\\201910787\\node_modules\\xhr2-cookies\\dist\\xml-http-request-event-target.js:34:22)\n",
      "    at XMLHttpRequest._setReadyState (C:\\Users\\zaqxs\\Code\\201910787\\node_modules\\xhr2-cookies\\dist\\xml-http-request.js:208:14)\n",
      "    at XMLHttpRequest._onHttpRequestError (C:\\Users\\zaqxs\\Code\\201910787\\node_modules\\xhr2-cookies\\dist\\xml-http-request.js:349:14)\n",
      "    at ClientRequest.<anonymous> (C:\\Users\\zaqxs\\Code\\201910787\\node_modules\\xhr2-cookies\\dist\\xml-http-request.js:252:61)\n",
      "    at ClientRequest.emit (events.js:315:20)\n",
      "    at Socket.socketErrorListener (_http_client.js:469:9)\n",
      "    at Socket.emit (events.js:315:20)\n",
      "    at emitErrorNT (internal/streams/destroy.js:106:8)\n",
      "    at emitErrorCloseNT (internal/streams/destroy.js:74:3)\n",
      "    at processTicksAndRejections (internal/process/task_queues.js:80:21)\n",
      "(Use `node --trace-warnings ...` to show where the warning was created)\n",
      "(node:12300) UnhandledPromiseRejectionWarning: Unhandled promise rejection. This error originated either by throwing inside of an async function without a catch block, or by rejecting a promise which was not handled with .catch(). To terminate the node process on unhandled promise rejection, use the CLI flag `--unhandled-rejections=strict` (see https://nodejs.org/api/cli.html#cli_unhandled_rejections_mode). (rejection id: 1)\n",
      "(node:12300) [DEP0018] DeprecationWarning: Unhandled promise rejections are deprecated. In the future, promise rejections that are not handled will terminate the Node.js process with a non-zero exit code.\n"
     ]
    }
   ],
   "source": [
    "!node src/HelloDeploy_geth.js"
   ]
  },
  {
   "cell_type": "markdown",
   "metadata": {},
   "source": [
    "4. web3.js를 사용하여 node로 sayHello() 출력"
   ]
  },
  {
   "cell_type": "code",
   "execution_count": 8,
   "metadata": {},
   "outputs": [
    {
     "name": "stdout",
     "output_type": "stream",
     "text": [
      "Overwriting src/HelloUse_geth.js\n"
     ]
    }
   ],
   "source": [
    "%%writefile src/HelloUse_geth.js\n",
    "var Web3=require('web3');\n",
    "var web3 = new Web3(new Web3.providers.HttpProvider(\"http://172.30.1.40:8445\"));\n",
    "var shelloContract = new web3.eth.Contract([{\"constant\":true,\"inputs\":[],\"name\":\"sayHello\",\"outputs\":[{\"name\":\"\",\"type\":\"string\"}],\"payable\":false,\"stateMutability\":\"pure\",\"type\":\"function\"}],\n",
    "                                      \"0x0C804239dD979776e9292F5e0890068a113844bd\");\n",
    "shelloContract.methods.sayHello().call().then(function(str) {console.log(str);});"
   ]
  },
  {
   "cell_type": "code",
   "execution_count": 9,
   "metadata": {},
   "outputs": [
    {
     "name": "stderr",
     "output_type": "stream",
     "text": [
      "(node:28648) UnhandledPromiseRejectionWarning: Error: Returned error: invalid opcode: SHR\n",
      "    at Object.ErrorResponse (C:\\Users\\zaqxs\\Code\\201910787\\node_modules\\web3-core-helpers\\lib\\errors.js:28:19)\n",
      "    at C:\\Users\\zaqxs\\Code\\201910787\\node_modules\\web3-core-requestmanager\\lib\\index.js:303:36\n",
      "    at XMLHttpRequest.request.onreadystatechange (C:\\Users\\zaqxs\\Code\\201910787\\node_modules\\web3-providers-http\\lib\\index.js:98:13)\n",
      "    at XMLHttpRequestEventTarget.dispatchEvent (C:\\Users\\zaqxs\\Code\\201910787\\node_modules\\xhr2-cookies\\dist\\xml-http-request-event-target.js:34:22)\n",
      "    at XMLHttpRequest._setReadyState (C:\\Users\\zaqxs\\Code\\201910787\\node_modules\\xhr2-cookies\\dist\\xml-http-request.js:208:14)\n",
      "    at XMLHttpRequest._onHttpResponseEnd (C:\\Users\\zaqxs\\Code\\201910787\\node_modules\\xhr2-cookies\\dist\\xml-http-request.js:318:14)\n",
      "    at IncomingMessage.<anonymous> (C:\\Users\\zaqxs\\Code\\201910787\\node_modules\\xhr2-cookies\\dist\\xml-http-request.js:289:61)\n",
      "    at IncomingMessage.emit (events.js:327:22)\n",
      "    at endReadableNT (internal/streams/readable.js:1327:12)\n",
      "    at processTicksAndRejections (internal/process/task_queues.js:80:21)\n",
      "(Use `node --trace-warnings ...` to show where the warning was created)\n",
      "(node:28648) UnhandledPromiseRejectionWarning: Unhandled promise rejection. This error originated either by throwing inside of an async function without a catch block, or by rejecting a promise which was not handled with .catch(). To terminate the node process on unhandled promise rejection, use the CLI flag `--unhandled-rejections=strict` (see https://nodejs.org/api/cli.html#cli_unhandled_rejections_mode). (rejection id: 1)\n",
      "(node:28648) [DEP0018] DeprecationWarning: Unhandled promise rejections are deprecated. In the future, promise rejections that are not handled will terminate the Node.js process with a non-zero exit code.\n"
     ]
    }
   ],
   "source": [
    "!node src/HelloUse_geth.js"
   ]
  },
  {
   "cell_type": "markdown",
   "metadata": {},
   "source": [
    "### < ganache >"
   ]
  },
  {
   "cell_type": "markdown",
   "metadata": {},
   "source": [
    "3. web3.js를 사용하여 node로 프로그램해서 배포"
   ]
  },
  {
   "cell_type": "code",
   "execution_count": 12,
   "metadata": {},
   "outputs": [
    {
     "name": "stdout",
     "output_type": "stream",
     "text": [
      "Writing src/HelloDeploy_ganache.js\n"
     ]
    }
   ],
   "source": [
    "%%writefile src/HelloDeploy_ganache.js\n",
    "var Web3=require('web3');\n",
    "var web3 = new Web3(new Web3.providers.HttpProvider(\"http://127.0.0.1:8345\"));\n",
    "var shelloContract = new web3.eth.Contract([{\"inputs\":[],\"name\":\"sayHello\",\"outputs\":[{\"internalType\":\"string\",\"name\":\"\",\"type\":\"string\"}],\"stateMutability\":\"pure\",\"type\":\"function\"}]);\n",
    "shelloContract\n",
    "    .deploy({\n",
    "            data: '0x608060405234801561001057600080fd5b5061011e806100206000396000f3fe6080604052348015600f57600080fd5b506004361060285760003560e01c8063ef5fb05b14602d575b600080fd5b603360ab565b6040518080602001828103825283818151815260200191508051906020019080838360005b8381101560715780820151818401526020810190506058565b50505050905090810190601f168015609d5780820380516001836020036101000a031916815260200191505b509250505060405180910390f35b60606040518060400160405280600e81526020017f48656c6c6f2c20536e6f776d616e00000000000000000000000000000000000081525090509056fea2646970667358221220e70a527638b446556ab28baf44d07206ba7f47072e4973820a1c2fb9ddfad93064736f6c63430006050033', \n",
    "    })\n",
    "    .send({\n",
    "     from: \"0xFc45A05aD229Cd018E289E38e551910087B3d170\",\n",
    "     gas: '4700000'\n",
    "    }, function (error, transactionHash){ \n",
    "            console.log(error, transactionHash); // hashcode 출력\n",
    "    })\n",
    "    .then(function(newContractInstance){\n",
    "        console.log(newContractInstance.options.address) // 주소 출력\n",
    "    });"
   ]
  },
  {
   "cell_type": "code",
   "execution_count": 13,
   "metadata": {},
   "outputs": [
    {
     "name": "stdout",
     "output_type": "stream",
     "text": [
      "null 0x5198e00c485493663cf149a6a11969df3e6c6675f26c1c522e63a128ec379aca\n",
      "0xe1E685D172ecfc46f2070C5B02FcE13Ea4e61a65\n"
     ]
    }
   ],
   "source": [
    "!node src/HelloDeploy_ganache.js"
   ]
  },
  {
   "cell_type": "markdown",
   "metadata": {},
   "source": [
    "4. web3.js를 사용하여 node로 sayHello() 출력"
   ]
  },
  {
   "cell_type": "code",
   "execution_count": 14,
   "metadata": {},
   "outputs": [
    {
     "name": "stdout",
     "output_type": "stream",
     "text": [
      "Writing src/HelloUse_ganache.js\n"
     ]
    }
   ],
   "source": [
    "%%writefile src/HelloUse_ganache.js\n",
    "var Web3=require('web3');\n",
    "var web3 = new Web3(new Web3.providers.HttpProvider(\"http://127.0.0.1:8345\"));\n",
    "var shelloContract = new web3.eth.Contract([{\"constant\":true,\"inputs\":[],\"name\":\"sayHello\",\"outputs\":[{\"name\":\"\",\"type\":\"string\"}],\"payable\":false,\"stateMutability\":\"pure\",\"type\":\"function\"}],\n",
    "                                      \"0xe1E685D172ecfc46f2070C5B02FcE13Ea4e61a65\");\n",
    "shelloContract.methods.sayHello().call().then(function(str) {console.log(str);});"
   ]
  },
  {
   "cell_type": "code",
   "execution_count": 15,
   "metadata": {},
   "outputs": [
    {
     "name": "stdout",
     "output_type": "stream",
     "text": [
      "Hello, Snowman\n"
     ]
    }
   ],
   "source": [
    "!node src/HelloUse_ganache.js"
   ]
  }
 ],
 "metadata": {
  "kernelspec": {
   "display_name": "Python 3",
   "language": "python",
   "name": "python3"
  },
  "language_info": {
   "codemirror_mode": {
    "name": "ipython",
    "version": 3
   },
   "file_extension": ".py",
   "mimetype": "text/x-python",
   "name": "python",
   "nbconvert_exporter": "python",
   "pygments_lexer": "ipython3",
   "version": "3.7.3"
  }
 },
 "nbformat": 4,
 "nbformat_minor": 2
}
