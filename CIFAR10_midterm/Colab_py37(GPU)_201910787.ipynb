{
  "nbformat": 4,
  "nbformat_minor": 0,
  "metadata": {
    "accelerator": "GPU",
    "colab": {
      "name": "Colab.py37(GPU)_201910787.ipynb",
      "provenance": [],
      "collapsed_sections": []
    },
    "kernelspec": {
      "display_name": "Python 3",
      "name": "python3"
    },
    "language_info": {
      "name": "python"
    },
    "widgets": {
      "application/vnd.jupyter.widget-state+json": {
        "3c27cdcd59ad4d4eaf7ad1471c3edd65": {
          "model_module": "@jupyter-widgets/controls",
          "model_name": "HBoxModel",
          "state": {
            "_view_name": "HBoxView",
            "_dom_classes": [],
            "_model_name": "HBoxModel",
            "_view_module": "@jupyter-widgets/controls",
            "_model_module_version": "1.5.0",
            "_view_count": null,
            "_view_module_version": "1.5.0",
            "box_style": "",
            "layout": "IPY_MODEL_59918384de1140e2bdcf9f78829b1440",
            "_model_module": "@jupyter-widgets/controls",
            "children": [
              "IPY_MODEL_36481dcd6eff4dec8178a50e2ccf28c7",
              "IPY_MODEL_ce7d18e4ee2542d0bfcc5f86f4005906"
            ]
          }
        },
        "59918384de1140e2bdcf9f78829b1440": {
          "model_module": "@jupyter-widgets/base",
          "model_name": "LayoutModel",
          "state": {
            "_view_name": "LayoutView",
            "grid_template_rows": null,
            "right": null,
            "justify_content": null,
            "_view_module": "@jupyter-widgets/base",
            "overflow": null,
            "_model_module_version": "1.2.0",
            "_view_count": null,
            "flex_flow": null,
            "width": null,
            "min_width": null,
            "border": null,
            "align_items": null,
            "bottom": null,
            "_model_module": "@jupyter-widgets/base",
            "top": null,
            "grid_column": null,
            "overflow_y": null,
            "overflow_x": null,
            "grid_auto_flow": null,
            "grid_area": null,
            "grid_template_columns": null,
            "flex": null,
            "_model_name": "LayoutModel",
            "justify_items": null,
            "grid_row": null,
            "max_height": null,
            "align_content": null,
            "visibility": null,
            "align_self": null,
            "height": null,
            "min_height": null,
            "padding": null,
            "grid_auto_rows": null,
            "grid_gap": null,
            "max_width": null,
            "order": null,
            "_view_module_version": "1.2.0",
            "grid_template_areas": null,
            "object_position": null,
            "object_fit": null,
            "grid_auto_columns": null,
            "margin": null,
            "display": null,
            "left": null
          }
        },
        "36481dcd6eff4dec8178a50e2ccf28c7": {
          "model_module": "@jupyter-widgets/controls",
          "model_name": "FloatProgressModel",
          "state": {
            "_view_name": "ProgressView",
            "style": "IPY_MODEL_7aeec42e6c5d4d88b7ed647ad0d385ed",
            "_dom_classes": [],
            "description": "",
            "_model_name": "FloatProgressModel",
            "bar_style": "success",
            "max": 170498071,
            "_view_module": "@jupyter-widgets/controls",
            "_model_module_version": "1.5.0",
            "value": 170498071,
            "_view_count": null,
            "_view_module_version": "1.5.0",
            "orientation": "horizontal",
            "min": 0,
            "description_tooltip": null,
            "_model_module": "@jupyter-widgets/controls",
            "layout": "IPY_MODEL_797f276c46554d4a99a633d570c09ac3"
          }
        },
        "ce7d18e4ee2542d0bfcc5f86f4005906": {
          "model_module": "@jupyter-widgets/controls",
          "model_name": "HTMLModel",
          "state": {
            "_view_name": "HTMLView",
            "style": "IPY_MODEL_d98dfbdd06e940a6a29877a912f4051d",
            "_dom_classes": [],
            "description": "",
            "_model_name": "HTMLModel",
            "placeholder": "​",
            "_view_module": "@jupyter-widgets/controls",
            "_model_module_version": "1.5.0",
            "value": " 170499072/? [00:07&lt;00:00, 23782292.15it/s]",
            "_view_count": null,
            "_view_module_version": "1.5.0",
            "description_tooltip": null,
            "_model_module": "@jupyter-widgets/controls",
            "layout": "IPY_MODEL_b35248979c104b828ec03f5ab928dd88"
          }
        },
        "7aeec42e6c5d4d88b7ed647ad0d385ed": {
          "model_module": "@jupyter-widgets/controls",
          "model_name": "ProgressStyleModel",
          "state": {
            "_view_name": "StyleView",
            "_model_name": "ProgressStyleModel",
            "description_width": "initial",
            "_view_module": "@jupyter-widgets/base",
            "_model_module_version": "1.5.0",
            "_view_count": null,
            "_view_module_version": "1.2.0",
            "bar_color": null,
            "_model_module": "@jupyter-widgets/controls"
          }
        },
        "797f276c46554d4a99a633d570c09ac3": {
          "model_module": "@jupyter-widgets/base",
          "model_name": "LayoutModel",
          "state": {
            "_view_name": "LayoutView",
            "grid_template_rows": null,
            "right": null,
            "justify_content": null,
            "_view_module": "@jupyter-widgets/base",
            "overflow": null,
            "_model_module_version": "1.2.0",
            "_view_count": null,
            "flex_flow": null,
            "width": null,
            "min_width": null,
            "border": null,
            "align_items": null,
            "bottom": null,
            "_model_module": "@jupyter-widgets/base",
            "top": null,
            "grid_column": null,
            "overflow_y": null,
            "overflow_x": null,
            "grid_auto_flow": null,
            "grid_area": null,
            "grid_template_columns": null,
            "flex": null,
            "_model_name": "LayoutModel",
            "justify_items": null,
            "grid_row": null,
            "max_height": null,
            "align_content": null,
            "visibility": null,
            "align_self": null,
            "height": null,
            "min_height": null,
            "padding": null,
            "grid_auto_rows": null,
            "grid_gap": null,
            "max_width": null,
            "order": null,
            "_view_module_version": "1.2.0",
            "grid_template_areas": null,
            "object_position": null,
            "object_fit": null,
            "grid_auto_columns": null,
            "margin": null,
            "display": null,
            "left": null
          }
        },
        "d98dfbdd06e940a6a29877a912f4051d": {
          "model_module": "@jupyter-widgets/controls",
          "model_name": "DescriptionStyleModel",
          "state": {
            "_view_name": "StyleView",
            "_model_name": "DescriptionStyleModel",
            "description_width": "",
            "_view_module": "@jupyter-widgets/base",
            "_model_module_version": "1.5.0",
            "_view_count": null,
            "_view_module_version": "1.2.0",
            "_model_module": "@jupyter-widgets/controls"
          }
        },
        "b35248979c104b828ec03f5ab928dd88": {
          "model_module": "@jupyter-widgets/base",
          "model_name": "LayoutModel",
          "state": {
            "_view_name": "LayoutView",
            "grid_template_rows": null,
            "right": null,
            "justify_content": null,
            "_view_module": "@jupyter-widgets/base",
            "overflow": null,
            "_model_module_version": "1.2.0",
            "_view_count": null,
            "flex_flow": null,
            "width": null,
            "min_width": null,
            "border": null,
            "align_items": null,
            "bottom": null,
            "_model_module": "@jupyter-widgets/base",
            "top": null,
            "grid_column": null,
            "overflow_y": null,
            "overflow_x": null,
            "grid_auto_flow": null,
            "grid_area": null,
            "grid_template_columns": null,
            "flex": null,
            "_model_name": "LayoutModel",
            "justify_items": null,
            "grid_row": null,
            "max_height": null,
            "align_content": null,
            "visibility": null,
            "align_self": null,
            "height": null,
            "min_height": null,
            "padding": null,
            "grid_auto_rows": null,
            "grid_gap": null,
            "max_width": null,
            "order": null,
            "_view_module_version": "1.2.0",
            "grid_template_areas": null,
            "object_position": null,
            "object_fit": null,
            "grid_auto_columns": null,
            "margin": null,
            "display": null,
            "left": null
          }
        }
      }
    }
  },
  "cells": [
    {
      "cell_type": "markdown",
      "metadata": {
        "id": "Vv280fXVHM3b"
      },
      "source": [
        "# **CIFAR10 인식 정확도 챌린지**"
      ]
    },
    {
      "cell_type": "code",
      "metadata": {
        "id": "BMoZyNx4_iFx"
      },
      "source": [
        "import numpy as np\n",
        "import torch\n",
        "import torch.nn as nn\n",
        "import torch.optim as optim\n",
        "import torch.nn.init as init\n",
        "import torchvision.datasets as dset\n",
        "import torchvision.transforms as transforms\n",
        "from torch.utils.data import DataLoader\n",
        "from torch.autograd import Variable\n",
        "import matplotlib.pyplot as plt\n",
        "\n",
        "# (8) learning rate decay\n",
        "from torch.optim import lr_scheduler\n",
        "\n",
        "batch_size=32\n",
        "learning_rate=0.001\n",
        "num_epoch=10"
      ],
      "execution_count": 15,
      "outputs": []
    },
    {
      "cell_type": "markdown",
      "metadata": {
        "id": "F9GdLWVZNWB0"
      },
      "source": [
        "**CIFAR10 train, test dataset 가져오기**"
      ]
    },
    {
      "cell_type": "code",
      "metadata": {
        "colab": {
          "base_uri": "https://localhost:8080/",
          "height": 139,
          "referenced_widgets": [
            "3c27cdcd59ad4d4eaf7ad1471c3edd65",
            "59918384de1140e2bdcf9f78829b1440",
            "36481dcd6eff4dec8178a50e2ccf28c7",
            "ce7d18e4ee2542d0bfcc5f86f4005906",
            "7aeec42e6c5d4d88b7ed647ad0d385ed",
            "797f276c46554d4a99a633d570c09ac3",
            "d98dfbdd06e940a6a29877a912f4051d",
            "b35248979c104b828ec03f5ab928dd88"
          ]
        },
        "id": "2f9VDJ2zIQiZ",
        "outputId": "105d45a0-2b7c-4fb9-d5d1-5e64bed48be8"
      },
      "source": [
        "cifar_train=dset.CIFAR10(\"CIFAR10/\",train=True, transform=transforms.ToTensor(), target_transform=None, download=True)\n",
        "cifar_test=dset.CIFAR10(\"CIFAR10/\",train=False, transform=transforms.ToTensor(), target_transform=None, download=True)\n",
        "\n",
        "# (2) data augmentation \n",
        "#cifar_train=dset.CIFAR10(\"CIFAR10/\", train=True,\n",
        "#                         transform=transforms.Compose([\n",
        "#                            transforms.Scale(36),  \n",
        "#                            transforms.CenterCrop(32),  \n",
        "#                            transforms.RandomHorizontalFlip(),  \n",
        "#                            transforms.Lambda(lambda x: x.rotate(90)),\n",
        "#                            transforms.ToTensor()\n",
        "#                         ]))\n",
        "\n",
        "# (4) Data Normalization \n",
        "#cifar_train=dset.CIFAR10(\"CIFAR10/\", train=True,\n",
        "#                         transform=transforms.Compose([\n",
        "#                            transforms.ToTensor(),\n",
        "#                            transforms.Normalize(mean=(0.5, 0.5, 0.5), std=(0.5, 0.5, 0.5)),\n",
        "#                         ])\n",
        "#                        , target_transform=None, download=False)\n",
        "#cifar_test=dset.CIFAR10(\"CIFAR10/\", train=False,\n",
        "#                         transform=transforms.Compose([\n",
        "#                            transforms.ToTensor(),\n",
        "#                            transforms.Normalize(mean=(0.5, 0.5, 0.5), std=(0.5, 0.5, 0.5)),\n",
        "#                         ])\n",
        "#                         , target_transform=None, download=False)"
      ],
      "execution_count": 3,
      "outputs": [
        {
          "output_type": "stream",
          "text": [
            "Downloading https://www.cs.toronto.edu/~kriz/cifar-10-python.tar.gz to CIFAR10/cifar-10-python.tar.gz\n"
          ],
          "name": "stdout"
        },
        {
          "output_type": "display_data",
          "data": {
            "application/vnd.jupyter.widget-view+json": {
              "model_id": "3c27cdcd59ad4d4eaf7ad1471c3edd65",
              "version_minor": 0,
              "version_major": 2
            },
            "text/plain": [
              "HBox(children=(FloatProgress(value=0.0, max=170498071.0), HTML(value='')))"
            ]
          },
          "metadata": {
            "tags": []
          }
        },
        {
          "output_type": "stream",
          "text": [
            "\n",
            "Extracting CIFAR10/cifar-10-python.tar.gz to CIFAR10/\n",
            "Files already downloaded and verified\n"
          ],
          "name": "stdout"
        }
      ]
    },
    {
      "cell_type": "markdown",
      "metadata": {
        "id": "Q3gT2WnZhvwh"
      },
      "source": [
        "**성능 측정 함수**"
      ]
    },
    {
      "cell_type": "code",
      "metadata": {
        "id": "N-DVP99Zhxh_"
      },
      "source": [
        "def ComputeAccr(dloader, imodel):\n",
        "    correct=0\n",
        "    total=0\n",
        "    \n",
        "    for j, [imgs,labels] in enumerate(dloader): # batch_size 만큼\n",
        "        img = Variable(imgs, volatile = True).cuda() # x\n",
        "        #label=Variable(labels)    # y\n",
        "        label=Variable(labels).cuda()\n",
        "        #.cuda(): GPU에 로드되기 위함, 만약 CPU로 설정되어 있다면 에러남\n",
        "        \n",
        "        output=imodel.forward(img)#forward prop.\n",
        "        _, output_index=torch.max(output,1)\n",
        "        \n",
        "        total+=label.size(0)\n",
        "        correct+=(output_index==label).sum().float()\n",
        "    print(\"Accuracy of Test Data: {}\".format(100*correct/total))"
      ],
      "execution_count": 4,
      "outputs": []
    },
    {
      "cell_type": "markdown",
      "metadata": {
        "id": "vdibI1aZCAyK"
      },
      "source": [
        "**인식 정확도 높이기**"
      ]
    },
    {
      "cell_type": "code",
      "metadata": {
        "colab": {
          "base_uri": "https://localhost:8080/"
        },
        "id": "khczqr-ujKfP",
        "outputId": "da2c174b-04f7-4688-f1ef-136b9feb6dc7"
      },
      "source": [
        "# === 3. 데이터 로드 함수 ===\n",
        "train_loader=torch.utils.data.DataLoader(list(cifar_train)[:], batch_size=batch_size, shuffle=True, num_workers=2, drop_last=True)\n",
        "test_loader=torch.utils.data.DataLoader(cifar_test, batch_size=batch_size, shuffle=False, num_workers=2, drop_last=True)\n",
        "\n",
        "# === 4. 모델선언 ===\n",
        "class CNN(nn.Module):\n",
        "    def __init__(self):\n",
        "        super(CNN, self).__init__()\n",
        "        self.layer=nn.Sequential(\n",
        "            nn.Conv2d(3,16,3,padding=1),\n",
        "            nn.ReLU(),\n",
        "            nn.Dropout2d(0.2),   # (2) drop out    \n",
        "            nn.BatchNorm2d(16),  # (5) Batch normalization\n",
        "            nn.Conv2d(16,32,3,padding=1),\n",
        "            nn.ReLU(),\n",
        "            nn.Dropout2d(0.2),\n",
        "            nn.BatchNorm2d(32),\n",
        "            nn.MaxPool2d(2,2),\n",
        "            nn.Conv2d(32,64,3,padding=1),\n",
        "            nn.ReLU(),\n",
        "            nn.Dropout2d(0.2),\n",
        "            nn.BatchNorm2d(64),\n",
        "            nn.MaxPool2d(2,2)\n",
        "        ) \n",
        "        self.fc_layer=nn.Sequential(\n",
        "            nn.Linear(64*8*8, 100),\n",
        "            nn.ReLU(),\n",
        "            nn.Dropout2d(0.2),\n",
        "            nn.BatchNorm1d(100),\n",
        "            nn.Linear(100,10)\n",
        "        )\n",
        "        \n",
        "         # (3) weight initialization\n",
        "        for m in self.modules():\n",
        "            if isinstance(m, nn.Conv2d):\n",
        "                init.kaiming_normal(m.weight.data)  #ReLU일때\n",
        "                m.bias.data.fill_(0)\n",
        "            if isinstance(m, nn.Linear):\n",
        "                init.kaiming_normal(m.weight.data)\n",
        "                m.bias.data.fill_(0)\n",
        "       \n",
        "    \n",
        "    def forward(self, x):\n",
        "        out=self.layer(x)\n",
        "        out=out.view(batch_size, -1)\n",
        "        out=self.fc_layer(out)\n",
        "        \n",
        "        return out\n",
        "model=CNN().cuda()"
      ],
      "execution_count": 5,
      "outputs": [
        {
          "output_type": "stream",
          "text": [
            "/usr/local/lib/python3.7/dist-packages/ipykernel_launcher.py:36: UserWarning: nn.init.kaiming_normal is now deprecated in favor of nn.init.kaiming_normal_.\n",
            "/usr/local/lib/python3.7/dist-packages/ipykernel_launcher.py:39: UserWarning: nn.init.kaiming_normal is now deprecated in favor of nn.init.kaiming_normal_.\n"
          ],
          "name": "stderr"
        }
      ]
    },
    {
      "cell_type": "code",
      "metadata": {
        "colab": {
          "base_uri": "https://localhost:8080/"
        },
        "id": "J3Kv-szupC_1",
        "outputId": "8198247d-e8f9-4cfa-cc3c-7a261d45862f"
      },
      "source": [
        "# === 5. loss, optimizer ===\n",
        "loss_func = nn.CrossEntropyLoss()\n",
        "#optimizer = torch.optim.SGD(model.parameters(), lr=learning_rate)\n",
        "optimizer=torch.optim.Adam(model.parameters(),lr=learning_rate) #(6)Adam optimizer\n",
        "\n",
        "schedule = lr_scheduler.StepLR(optimizer, step_size=100, gamma=0.2) \n",
        "\n",
        "# == 6. 학습 ===\n",
        "model.train()   \n",
        "for i in range(num_epoch):\n",
        "    for j,[image,label] in enumerate(train_loader):\n",
        "        x = Variable(image).cuda()\n",
        "        y_ = Variable(label).cuda()\n",
        "        \n",
        "        optimizer.zero_grad()\n",
        "        output = model.forward(x)\n",
        "        loss = loss_func(output, y_)\n",
        "        loss.backward()\n",
        "        optimizer.step()\n",
        "        \n",
        "        if j%1000 == 0:\n",
        "            print(j,loss)"
      ],
      "execution_count": 16,
      "outputs": [
        {
          "output_type": "stream",
          "text": [
            "0 tensor(0.5249, device='cuda:0', grad_fn=<NllLossBackward>)\n",
            "1000 tensor(0.5319, device='cuda:0', grad_fn=<NllLossBackward>)\n",
            "0 tensor(0.5576, device='cuda:0', grad_fn=<NllLossBackward>)\n",
            "1000 tensor(0.4754, device='cuda:0', grad_fn=<NllLossBackward>)\n",
            "0 tensor(0.6407, device='cuda:0', grad_fn=<NllLossBackward>)\n",
            "1000 tensor(0.3793, device='cuda:0', grad_fn=<NllLossBackward>)\n",
            "0 tensor(0.6367, device='cuda:0', grad_fn=<NllLossBackward>)\n",
            "1000 tensor(0.6557, device='cuda:0', grad_fn=<NllLossBackward>)\n",
            "0 tensor(0.6067, device='cuda:0', grad_fn=<NllLossBackward>)\n",
            "1000 tensor(0.7856, device='cuda:0', grad_fn=<NllLossBackward>)\n",
            "0 tensor(0.3058, device='cuda:0', grad_fn=<NllLossBackward>)\n",
            "1000 tensor(0.5229, device='cuda:0', grad_fn=<NllLossBackward>)\n",
            "0 tensor(0.4049, device='cuda:0', grad_fn=<NllLossBackward>)\n",
            "1000 tensor(0.4752, device='cuda:0', grad_fn=<NllLossBackward>)\n",
            "0 tensor(0.5026, device='cuda:0', grad_fn=<NllLossBackward>)\n",
            "1000 tensor(0.5503, device='cuda:0', grad_fn=<NllLossBackward>)\n",
            "0 tensor(0.4134, device='cuda:0', grad_fn=<NllLossBackward>)\n",
            "1000 tensor(0.3507, device='cuda:0', grad_fn=<NllLossBackward>)\n",
            "0 tensor(0.5170, device='cuda:0', grad_fn=<NllLossBackward>)\n",
            "1000 tensor(0.4469, device='cuda:0', grad_fn=<NllLossBackward>)\n"
          ],
          "name": "stdout"
        }
      ]
    },
    {
      "cell_type": "code",
      "metadata": {
        "colab": {
          "base_uri": "https://localhost:8080/"
        },
        "id": "lub9vWOApq2e",
        "outputId": "9e06be72-a6cd-48c0-c3f3-98c5be6231ec"
      },
      "source": [
        "model.eval()\n",
        "ComputeAccr(test_loader, model)"
      ],
      "execution_count": 17,
      "outputs": [
        {
          "output_type": "stream",
          "text": [
            "/usr/local/lib/python3.7/dist-packages/ipykernel_launcher.py:6: UserWarning: volatile was removed and now has no effect. Use `with torch.no_grad():` instead.\n",
            "  \n"
          ],
          "name": "stderr"
        },
        {
          "output_type": "stream",
          "text": [
            "Accuracy of Test Data: 76.9831771850586\n"
          ],
          "name": "stdout"
        }
      ]
    },
    {
      "cell_type": "code",
      "metadata": {
        "id": "6OzAqMgosOb-"
      },
      "source": [
        "# 학습된 파라미터 저장\n",
        "netname = 'my_net_BEST.pkl'\n",
        "torch.save(model, netname, )"
      ],
      "execution_count": 18,
      "outputs": []
    },
    {
      "cell_type": "code",
      "metadata": {
        "colab": {
          "base_uri": "https://localhost:8080/"
        },
        "id": "-KOnv55bv4hy",
        "outputId": "49ad2e78-afa1-4316-fa0b-fe05c28f16fe"
      },
      "source": [
        "# 저장된 파라미터 로드\n",
        "netname = 'my_net_BEST.pkl'\n",
        "model = torch.load(netname)\n",
        "\n",
        "# 성능 확인\n",
        "model.eval()\n",
        "ComputeAccr(test_loader, model)"
      ],
      "execution_count": 19,
      "outputs": [
        {
          "output_type": "stream",
          "text": [
            "/usr/local/lib/python3.7/dist-packages/ipykernel_launcher.py:6: UserWarning: volatile was removed and now has no effect. Use `with torch.no_grad():` instead.\n",
            "  \n"
          ],
          "name": "stderr"
        },
        {
          "output_type": "stream",
          "text": [
            "Accuracy of Test Data: 76.9831771850586\n"
          ],
          "name": "stdout"
        }
      ]
    }
  ]
}